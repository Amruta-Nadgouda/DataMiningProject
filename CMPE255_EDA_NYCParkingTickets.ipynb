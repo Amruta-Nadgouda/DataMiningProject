{
  "nbformat": 4,
  "nbformat_minor": 0,
  "metadata": {
    "colab": {
      "name": "CMPE255_EDA_NYCParkingTickets.ipynb",
      "provenance": [],
      "toc_visible": true,
      "include_colab_link": true
    },
    "kernelspec": {
      "name": "python3",
      "display_name": "Python 3"
    },
    "accelerator": "GPU"
  },
  "cells": [
    {
      "cell_type": "markdown",
      "metadata": {
        "id": "view-in-github",
        "colab_type": "text"
      },
      "source": [
        "<a href=\"https://colab.research.google.com/github/bhaktichowkwale/DataMiningProject/blob/master/CMPE255_EDA_NYCParkingTickets.ipynb\" target=\"_parent\"><img src=\"https://colab.research.google.com/assets/colab-badge.svg\" alt=\"Open In Colab\"/></a>"
      ]
    },
    {
      "cell_type": "markdown",
      "metadata": {
        "id": "_qRw3-uJb6Pg"
      },
      "source": [
        "## NYC Parking tickets Analysis"
      ]
    },
    {
      "cell_type": "markdown",
      "metadata": {
        "id": "jQrTpeKycFlg"
      },
      "source": [
        "## Import required libraries"
      ]
    },
    {
      "cell_type": "code",
      "metadata": {
        "id": "lOAey2nHbn9Z"
      },
      "source": [
        "import numpy as np\n",
        "import pandas as pd\n",
        "import matplotlib.pyplot as plt\n",
        "import seaborn as sns\n",
        "from collections import Counter"
      ],
      "execution_count": null,
      "outputs": []
    },
    {
      "cell_type": "code",
      "metadata": {
        "colab": {
          "base_uri": "https://localhost:8080/"
        },
        "id": "UtSqUCjfcC4q",
        "outputId": "20363a07-aedd-4b26-cf78-4410a1fd400a"
      },
      "source": [
        "from google.colab import drive\n",
        "drive.mount('/content/gdrive')"
      ],
      "execution_count": null,
      "outputs": [
        {
          "output_type": "stream",
          "text": [
            "Mounted at /content/gdrive\n"
          ],
          "name": "stdout"
        }
      ]
    },
    {
      "cell_type": "code",
      "metadata": {
        "colab": {
          "base_uri": "https://localhost:8080/"
        },
        "id": "kVGnVzbJcdcc",
        "outputId": "00f301cc-7526-47f0-ac2b-fdc326526d68"
      },
      "source": [
        "!unzip \"/content/gdrive/My Drive/Parking_Violations_Issued_Fiscal_Year_2015.zip\""
      ],
      "execution_count": null,
      "outputs": [
        {
          "output_type": "stream",
          "text": [
            "Archive:  /content/gdrive/My Drive/Parking_Violations_Issued_Fiscal_Year_2015.zip\n",
            "  inflating: Parking_Violations_Issued_-_Fiscal_Year_2015.csv  \n"
          ],
          "name": "stdout"
        }
      ]
    },
    {
      "cell_type": "code",
      "metadata": {
        "colab": {
          "base_uri": "https://localhost:8080/"
        },
        "id": "_kTDj4-OdNPK",
        "outputId": "417571a1-102f-4c0b-c6db-916cf1fce402"
      },
      "source": [
        "!ls"
      ],
      "execution_count": null,
      "outputs": [
        {
          "output_type": "stream",
          "text": [
            "gdrive\tParking_Violations_Issued_-_Fiscal_Year_2015.csv  sample_data\n"
          ],
          "name": "stdout"
        }
      ]
    },
    {
      "cell_type": "markdown",
      "metadata": {
        "id": "MBMDBJ86dr14"
      },
      "source": [
        "## Load the data"
      ]
    },
    {
      "cell_type": "code",
      "metadata": {
        "colab": {
          "base_uri": "https://localhost:8080/"
        },
        "id": "qThWTUaSdZLK",
        "outputId": "b1256645-8968-47f6-da28-6c20dd79ef41"
      },
      "source": [
        "data_2014_2015 = pd.read_csv(\"Parking_Violations_Issued_-_Fiscal_Year_2015.csv\")"
      ],
      "execution_count": null,
      "outputs": [
        {
          "output_type": "stream",
          "text": [
            "/usr/local/lib/python3.6/dist-packages/IPython/core/interactiveshell.py:2718: DtypeWarning: Columns (18,29,38,40,41,42) have mixed types.Specify dtype option on import or set low_memory=False.\n",
            "  interactivity=interactivity, compiler=compiler, result=result)\n"
          ],
          "name": "stderr"
        }
      ]
    },
    {
      "cell_type": "code",
      "metadata": {
        "colab": {
          "base_uri": "https://localhost:8080/",
          "height": 842
        },
        "id": "6ZLnG37zd_ci",
        "outputId": "e0d8a528-ff33-49e9-f815-153497915425"
      },
      "source": [
        "print(\"There are\", data_2014_2015.shape[0], \"rows and\", data_2014_2015.shape[1], \"columns in the dataframe for the year 2014-2015.\")\n",
        "data_2014_2015"
      ],
      "execution_count": null,
      "outputs": [
        {
          "output_type": "stream",
          "text": [
            "There are 11809233 rows and 51 columns in the dataframe for the year 2014-2015.\n"
          ],
          "name": "stdout"
        },
        {
          "output_type": "execute_result",
          "data": {
            "text/html": [
              "<div>\n",
              "<style scoped>\n",
              "    .dataframe tbody tr th:only-of-type {\n",
              "        vertical-align: middle;\n",
              "    }\n",
              "\n",
              "    .dataframe tbody tr th {\n",
              "        vertical-align: top;\n",
              "    }\n",
              "\n",
              "    .dataframe thead th {\n",
              "        text-align: right;\n",
              "    }\n",
              "</style>\n",
              "<table border=\"1\" class=\"dataframe\">\n",
              "  <thead>\n",
              "    <tr style=\"text-align: right;\">\n",
              "      <th></th>\n",
              "      <th>Summons Number</th>\n",
              "      <th>Plate ID</th>\n",
              "      <th>Registration State</th>\n",
              "      <th>Plate Type</th>\n",
              "      <th>Issue Date</th>\n",
              "      <th>Violation Code</th>\n",
              "      <th>Vehicle Body Type</th>\n",
              "      <th>Vehicle Make</th>\n",
              "      <th>Issuing Agency</th>\n",
              "      <th>Street Code1</th>\n",
              "      <th>Street Code2</th>\n",
              "      <th>Street Code3</th>\n",
              "      <th>Vehicle Expiration Date</th>\n",
              "      <th>Violation Location</th>\n",
              "      <th>Violation Precinct</th>\n",
              "      <th>Issuer Precinct</th>\n",
              "      <th>Issuer Code</th>\n",
              "      <th>Issuer Command</th>\n",
              "      <th>Issuer Squad</th>\n",
              "      <th>Violation Time</th>\n",
              "      <th>Time First Observed</th>\n",
              "      <th>Violation County</th>\n",
              "      <th>Violation In Front Of Or Opposite</th>\n",
              "      <th>House Number</th>\n",
              "      <th>Street Name</th>\n",
              "      <th>Intersecting Street</th>\n",
              "      <th>Date First Observed</th>\n",
              "      <th>Law Section</th>\n",
              "      <th>Sub Division</th>\n",
              "      <th>Violation Legal Code</th>\n",
              "      <th>Days Parking In Effect</th>\n",
              "      <th>From Hours In Effect</th>\n",
              "      <th>To Hours In Effect</th>\n",
              "      <th>Vehicle Color</th>\n",
              "      <th>Unregistered Vehicle?</th>\n",
              "      <th>Vehicle Year</th>\n",
              "      <th>Meter Number</th>\n",
              "      <th>Feet From Curb</th>\n",
              "      <th>Violation Post Code</th>\n",
              "      <th>Violation Description</th>\n",
              "      <th>No Standing or Stopping Violation</th>\n",
              "      <th>Hydrant Violation</th>\n",
              "      <th>Double Parking Violation</th>\n",
              "      <th>Latitude</th>\n",
              "      <th>Longitude</th>\n",
              "      <th>Community Board</th>\n",
              "      <th>Community Council</th>\n",
              "      <th>Census Tract</th>\n",
              "      <th>BIN</th>\n",
              "      <th>BBL</th>\n",
              "      <th>NTA</th>\n",
              "    </tr>\n",
              "  </thead>\n",
              "  <tbody>\n",
              "    <tr>\n",
              "      <th>0</th>\n",
              "      <td>8002531292</td>\n",
              "      <td>EPC5238</td>\n",
              "      <td>NY</td>\n",
              "      <td>PAS</td>\n",
              "      <td>10/01/2014</td>\n",
              "      <td>21</td>\n",
              "      <td>SUBN</td>\n",
              "      <td>CHEVR</td>\n",
              "      <td>T</td>\n",
              "      <td>20390</td>\n",
              "      <td>29890</td>\n",
              "      <td>31490</td>\n",
              "      <td>01/01/20150111 12:00:00 PM</td>\n",
              "      <td>7.0</td>\n",
              "      <td>7</td>\n",
              "      <td>7</td>\n",
              "      <td>345454</td>\n",
              "      <td>T800</td>\n",
              "      <td>A2</td>\n",
              "      <td>0011A</td>\n",
              "      <td>NaN</td>\n",
              "      <td>NY</td>\n",
              "      <td>F</td>\n",
              "      <td>133</td>\n",
              "      <td>Essex St</td>\n",
              "      <td>NaN</td>\n",
              "      <td>01/05/0001 12:00:00 PM</td>\n",
              "      <td>408.0</td>\n",
              "      <td>d1</td>\n",
              "      <td>NaN</td>\n",
              "      <td>Y Y Y</td>\n",
              "      <td>1200A</td>\n",
              "      <td>0300A</td>\n",
              "      <td>BL</td>\n",
              "      <td>NaN</td>\n",
              "      <td>2005.0</td>\n",
              "      <td>NaN</td>\n",
              "      <td>0.0</td>\n",
              "      <td>A 77</td>\n",
              "      <td>21-No Parking (street clean)</td>\n",
              "      <td>NaN</td>\n",
              "      <td>NaN</td>\n",
              "      <td>NaN</td>\n",
              "      <td>NaN</td>\n",
              "      <td>NaN</td>\n",
              "      <td>NaN</td>\n",
              "      <td>NaN</td>\n",
              "      <td>NaN</td>\n",
              "      <td>NaN</td>\n",
              "      <td>NaN</td>\n",
              "      <td>NaN</td>\n",
              "    </tr>\n",
              "    <tr>\n",
              "      <th>1</th>\n",
              "      <td>8015318440</td>\n",
              "      <td>5298MD</td>\n",
              "      <td>NY</td>\n",
              "      <td>COM</td>\n",
              "      <td>03/06/2015</td>\n",
              "      <td>14</td>\n",
              "      <td>VAN</td>\n",
              "      <td>FRUEH</td>\n",
              "      <td>T</td>\n",
              "      <td>27790</td>\n",
              "      <td>19550</td>\n",
              "      <td>19570</td>\n",
              "      <td>01/01/88888888 12:00:00 PM</td>\n",
              "      <td>25.0</td>\n",
              "      <td>25</td>\n",
              "      <td>25</td>\n",
              "      <td>333386</td>\n",
              "      <td>T103</td>\n",
              "      <td>B</td>\n",
              "      <td>0942A</td>\n",
              "      <td>NaN</td>\n",
              "      <td>NY</td>\n",
              "      <td>F</td>\n",
              "      <td>1916</td>\n",
              "      <td>Park Ave</td>\n",
              "      <td>NaN</td>\n",
              "      <td>01/05/0001 12:00:00 PM</td>\n",
              "      <td>408.0</td>\n",
              "      <td>c</td>\n",
              "      <td>NaN</td>\n",
              "      <td>YYYYY</td>\n",
              "      <td>0700A</td>\n",
              "      <td>1000A</td>\n",
              "      <td>BROWN</td>\n",
              "      <td>NaN</td>\n",
              "      <td>0.0</td>\n",
              "      <td>NaN</td>\n",
              "      <td>0.0</td>\n",
              "      <td>CC3</td>\n",
              "      <td>14-No Standing</td>\n",
              "      <td>NaN</td>\n",
              "      <td>NaN</td>\n",
              "      <td>NaN</td>\n",
              "      <td>NaN</td>\n",
              "      <td>NaN</td>\n",
              "      <td>NaN</td>\n",
              "      <td>NaN</td>\n",
              "      <td>NaN</td>\n",
              "      <td>NaN</td>\n",
              "      <td>NaN</td>\n",
              "      <td>NaN</td>\n",
              "    </tr>\n",
              "    <tr>\n",
              "      <th>2</th>\n",
              "      <td>7611181981</td>\n",
              "      <td>FYW2775</td>\n",
              "      <td>NY</td>\n",
              "      <td>PAS</td>\n",
              "      <td>07/28/2014</td>\n",
              "      <td>46</td>\n",
              "      <td>SUBN</td>\n",
              "      <td>SUBAR</td>\n",
              "      <td>T</td>\n",
              "      <td>8130</td>\n",
              "      <td>5430</td>\n",
              "      <td>5580</td>\n",
              "      <td>01/01/20160524 12:00:00 PM</td>\n",
              "      <td>72.0</td>\n",
              "      <td>72</td>\n",
              "      <td>72</td>\n",
              "      <td>331845</td>\n",
              "      <td>T302</td>\n",
              "      <td>L</td>\n",
              "      <td>1020A</td>\n",
              "      <td>NaN</td>\n",
              "      <td>K</td>\n",
              "      <td>F</td>\n",
              "      <td>184</td>\n",
              "      <td>31st St</td>\n",
              "      <td>NaN</td>\n",
              "      <td>01/05/0001 12:00:00 PM</td>\n",
              "      <td>408.0</td>\n",
              "      <td>f1</td>\n",
              "      <td>NaN</td>\n",
              "      <td>NaN</td>\n",
              "      <td>NaN</td>\n",
              "      <td>NaN</td>\n",
              "      <td>BLACK</td>\n",
              "      <td>NaN</td>\n",
              "      <td>2010.0</td>\n",
              "      <td>NaN</td>\n",
              "      <td>0.0</td>\n",
              "      <td>J 32</td>\n",
              "      <td>46A-Double Parking (Non-COM)</td>\n",
              "      <td>NaN</td>\n",
              "      <td>NaN</td>\n",
              "      <td>NaN</td>\n",
              "      <td>NaN</td>\n",
              "      <td>NaN</td>\n",
              "      <td>NaN</td>\n",
              "      <td>NaN</td>\n",
              "      <td>NaN</td>\n",
              "      <td>NaN</td>\n",
              "      <td>NaN</td>\n",
              "      <td>NaN</td>\n",
              "    </tr>\n",
              "    <tr>\n",
              "      <th>3</th>\n",
              "      <td>7445908067</td>\n",
              "      <td>GWE1987</td>\n",
              "      <td>NY</td>\n",
              "      <td>PAS</td>\n",
              "      <td>04/13/2015</td>\n",
              "      <td>19</td>\n",
              "      <td>4DSD</td>\n",
              "      <td>LEXUS</td>\n",
              "      <td>T</td>\n",
              "      <td>59990</td>\n",
              "      <td>16540</td>\n",
              "      <td>16790</td>\n",
              "      <td>01/01/20170111 12:00:00 PM</td>\n",
              "      <td>102.0</td>\n",
              "      <td>102</td>\n",
              "      <td>102</td>\n",
              "      <td>355669</td>\n",
              "      <td>T402</td>\n",
              "      <td>D</td>\n",
              "      <td>0318P</td>\n",
              "      <td>NaN</td>\n",
              "      <td>Q</td>\n",
              "      <td>F</td>\n",
              "      <td>120-20</td>\n",
              "      <td>Queens Blvd</td>\n",
              "      <td>NaN</td>\n",
              "      <td>01/05/0001 12:00:00 PM</td>\n",
              "      <td>408.0</td>\n",
              "      <td>c3</td>\n",
              "      <td>NaN</td>\n",
              "      <td>YYYYY</td>\n",
              "      <td>0300P</td>\n",
              "      <td>1000P</td>\n",
              "      <td>GY</td>\n",
              "      <td>NaN</td>\n",
              "      <td>2015.0</td>\n",
              "      <td>NaN</td>\n",
              "      <td>0.0</td>\n",
              "      <td>01 4</td>\n",
              "      <td>19-No Stand (bus stop)</td>\n",
              "      <td>NaN</td>\n",
              "      <td>NaN</td>\n",
              "      <td>NaN</td>\n",
              "      <td>NaN</td>\n",
              "      <td>NaN</td>\n",
              "      <td>NaN</td>\n",
              "      <td>NaN</td>\n",
              "      <td>NaN</td>\n",
              "      <td>NaN</td>\n",
              "      <td>NaN</td>\n",
              "      <td>NaN</td>\n",
              "    </tr>\n",
              "    <tr>\n",
              "      <th>4</th>\n",
              "      <td>7037692864</td>\n",
              "      <td>T671196C</td>\n",
              "      <td>NY</td>\n",
              "      <td>PAS</td>\n",
              "      <td>05/19/2015</td>\n",
              "      <td>19</td>\n",
              "      <td>4DSD</td>\n",
              "      <td>CHRYS</td>\n",
              "      <td>T</td>\n",
              "      <td>36090</td>\n",
              "      <td>10410</td>\n",
              "      <td>24690</td>\n",
              "      <td>01/01/88888888 12:00:00 PM</td>\n",
              "      <td>28.0</td>\n",
              "      <td>28</td>\n",
              "      <td>28</td>\n",
              "      <td>341248</td>\n",
              "      <td>T103</td>\n",
              "      <td>X</td>\n",
              "      <td>0410P</td>\n",
              "      <td>NaN</td>\n",
              "      <td>NY</td>\n",
              "      <td>F</td>\n",
              "      <td>66</td>\n",
              "      <td>W 116th St</td>\n",
              "      <td>NaN</td>\n",
              "      <td>01/05/0001 12:00:00 PM</td>\n",
              "      <td>408.0</td>\n",
              "      <td>c3</td>\n",
              "      <td>NaN</td>\n",
              "      <td>YYYYYYY</td>\n",
              "      <td>NaN</td>\n",
              "      <td>NaN</td>\n",
              "      <td>BLACK</td>\n",
              "      <td>NaN</td>\n",
              "      <td>0.0</td>\n",
              "      <td>NaN</td>\n",
              "      <td>0.0</td>\n",
              "      <td>19 7</td>\n",
              "      <td>19-No Stand (bus stop)</td>\n",
              "      <td>NaN</td>\n",
              "      <td>NaN</td>\n",
              "      <td>NaN</td>\n",
              "      <td>NaN</td>\n",
              "      <td>NaN</td>\n",
              "      <td>NaN</td>\n",
              "      <td>NaN</td>\n",
              "      <td>NaN</td>\n",
              "      <td>NaN</td>\n",
              "      <td>NaN</td>\n",
              "      <td>NaN</td>\n",
              "    </tr>\n",
              "    <tr>\n",
              "      <th>...</th>\n",
              "      <td>...</td>\n",
              "      <td>...</td>\n",
              "      <td>...</td>\n",
              "      <td>...</td>\n",
              "      <td>...</td>\n",
              "      <td>...</td>\n",
              "      <td>...</td>\n",
              "      <td>...</td>\n",
              "      <td>...</td>\n",
              "      <td>...</td>\n",
              "      <td>...</td>\n",
              "      <td>...</td>\n",
              "      <td>...</td>\n",
              "      <td>...</td>\n",
              "      <td>...</td>\n",
              "      <td>...</td>\n",
              "      <td>...</td>\n",
              "      <td>...</td>\n",
              "      <td>...</td>\n",
              "      <td>...</td>\n",
              "      <td>...</td>\n",
              "      <td>...</td>\n",
              "      <td>...</td>\n",
              "      <td>...</td>\n",
              "      <td>...</td>\n",
              "      <td>...</td>\n",
              "      <td>...</td>\n",
              "      <td>...</td>\n",
              "      <td>...</td>\n",
              "      <td>...</td>\n",
              "      <td>...</td>\n",
              "      <td>...</td>\n",
              "      <td>...</td>\n",
              "      <td>...</td>\n",
              "      <td>...</td>\n",
              "      <td>...</td>\n",
              "      <td>...</td>\n",
              "      <td>...</td>\n",
              "      <td>...</td>\n",
              "      <td>...</td>\n",
              "      <td>...</td>\n",
              "      <td>...</td>\n",
              "      <td>...</td>\n",
              "      <td>...</td>\n",
              "      <td>...</td>\n",
              "      <td>...</td>\n",
              "      <td>...</td>\n",
              "      <td>...</td>\n",
              "      <td>...</td>\n",
              "      <td>...</td>\n",
              "      <td>...</td>\n",
              "    </tr>\n",
              "    <tr>\n",
              "      <th>11809228</th>\n",
              "      <td>8035170326</td>\n",
              "      <td>VCT8217</td>\n",
              "      <td>VA</td>\n",
              "      <td>PAS</td>\n",
              "      <td>05/19/2015</td>\n",
              "      <td>14</td>\n",
              "      <td>4DSD</td>\n",
              "      <td>HONDA</td>\n",
              "      <td>T</td>\n",
              "      <td>72830</td>\n",
              "      <td>82930</td>\n",
              "      <td>73190</td>\n",
              "      <td>01/01/20150988 12:00:00 PM</td>\n",
              "      <td>81.0</td>\n",
              "      <td>81</td>\n",
              "      <td>81</td>\n",
              "      <td>346199</td>\n",
              "      <td>T301</td>\n",
              "      <td>L</td>\n",
              "      <td>0137P</td>\n",
              "      <td>NaN</td>\n",
              "      <td>K</td>\n",
              "      <td>O</td>\n",
              "      <td>424</td>\n",
              "      <td>Pulaski St</td>\n",
              "      <td>NaN</td>\n",
              "      <td>01/05/0001 12:00:00 PM</td>\n",
              "      <td>408.0</td>\n",
              "      <td>c</td>\n",
              "      <td>NaN</td>\n",
              "      <td>YYYYYYY</td>\n",
              "      <td>NaN</td>\n",
              "      <td>NaN</td>\n",
              "      <td>BLACK</td>\n",
              "      <td>NaN</td>\n",
              "      <td>0.0</td>\n",
              "      <td>NaN</td>\n",
              "      <td>0.0</td>\n",
              "      <td>A 31</td>\n",
              "      <td>14-No Standing</td>\n",
              "      <td>NaN</td>\n",
              "      <td>NaN</td>\n",
              "      <td>NaN</td>\n",
              "      <td>NaN</td>\n",
              "      <td>NaN</td>\n",
              "      <td>NaN</td>\n",
              "      <td>NaN</td>\n",
              "      <td>NaN</td>\n",
              "      <td>NaN</td>\n",
              "      <td>NaN</td>\n",
              "      <td>NaN</td>\n",
              "    </tr>\n",
              "    <tr>\n",
              "      <th>11809229</th>\n",
              "      <td>8005276357</td>\n",
              "      <td>GHK4864</td>\n",
              "      <td>NY</td>\n",
              "      <td>PAS</td>\n",
              "      <td>10/20/2014</td>\n",
              "      <td>31</td>\n",
              "      <td>SUBN</td>\n",
              "      <td>ME/BE</td>\n",
              "      <td>T</td>\n",
              "      <td>34210</td>\n",
              "      <td>10410</td>\n",
              "      <td>10510</td>\n",
              "      <td>01/01/20150710 12:00:00 PM</td>\n",
              "      <td>14.0</td>\n",
              "      <td>14</td>\n",
              "      <td>14</td>\n",
              "      <td>359305</td>\n",
              "      <td>T102</td>\n",
              "      <td>K</td>\n",
              "      <td>0122P</td>\n",
              "      <td>NaN</td>\n",
              "      <td>NY</td>\n",
              "      <td>F</td>\n",
              "      <td>52</td>\n",
              "      <td>W 22nd St</td>\n",
              "      <td>NaN</td>\n",
              "      <td>01/05/0001 12:00:00 PM</td>\n",
              "      <td>408.0</td>\n",
              "      <td>l3</td>\n",
              "      <td>NaN</td>\n",
              "      <td>YYYYY</td>\n",
              "      <td>0800A</td>\n",
              "      <td>0600P</td>\n",
              "      <td>GY</td>\n",
              "      <td>NaN</td>\n",
              "      <td>2013.0</td>\n",
              "      <td>NaN</td>\n",
              "      <td>0.0</td>\n",
              "      <td>03 6</td>\n",
              "      <td>31-No Stand (Com. Mtr. Zone)</td>\n",
              "      <td>NaN</td>\n",
              "      <td>NaN</td>\n",
              "      <td>NaN</td>\n",
              "      <td>NaN</td>\n",
              "      <td>NaN</td>\n",
              "      <td>NaN</td>\n",
              "      <td>NaN</td>\n",
              "      <td>NaN</td>\n",
              "      <td>NaN</td>\n",
              "      <td>NaN</td>\n",
              "      <td>NaN</td>\n",
              "    </tr>\n",
              "    <tr>\n",
              "      <th>11809230</th>\n",
              "      <td>7155525273</td>\n",
              "      <td>T616724C</td>\n",
              "      <td>NY</td>\n",
              "      <td>OMT</td>\n",
              "      <td>09/25/2014</td>\n",
              "      <td>31</td>\n",
              "      <td>4DSD</td>\n",
              "      <td>LINCO</td>\n",
              "      <td>T</td>\n",
              "      <td>10610</td>\n",
              "      <td>34750</td>\n",
              "      <td>34770</td>\n",
              "      <td>01/01/20141031 12:00:00 PM</td>\n",
              "      <td>18.0</td>\n",
              "      <td>18</td>\n",
              "      <td>18</td>\n",
              "      <td>357700</td>\n",
              "      <td>T106</td>\n",
              "      <td>H</td>\n",
              "      <td>0222P</td>\n",
              "      <td>NaN</td>\n",
              "      <td>NY</td>\n",
              "      <td>F</td>\n",
              "      <td>745</td>\n",
              "      <td>7th Ave</td>\n",
              "      <td>NaN</td>\n",
              "      <td>01/05/0001 12:00:00 PM</td>\n",
              "      <td>408.0</td>\n",
              "      <td>l3</td>\n",
              "      <td>NaN</td>\n",
              "      <td>YYYYY</td>\n",
              "      <td>0700A</td>\n",
              "      <td>0600P</td>\n",
              "      <td>BLACK</td>\n",
              "      <td>NaN</td>\n",
              "      <td>2007.0</td>\n",
              "      <td>NaN</td>\n",
              "      <td>0.0</td>\n",
              "      <td>99 6</td>\n",
              "      <td>31-No Stand (Com. Mtr. Zone)</td>\n",
              "      <td>NaN</td>\n",
              "      <td>NaN</td>\n",
              "      <td>NaN</td>\n",
              "      <td>NaN</td>\n",
              "      <td>NaN</td>\n",
              "      <td>NaN</td>\n",
              "      <td>NaN</td>\n",
              "      <td>NaN</td>\n",
              "      <td>NaN</td>\n",
              "      <td>NaN</td>\n",
              "      <td>NaN</td>\n",
              "    </tr>\n",
              "    <tr>\n",
              "      <th>11809231</th>\n",
              "      <td>8044311063</td>\n",
              "      <td>97720MD</td>\n",
              "      <td>NY</td>\n",
              "      <td>COM</td>\n",
              "      <td>06/03/2015</td>\n",
              "      <td>51</td>\n",
              "      <td>DUMP</td>\n",
              "      <td>PETER</td>\n",
              "      <td>T</td>\n",
              "      <td>10540</td>\n",
              "      <td>12140</td>\n",
              "      <td>47290</td>\n",
              "      <td>01/01/20151031 12:00:00 PM</td>\n",
              "      <td>104.0</td>\n",
              "      <td>104</td>\n",
              "      <td>104</td>\n",
              "      <td>361081</td>\n",
              "      <td>T401</td>\n",
              "      <td>N</td>\n",
              "      <td>0617P</td>\n",
              "      <td>NaN</td>\n",
              "      <td>Q</td>\n",
              "      <td>F</td>\n",
              "      <td>58-26</td>\n",
              "      <td>47th St</td>\n",
              "      <td>NaN</td>\n",
              "      <td>01/05/0001 12:00:00 PM</td>\n",
              "      <td>408.0</td>\n",
              "      <td>e3</td>\n",
              "      <td>NaN</td>\n",
              "      <td>NaN</td>\n",
              "      <td>NaN</td>\n",
              "      <td>NaN</td>\n",
              "      <td>WHITE</td>\n",
              "      <td>NaN</td>\n",
              "      <td>1995.0</td>\n",
              "      <td>NaN</td>\n",
              "      <td>0.0</td>\n",
              "      <td>K 41</td>\n",
              "      <td>51-Sidewalk</td>\n",
              "      <td>NaN</td>\n",
              "      <td>NaN</td>\n",
              "      <td>NaN</td>\n",
              "      <td>NaN</td>\n",
              "      <td>NaN</td>\n",
              "      <td>NaN</td>\n",
              "      <td>NaN</td>\n",
              "      <td>NaN</td>\n",
              "      <td>NaN</td>\n",
              "      <td>NaN</td>\n",
              "      <td>NaN</td>\n",
              "    </tr>\n",
              "    <tr>\n",
              "      <th>11809232</th>\n",
              "      <td>7684965852</td>\n",
              "      <td>73040KA</td>\n",
              "      <td>NY</td>\n",
              "      <td>COM</td>\n",
              "      <td>06/16/2015</td>\n",
              "      <td>69</td>\n",
              "      <td>VAN</td>\n",
              "      <td>FORD</td>\n",
              "      <td>T</td>\n",
              "      <td>34090</td>\n",
              "      <td>10810</td>\n",
              "      <td>10910</td>\n",
              "      <td>01/01/20160630 12:00:00 PM</td>\n",
              "      <td>10.0</td>\n",
              "      <td>10</td>\n",
              "      <td>10</td>\n",
              "      <td>355079</td>\n",
              "      <td>T102</td>\n",
              "      <td>H</td>\n",
              "      <td>0810A</td>\n",
              "      <td>NaN</td>\n",
              "      <td>NY</td>\n",
              "      <td>O</td>\n",
              "      <td>319</td>\n",
              "      <td>W 16th St</td>\n",
              "      <td>NaN</td>\n",
              "      <td>01/05/0001 12:00:00 PM</td>\n",
              "      <td>408.0</td>\n",
              "      <td>h1</td>\n",
              "      <td>NaN</td>\n",
              "      <td>YYYYY</td>\n",
              "      <td>0800A</td>\n",
              "      <td>0600P</td>\n",
              "      <td>WH</td>\n",
              "      <td>NaN</td>\n",
              "      <td>2006.0</td>\n",
              "      <td>NaN</td>\n",
              "      <td>0.0</td>\n",
              "      <td>03 6</td>\n",
              "      <td>69-Failure to Disp Muni Recpt</td>\n",
              "      <td>NaN</td>\n",
              "      <td>NaN</td>\n",
              "      <td>NaN</td>\n",
              "      <td>NaN</td>\n",
              "      <td>NaN</td>\n",
              "      <td>NaN</td>\n",
              "      <td>NaN</td>\n",
              "      <td>NaN</td>\n",
              "      <td>NaN</td>\n",
              "      <td>NaN</td>\n",
              "      <td>NaN</td>\n",
              "    </tr>\n",
              "  </tbody>\n",
              "</table>\n",
              "<p>11809233 rows × 51 columns</p>\n",
              "</div>"
            ],
            "text/plain": [
              "          Summons Number  Plate ID Registration State  ... BIN BBL  NTA\n",
              "0             8002531292   EPC5238                 NY  ... NaN NaN  NaN\n",
              "1             8015318440    5298MD                 NY  ... NaN NaN  NaN\n",
              "2             7611181981   FYW2775                 NY  ... NaN NaN  NaN\n",
              "3             7445908067   GWE1987                 NY  ... NaN NaN  NaN\n",
              "4             7037692864  T671196C                 NY  ... NaN NaN  NaN\n",
              "...                  ...       ...                ...  ...  ..  ..  ...\n",
              "11809228      8035170326   VCT8217                 VA  ... NaN NaN  NaN\n",
              "11809229      8005276357   GHK4864                 NY  ... NaN NaN  NaN\n",
              "11809230      7155525273  T616724C                 NY  ... NaN NaN  NaN\n",
              "11809231      8044311063   97720MD                 NY  ... NaN NaN  NaN\n",
              "11809232      7684965852   73040KA                 NY  ... NaN NaN  NaN\n",
              "\n",
              "[11809233 rows x 51 columns]"
            ]
          },
          "metadata": {
            "tags": []
          },
          "execution_count": 9
        }
      ]
    },
    {
      "cell_type": "code",
      "metadata": {
        "colab": {
          "base_uri": "https://localhost:8080/",
          "height": 825
        },
        "id": "RQI-8y8Tmywk",
        "outputId": "94cb64f9-a376-4cd2-f642-d35c32325fa6"
      },
      "source": [
        "data_2014_2015_df = pd.DataFrame(data_2014_2015)\n",
        "data_2014_2015_df"
      ],
      "execution_count": null,
      "outputs": [
        {
          "output_type": "execute_result",
          "data": {
            "text/html": [
              "<div>\n",
              "<style scoped>\n",
              "    .dataframe tbody tr th:only-of-type {\n",
              "        vertical-align: middle;\n",
              "    }\n",
              "\n",
              "    .dataframe tbody tr th {\n",
              "        vertical-align: top;\n",
              "    }\n",
              "\n",
              "    .dataframe thead th {\n",
              "        text-align: right;\n",
              "    }\n",
              "</style>\n",
              "<table border=\"1\" class=\"dataframe\">\n",
              "  <thead>\n",
              "    <tr style=\"text-align: right;\">\n",
              "      <th></th>\n",
              "      <th>Summons Number</th>\n",
              "      <th>Plate ID</th>\n",
              "      <th>Registration State</th>\n",
              "      <th>Plate Type</th>\n",
              "      <th>Issue Date</th>\n",
              "      <th>Violation Code</th>\n",
              "      <th>Vehicle Body Type</th>\n",
              "      <th>Vehicle Make</th>\n",
              "      <th>Issuing Agency</th>\n",
              "      <th>Street Code1</th>\n",
              "      <th>Street Code2</th>\n",
              "      <th>Street Code3</th>\n",
              "      <th>Vehicle Expiration Date</th>\n",
              "      <th>Violation Location</th>\n",
              "      <th>Violation Precinct</th>\n",
              "      <th>Issuer Precinct</th>\n",
              "      <th>Issuer Code</th>\n",
              "      <th>Issuer Command</th>\n",
              "      <th>Issuer Squad</th>\n",
              "      <th>Violation Time</th>\n",
              "      <th>Time First Observed</th>\n",
              "      <th>Violation County</th>\n",
              "      <th>Violation In Front Of Or Opposite</th>\n",
              "      <th>House Number</th>\n",
              "      <th>Street Name</th>\n",
              "      <th>Intersecting Street</th>\n",
              "      <th>Date First Observed</th>\n",
              "      <th>Law Section</th>\n",
              "      <th>Sub Division</th>\n",
              "      <th>Violation Legal Code</th>\n",
              "      <th>Days Parking In Effect</th>\n",
              "      <th>From Hours In Effect</th>\n",
              "      <th>To Hours In Effect</th>\n",
              "      <th>Vehicle Color</th>\n",
              "      <th>Unregistered Vehicle?</th>\n",
              "      <th>Vehicle Year</th>\n",
              "      <th>Meter Number</th>\n",
              "      <th>Feet From Curb</th>\n",
              "      <th>Violation Post Code</th>\n",
              "      <th>Violation Description</th>\n",
              "      <th>No Standing or Stopping Violation</th>\n",
              "      <th>Hydrant Violation</th>\n",
              "      <th>Double Parking Violation</th>\n",
              "      <th>Latitude</th>\n",
              "      <th>Longitude</th>\n",
              "      <th>Community Board</th>\n",
              "      <th>Community Council</th>\n",
              "      <th>Census Tract</th>\n",
              "      <th>BIN</th>\n",
              "      <th>BBL</th>\n",
              "      <th>NTA</th>\n",
              "    </tr>\n",
              "  </thead>\n",
              "  <tbody>\n",
              "    <tr>\n",
              "      <th>0</th>\n",
              "      <td>8002531292</td>\n",
              "      <td>EPC5238</td>\n",
              "      <td>NY</td>\n",
              "      <td>PAS</td>\n",
              "      <td>10/01/2014</td>\n",
              "      <td>21</td>\n",
              "      <td>SUBN</td>\n",
              "      <td>CHEVR</td>\n",
              "      <td>T</td>\n",
              "      <td>20390</td>\n",
              "      <td>29890</td>\n",
              "      <td>31490</td>\n",
              "      <td>01/01/20150111 12:00:00 PM</td>\n",
              "      <td>7.0</td>\n",
              "      <td>7</td>\n",
              "      <td>7</td>\n",
              "      <td>345454</td>\n",
              "      <td>T800</td>\n",
              "      <td>A2</td>\n",
              "      <td>0011A</td>\n",
              "      <td>NaN</td>\n",
              "      <td>NY</td>\n",
              "      <td>F</td>\n",
              "      <td>133</td>\n",
              "      <td>Essex St</td>\n",
              "      <td>NaN</td>\n",
              "      <td>01/05/0001 12:00:00 PM</td>\n",
              "      <td>408.0</td>\n",
              "      <td>d1</td>\n",
              "      <td>NaN</td>\n",
              "      <td>Y Y Y</td>\n",
              "      <td>1200A</td>\n",
              "      <td>0300A</td>\n",
              "      <td>BL</td>\n",
              "      <td>NaN</td>\n",
              "      <td>2005.0</td>\n",
              "      <td>NaN</td>\n",
              "      <td>0.0</td>\n",
              "      <td>A 77</td>\n",
              "      <td>21-No Parking (street clean)</td>\n",
              "      <td>NaN</td>\n",
              "      <td>NaN</td>\n",
              "      <td>NaN</td>\n",
              "      <td>NaN</td>\n",
              "      <td>NaN</td>\n",
              "      <td>NaN</td>\n",
              "      <td>NaN</td>\n",
              "      <td>NaN</td>\n",
              "      <td>NaN</td>\n",
              "      <td>NaN</td>\n",
              "      <td>NaN</td>\n",
              "    </tr>\n",
              "    <tr>\n",
              "      <th>1</th>\n",
              "      <td>8015318440</td>\n",
              "      <td>5298MD</td>\n",
              "      <td>NY</td>\n",
              "      <td>COM</td>\n",
              "      <td>03/06/2015</td>\n",
              "      <td>14</td>\n",
              "      <td>VAN</td>\n",
              "      <td>FRUEH</td>\n",
              "      <td>T</td>\n",
              "      <td>27790</td>\n",
              "      <td>19550</td>\n",
              "      <td>19570</td>\n",
              "      <td>01/01/88888888 12:00:00 PM</td>\n",
              "      <td>25.0</td>\n",
              "      <td>25</td>\n",
              "      <td>25</td>\n",
              "      <td>333386</td>\n",
              "      <td>T103</td>\n",
              "      <td>B</td>\n",
              "      <td>0942A</td>\n",
              "      <td>NaN</td>\n",
              "      <td>NY</td>\n",
              "      <td>F</td>\n",
              "      <td>1916</td>\n",
              "      <td>Park Ave</td>\n",
              "      <td>NaN</td>\n",
              "      <td>01/05/0001 12:00:00 PM</td>\n",
              "      <td>408.0</td>\n",
              "      <td>c</td>\n",
              "      <td>NaN</td>\n",
              "      <td>YYYYY</td>\n",
              "      <td>0700A</td>\n",
              "      <td>1000A</td>\n",
              "      <td>BROWN</td>\n",
              "      <td>NaN</td>\n",
              "      <td>0.0</td>\n",
              "      <td>NaN</td>\n",
              "      <td>0.0</td>\n",
              "      <td>CC3</td>\n",
              "      <td>14-No Standing</td>\n",
              "      <td>NaN</td>\n",
              "      <td>NaN</td>\n",
              "      <td>NaN</td>\n",
              "      <td>NaN</td>\n",
              "      <td>NaN</td>\n",
              "      <td>NaN</td>\n",
              "      <td>NaN</td>\n",
              "      <td>NaN</td>\n",
              "      <td>NaN</td>\n",
              "      <td>NaN</td>\n",
              "      <td>NaN</td>\n",
              "    </tr>\n",
              "    <tr>\n",
              "      <th>2</th>\n",
              "      <td>7611181981</td>\n",
              "      <td>FYW2775</td>\n",
              "      <td>NY</td>\n",
              "      <td>PAS</td>\n",
              "      <td>07/28/2014</td>\n",
              "      <td>46</td>\n",
              "      <td>SUBN</td>\n",
              "      <td>SUBAR</td>\n",
              "      <td>T</td>\n",
              "      <td>8130</td>\n",
              "      <td>5430</td>\n",
              "      <td>5580</td>\n",
              "      <td>01/01/20160524 12:00:00 PM</td>\n",
              "      <td>72.0</td>\n",
              "      <td>72</td>\n",
              "      <td>72</td>\n",
              "      <td>331845</td>\n",
              "      <td>T302</td>\n",
              "      <td>L</td>\n",
              "      <td>1020A</td>\n",
              "      <td>NaN</td>\n",
              "      <td>K</td>\n",
              "      <td>F</td>\n",
              "      <td>184</td>\n",
              "      <td>31st St</td>\n",
              "      <td>NaN</td>\n",
              "      <td>01/05/0001 12:00:00 PM</td>\n",
              "      <td>408.0</td>\n",
              "      <td>f1</td>\n",
              "      <td>NaN</td>\n",
              "      <td>NaN</td>\n",
              "      <td>NaN</td>\n",
              "      <td>NaN</td>\n",
              "      <td>BLACK</td>\n",
              "      <td>NaN</td>\n",
              "      <td>2010.0</td>\n",
              "      <td>NaN</td>\n",
              "      <td>0.0</td>\n",
              "      <td>J 32</td>\n",
              "      <td>46A-Double Parking (Non-COM)</td>\n",
              "      <td>NaN</td>\n",
              "      <td>NaN</td>\n",
              "      <td>NaN</td>\n",
              "      <td>NaN</td>\n",
              "      <td>NaN</td>\n",
              "      <td>NaN</td>\n",
              "      <td>NaN</td>\n",
              "      <td>NaN</td>\n",
              "      <td>NaN</td>\n",
              "      <td>NaN</td>\n",
              "      <td>NaN</td>\n",
              "    </tr>\n",
              "    <tr>\n",
              "      <th>3</th>\n",
              "      <td>7445908067</td>\n",
              "      <td>GWE1987</td>\n",
              "      <td>NY</td>\n",
              "      <td>PAS</td>\n",
              "      <td>04/13/2015</td>\n",
              "      <td>19</td>\n",
              "      <td>4DSD</td>\n",
              "      <td>LEXUS</td>\n",
              "      <td>T</td>\n",
              "      <td>59990</td>\n",
              "      <td>16540</td>\n",
              "      <td>16790</td>\n",
              "      <td>01/01/20170111 12:00:00 PM</td>\n",
              "      <td>102.0</td>\n",
              "      <td>102</td>\n",
              "      <td>102</td>\n",
              "      <td>355669</td>\n",
              "      <td>T402</td>\n",
              "      <td>D</td>\n",
              "      <td>0318P</td>\n",
              "      <td>NaN</td>\n",
              "      <td>Q</td>\n",
              "      <td>F</td>\n",
              "      <td>120-20</td>\n",
              "      <td>Queens Blvd</td>\n",
              "      <td>NaN</td>\n",
              "      <td>01/05/0001 12:00:00 PM</td>\n",
              "      <td>408.0</td>\n",
              "      <td>c3</td>\n",
              "      <td>NaN</td>\n",
              "      <td>YYYYY</td>\n",
              "      <td>0300P</td>\n",
              "      <td>1000P</td>\n",
              "      <td>GY</td>\n",
              "      <td>NaN</td>\n",
              "      <td>2015.0</td>\n",
              "      <td>NaN</td>\n",
              "      <td>0.0</td>\n",
              "      <td>01 4</td>\n",
              "      <td>19-No Stand (bus stop)</td>\n",
              "      <td>NaN</td>\n",
              "      <td>NaN</td>\n",
              "      <td>NaN</td>\n",
              "      <td>NaN</td>\n",
              "      <td>NaN</td>\n",
              "      <td>NaN</td>\n",
              "      <td>NaN</td>\n",
              "      <td>NaN</td>\n",
              "      <td>NaN</td>\n",
              "      <td>NaN</td>\n",
              "      <td>NaN</td>\n",
              "    </tr>\n",
              "    <tr>\n",
              "      <th>4</th>\n",
              "      <td>7037692864</td>\n",
              "      <td>T671196C</td>\n",
              "      <td>NY</td>\n",
              "      <td>PAS</td>\n",
              "      <td>05/19/2015</td>\n",
              "      <td>19</td>\n",
              "      <td>4DSD</td>\n",
              "      <td>CHRYS</td>\n",
              "      <td>T</td>\n",
              "      <td>36090</td>\n",
              "      <td>10410</td>\n",
              "      <td>24690</td>\n",
              "      <td>01/01/88888888 12:00:00 PM</td>\n",
              "      <td>28.0</td>\n",
              "      <td>28</td>\n",
              "      <td>28</td>\n",
              "      <td>341248</td>\n",
              "      <td>T103</td>\n",
              "      <td>X</td>\n",
              "      <td>0410P</td>\n",
              "      <td>NaN</td>\n",
              "      <td>NY</td>\n",
              "      <td>F</td>\n",
              "      <td>66</td>\n",
              "      <td>W 116th St</td>\n",
              "      <td>NaN</td>\n",
              "      <td>01/05/0001 12:00:00 PM</td>\n",
              "      <td>408.0</td>\n",
              "      <td>c3</td>\n",
              "      <td>NaN</td>\n",
              "      <td>YYYYYYY</td>\n",
              "      <td>NaN</td>\n",
              "      <td>NaN</td>\n",
              "      <td>BLACK</td>\n",
              "      <td>NaN</td>\n",
              "      <td>0.0</td>\n",
              "      <td>NaN</td>\n",
              "      <td>0.0</td>\n",
              "      <td>19 7</td>\n",
              "      <td>19-No Stand (bus stop)</td>\n",
              "      <td>NaN</td>\n",
              "      <td>NaN</td>\n",
              "      <td>NaN</td>\n",
              "      <td>NaN</td>\n",
              "      <td>NaN</td>\n",
              "      <td>NaN</td>\n",
              "      <td>NaN</td>\n",
              "      <td>NaN</td>\n",
              "      <td>NaN</td>\n",
              "      <td>NaN</td>\n",
              "      <td>NaN</td>\n",
              "    </tr>\n",
              "    <tr>\n",
              "      <th>...</th>\n",
              "      <td>...</td>\n",
              "      <td>...</td>\n",
              "      <td>...</td>\n",
              "      <td>...</td>\n",
              "      <td>...</td>\n",
              "      <td>...</td>\n",
              "      <td>...</td>\n",
              "      <td>...</td>\n",
              "      <td>...</td>\n",
              "      <td>...</td>\n",
              "      <td>...</td>\n",
              "      <td>...</td>\n",
              "      <td>...</td>\n",
              "      <td>...</td>\n",
              "      <td>...</td>\n",
              "      <td>...</td>\n",
              "      <td>...</td>\n",
              "      <td>...</td>\n",
              "      <td>...</td>\n",
              "      <td>...</td>\n",
              "      <td>...</td>\n",
              "      <td>...</td>\n",
              "      <td>...</td>\n",
              "      <td>...</td>\n",
              "      <td>...</td>\n",
              "      <td>...</td>\n",
              "      <td>...</td>\n",
              "      <td>...</td>\n",
              "      <td>...</td>\n",
              "      <td>...</td>\n",
              "      <td>...</td>\n",
              "      <td>...</td>\n",
              "      <td>...</td>\n",
              "      <td>...</td>\n",
              "      <td>...</td>\n",
              "      <td>...</td>\n",
              "      <td>...</td>\n",
              "      <td>...</td>\n",
              "      <td>...</td>\n",
              "      <td>...</td>\n",
              "      <td>...</td>\n",
              "      <td>...</td>\n",
              "      <td>...</td>\n",
              "      <td>...</td>\n",
              "      <td>...</td>\n",
              "      <td>...</td>\n",
              "      <td>...</td>\n",
              "      <td>...</td>\n",
              "      <td>...</td>\n",
              "      <td>...</td>\n",
              "      <td>...</td>\n",
              "    </tr>\n",
              "    <tr>\n",
              "      <th>11809228</th>\n",
              "      <td>8035170326</td>\n",
              "      <td>VCT8217</td>\n",
              "      <td>VA</td>\n",
              "      <td>PAS</td>\n",
              "      <td>05/19/2015</td>\n",
              "      <td>14</td>\n",
              "      <td>4DSD</td>\n",
              "      <td>HONDA</td>\n",
              "      <td>T</td>\n",
              "      <td>72830</td>\n",
              "      <td>82930</td>\n",
              "      <td>73190</td>\n",
              "      <td>01/01/20150988 12:00:00 PM</td>\n",
              "      <td>81.0</td>\n",
              "      <td>81</td>\n",
              "      <td>81</td>\n",
              "      <td>346199</td>\n",
              "      <td>T301</td>\n",
              "      <td>L</td>\n",
              "      <td>0137P</td>\n",
              "      <td>NaN</td>\n",
              "      <td>K</td>\n",
              "      <td>O</td>\n",
              "      <td>424</td>\n",
              "      <td>Pulaski St</td>\n",
              "      <td>NaN</td>\n",
              "      <td>01/05/0001 12:00:00 PM</td>\n",
              "      <td>408.0</td>\n",
              "      <td>c</td>\n",
              "      <td>NaN</td>\n",
              "      <td>YYYYYYY</td>\n",
              "      <td>NaN</td>\n",
              "      <td>NaN</td>\n",
              "      <td>BLACK</td>\n",
              "      <td>NaN</td>\n",
              "      <td>0.0</td>\n",
              "      <td>NaN</td>\n",
              "      <td>0.0</td>\n",
              "      <td>A 31</td>\n",
              "      <td>14-No Standing</td>\n",
              "      <td>NaN</td>\n",
              "      <td>NaN</td>\n",
              "      <td>NaN</td>\n",
              "      <td>NaN</td>\n",
              "      <td>NaN</td>\n",
              "      <td>NaN</td>\n",
              "      <td>NaN</td>\n",
              "      <td>NaN</td>\n",
              "      <td>NaN</td>\n",
              "      <td>NaN</td>\n",
              "      <td>NaN</td>\n",
              "    </tr>\n",
              "    <tr>\n",
              "      <th>11809229</th>\n",
              "      <td>8005276357</td>\n",
              "      <td>GHK4864</td>\n",
              "      <td>NY</td>\n",
              "      <td>PAS</td>\n",
              "      <td>10/20/2014</td>\n",
              "      <td>31</td>\n",
              "      <td>SUBN</td>\n",
              "      <td>ME/BE</td>\n",
              "      <td>T</td>\n",
              "      <td>34210</td>\n",
              "      <td>10410</td>\n",
              "      <td>10510</td>\n",
              "      <td>01/01/20150710 12:00:00 PM</td>\n",
              "      <td>14.0</td>\n",
              "      <td>14</td>\n",
              "      <td>14</td>\n",
              "      <td>359305</td>\n",
              "      <td>T102</td>\n",
              "      <td>K</td>\n",
              "      <td>0122P</td>\n",
              "      <td>NaN</td>\n",
              "      <td>NY</td>\n",
              "      <td>F</td>\n",
              "      <td>52</td>\n",
              "      <td>W 22nd St</td>\n",
              "      <td>NaN</td>\n",
              "      <td>01/05/0001 12:00:00 PM</td>\n",
              "      <td>408.0</td>\n",
              "      <td>l3</td>\n",
              "      <td>NaN</td>\n",
              "      <td>YYYYY</td>\n",
              "      <td>0800A</td>\n",
              "      <td>0600P</td>\n",
              "      <td>GY</td>\n",
              "      <td>NaN</td>\n",
              "      <td>2013.0</td>\n",
              "      <td>NaN</td>\n",
              "      <td>0.0</td>\n",
              "      <td>03 6</td>\n",
              "      <td>31-No Stand (Com. Mtr. Zone)</td>\n",
              "      <td>NaN</td>\n",
              "      <td>NaN</td>\n",
              "      <td>NaN</td>\n",
              "      <td>NaN</td>\n",
              "      <td>NaN</td>\n",
              "      <td>NaN</td>\n",
              "      <td>NaN</td>\n",
              "      <td>NaN</td>\n",
              "      <td>NaN</td>\n",
              "      <td>NaN</td>\n",
              "      <td>NaN</td>\n",
              "    </tr>\n",
              "    <tr>\n",
              "      <th>11809230</th>\n",
              "      <td>7155525273</td>\n",
              "      <td>T616724C</td>\n",
              "      <td>NY</td>\n",
              "      <td>OMT</td>\n",
              "      <td>09/25/2014</td>\n",
              "      <td>31</td>\n",
              "      <td>4DSD</td>\n",
              "      <td>LINCO</td>\n",
              "      <td>T</td>\n",
              "      <td>10610</td>\n",
              "      <td>34750</td>\n",
              "      <td>34770</td>\n",
              "      <td>01/01/20141031 12:00:00 PM</td>\n",
              "      <td>18.0</td>\n",
              "      <td>18</td>\n",
              "      <td>18</td>\n",
              "      <td>357700</td>\n",
              "      <td>T106</td>\n",
              "      <td>H</td>\n",
              "      <td>0222P</td>\n",
              "      <td>NaN</td>\n",
              "      <td>NY</td>\n",
              "      <td>F</td>\n",
              "      <td>745</td>\n",
              "      <td>7th Ave</td>\n",
              "      <td>NaN</td>\n",
              "      <td>01/05/0001 12:00:00 PM</td>\n",
              "      <td>408.0</td>\n",
              "      <td>l3</td>\n",
              "      <td>NaN</td>\n",
              "      <td>YYYYY</td>\n",
              "      <td>0700A</td>\n",
              "      <td>0600P</td>\n",
              "      <td>BLACK</td>\n",
              "      <td>NaN</td>\n",
              "      <td>2007.0</td>\n",
              "      <td>NaN</td>\n",
              "      <td>0.0</td>\n",
              "      <td>99 6</td>\n",
              "      <td>31-No Stand (Com. Mtr. Zone)</td>\n",
              "      <td>NaN</td>\n",
              "      <td>NaN</td>\n",
              "      <td>NaN</td>\n",
              "      <td>NaN</td>\n",
              "      <td>NaN</td>\n",
              "      <td>NaN</td>\n",
              "      <td>NaN</td>\n",
              "      <td>NaN</td>\n",
              "      <td>NaN</td>\n",
              "      <td>NaN</td>\n",
              "      <td>NaN</td>\n",
              "    </tr>\n",
              "    <tr>\n",
              "      <th>11809231</th>\n",
              "      <td>8044311063</td>\n",
              "      <td>97720MD</td>\n",
              "      <td>NY</td>\n",
              "      <td>COM</td>\n",
              "      <td>06/03/2015</td>\n",
              "      <td>51</td>\n",
              "      <td>DUMP</td>\n",
              "      <td>PETER</td>\n",
              "      <td>T</td>\n",
              "      <td>10540</td>\n",
              "      <td>12140</td>\n",
              "      <td>47290</td>\n",
              "      <td>01/01/20151031 12:00:00 PM</td>\n",
              "      <td>104.0</td>\n",
              "      <td>104</td>\n",
              "      <td>104</td>\n",
              "      <td>361081</td>\n",
              "      <td>T401</td>\n",
              "      <td>N</td>\n",
              "      <td>0617P</td>\n",
              "      <td>NaN</td>\n",
              "      <td>Q</td>\n",
              "      <td>F</td>\n",
              "      <td>58-26</td>\n",
              "      <td>47th St</td>\n",
              "      <td>NaN</td>\n",
              "      <td>01/05/0001 12:00:00 PM</td>\n",
              "      <td>408.0</td>\n",
              "      <td>e3</td>\n",
              "      <td>NaN</td>\n",
              "      <td>NaN</td>\n",
              "      <td>NaN</td>\n",
              "      <td>NaN</td>\n",
              "      <td>WHITE</td>\n",
              "      <td>NaN</td>\n",
              "      <td>1995.0</td>\n",
              "      <td>NaN</td>\n",
              "      <td>0.0</td>\n",
              "      <td>K 41</td>\n",
              "      <td>51-Sidewalk</td>\n",
              "      <td>NaN</td>\n",
              "      <td>NaN</td>\n",
              "      <td>NaN</td>\n",
              "      <td>NaN</td>\n",
              "      <td>NaN</td>\n",
              "      <td>NaN</td>\n",
              "      <td>NaN</td>\n",
              "      <td>NaN</td>\n",
              "      <td>NaN</td>\n",
              "      <td>NaN</td>\n",
              "      <td>NaN</td>\n",
              "    </tr>\n",
              "    <tr>\n",
              "      <th>11809232</th>\n",
              "      <td>7684965852</td>\n",
              "      <td>73040KA</td>\n",
              "      <td>NY</td>\n",
              "      <td>COM</td>\n",
              "      <td>06/16/2015</td>\n",
              "      <td>69</td>\n",
              "      <td>VAN</td>\n",
              "      <td>FORD</td>\n",
              "      <td>T</td>\n",
              "      <td>34090</td>\n",
              "      <td>10810</td>\n",
              "      <td>10910</td>\n",
              "      <td>01/01/20160630 12:00:00 PM</td>\n",
              "      <td>10.0</td>\n",
              "      <td>10</td>\n",
              "      <td>10</td>\n",
              "      <td>355079</td>\n",
              "      <td>T102</td>\n",
              "      <td>H</td>\n",
              "      <td>0810A</td>\n",
              "      <td>NaN</td>\n",
              "      <td>NY</td>\n",
              "      <td>O</td>\n",
              "      <td>319</td>\n",
              "      <td>W 16th St</td>\n",
              "      <td>NaN</td>\n",
              "      <td>01/05/0001 12:00:00 PM</td>\n",
              "      <td>408.0</td>\n",
              "      <td>h1</td>\n",
              "      <td>NaN</td>\n",
              "      <td>YYYYY</td>\n",
              "      <td>0800A</td>\n",
              "      <td>0600P</td>\n",
              "      <td>WH</td>\n",
              "      <td>NaN</td>\n",
              "      <td>2006.0</td>\n",
              "      <td>NaN</td>\n",
              "      <td>0.0</td>\n",
              "      <td>03 6</td>\n",
              "      <td>69-Failure to Disp Muni Recpt</td>\n",
              "      <td>NaN</td>\n",
              "      <td>NaN</td>\n",
              "      <td>NaN</td>\n",
              "      <td>NaN</td>\n",
              "      <td>NaN</td>\n",
              "      <td>NaN</td>\n",
              "      <td>NaN</td>\n",
              "      <td>NaN</td>\n",
              "      <td>NaN</td>\n",
              "      <td>NaN</td>\n",
              "      <td>NaN</td>\n",
              "    </tr>\n",
              "  </tbody>\n",
              "</table>\n",
              "<p>11809233 rows × 51 columns</p>\n",
              "</div>"
            ],
            "text/plain": [
              "          Summons Number  Plate ID Registration State  ... BIN BBL  NTA\n",
              "0             8002531292   EPC5238                 NY  ... NaN NaN  NaN\n",
              "1             8015318440    5298MD                 NY  ... NaN NaN  NaN\n",
              "2             7611181981   FYW2775                 NY  ... NaN NaN  NaN\n",
              "3             7445908067   GWE1987                 NY  ... NaN NaN  NaN\n",
              "4             7037692864  T671196C                 NY  ... NaN NaN  NaN\n",
              "...                  ...       ...                ...  ...  ..  ..  ...\n",
              "11809228      8035170326   VCT8217                 VA  ... NaN NaN  NaN\n",
              "11809229      8005276357   GHK4864                 NY  ... NaN NaN  NaN\n",
              "11809230      7155525273  T616724C                 NY  ... NaN NaN  NaN\n",
              "11809231      8044311063   97720MD                 NY  ... NaN NaN  NaN\n",
              "11809232      7684965852   73040KA                 NY  ... NaN NaN  NaN\n",
              "\n",
              "[11809233 rows x 51 columns]"
            ]
          },
          "metadata": {
            "tags": []
          },
          "execution_count": 10
        }
      ]
    },
    {
      "cell_type": "markdown",
      "metadata": {
        "id": "mND7pvWg7jxJ"
      },
      "source": [
        "## Exploratory Data Analysis "
      ]
    },
    {
      "cell_type": "markdown",
      "metadata": {
        "id": "6oh2bLM_7jc4"
      },
      "source": [
        "### State-Wise Vehicle Registration"
      ]
    },
    {
      "cell_type": "code",
      "metadata": {
        "colab": {
          "base_uri": "https://localhost:8080/"
        },
        "id": "Jw-5x7Q8oQvr",
        "outputId": "9d6fd5c7-2076-4a63-d4eb-3c36f95cad9a"
      },
      "source": [
        "# Get the counts of the all registration states\n",
        "# reg_states_all = Counter(data_2014_2015_df['Registration State'])\n",
        "# reg_states_all\n",
        "\n",
        "# Get top 10 highest registration states\n",
        "regStates_top10 = data_2014_2015_df['Registration State'].value_counts()[0:10]\n",
        "regStates_top10"
      ],
      "execution_count": null,
      "outputs": [
        {
          "output_type": "execute_result",
          "data": {
            "text/plain": [
              "NY    9193289\n",
              "NJ    1080414\n",
              "PA     298877\n",
              "CT     160361\n",
              "FL     148868\n",
              "MA     101164\n",
              "IN      83192\n",
              "VA      81464\n",
              "MD      63416\n",
              "NC      58871\n",
              "Name: Registration State, dtype: int64"
            ]
          },
          "metadata": {
            "tags": []
          },
          "execution_count": 209
        }
      ]
    },
    {
      "cell_type": "code",
      "metadata": {
        "colab": {
          "base_uri": "https://localhost:8080/",
          "height": 535
        },
        "id": "pC6mhQUIuVFO",
        "outputId": "e0567004-2074-47f1-f26e-4e198d7a0963"
      },
      "source": [
        "sns.set()\n",
        "plt.figure(figsize=(10,8))\n",
        "sns.barplot(x = regStates_top10.index, y = regStates_top10.values, palette=\"flare\")\n",
        "plt.title('Top 10 states ')\n",
        "plt.xlabel('Registration States')\n",
        "plt.ylabel('Number of Registrations')"
      ],
      "execution_count": null,
      "outputs": [
        {
          "output_type": "execute_result",
          "data": {
            "text/plain": [
              "Text(0, 0.5, 'Number of Registrations')"
            ]
          },
          "metadata": {
            "tags": []
          },
          "execution_count": 210
        },
        {
          "output_type": "display_data",
          "data": {
            "image/png": "[encoded data removed]",
            "text/plain": [
              "<Figure size 720x576 with 1 Axes>"
            ]
          },
          "metadata": {
            "tags": []
          }
        }
      ]
    },
    {
      "cell_type": "markdown",
      "metadata": {
        "id": "4sj6QafhPBHa"
      },
      "source": [
        "### Violation Times"
      ]
    },
    {
      "cell_type": "code",
      "metadata": {
        "id": "Hx5ATj741M1o"
      },
      "source": [
        "import datetime\n",
        "\n",
        "v_time = data_2014_2015_df['Violation Time'].value_counts()[0:30]\n",
        "\n",
        "vt_df = pd.DataFrame()\n",
        "\n",
        "for i in range(len(v_time)):\n",
        "  vt = datetime.time(hour= int(v_time.index[i][0:2]),minute = int(v_time.index[i][2:4])).strftime(\"%H:%M\")\n",
        "  \n",
        "  if v_time.index[i][4] ==\"A\":\n",
        "    vt_df = vt_df.append(pd.DataFrame({'Violation Time': str(vt) + \" AM\", 'Number of Violations': v_time.values[i]}, index=[0]), ignore_index=True)\n",
        "    # print(\"Time -\", dt, \"AM\", \"& No. of violations -\", v_time.values[i])\n",
        "  else:\n",
        "    vt_df = vt_df.append(pd.DataFrame({'Violation Time': str(vt) + \" PM\", 'Number of Violations' : v_time.values[i]}, index=[0]), ignore_index=True)\n",
        "    # print(\"Time -\", dt,\"PM\", \"& No. of violations -\", v_time.values[i])"
      ],
      "execution_count": null,
      "outputs": []
    },
    {
      "cell_type": "code",
      "metadata": {
        "colab": {
          "base_uri": "https://localhost:8080/",
          "height": 935
        },
        "id": "P8yFK1-0n4lD",
        "outputId": "5fac1594-2a65-4249-fe5a-8e64469c9d17"
      },
      "source": [
        "vt_df"
      ],
      "execution_count": null,
      "outputs": [
        {
          "output_type": "execute_result",
          "data": {
            "text/html": [
              "<div>\n",
              "<style scoped>\n",
              "    .dataframe tbody tr th:only-of-type {\n",
              "        vertical-align: middle;\n",
              "    }\n",
              "\n",
              "    .dataframe tbody tr th {\n",
              "        vertical-align: top;\n",
              "    }\n",
              "\n",
              "    .dataframe thead th {\n",
              "        text-align: right;\n",
              "    }\n",
              "</style>\n",
              "<table border=\"1\" class=\"dataframe\">\n",
              "  <thead>\n",
              "    <tr style=\"text-align: right;\">\n",
              "      <th></th>\n",
              "      <th>Violation Time</th>\n",
              "      <th>Number of Violations</th>\n",
              "    </tr>\n",
              "  </thead>\n",
              "  <tbody>\n",
              "    <tr>\n",
              "      <th>0</th>\n",
              "      <td>08:36 AM</td>\n",
              "      <td>34615</td>\n",
              "    </tr>\n",
              "    <tr>\n",
              "      <th>1</th>\n",
              "      <td>11:36 AM</td>\n",
              "      <td>32661</td>\n",
              "    </tr>\n",
              "    <tr>\n",
              "      <th>2</th>\n",
              "      <td>11:40 AM</td>\n",
              "      <td>30318</td>\n",
              "    </tr>\n",
              "    <tr>\n",
              "      <th>3</th>\n",
              "      <td>09:36 AM</td>\n",
              "      <td>29454</td>\n",
              "    </tr>\n",
              "    <tr>\n",
              "      <th>4</th>\n",
              "      <td>08:06 AM</td>\n",
              "      <td>28284</td>\n",
              "    </tr>\n",
              "    <tr>\n",
              "      <th>5</th>\n",
              "      <td>08:40 AM</td>\n",
              "      <td>28245</td>\n",
              "    </tr>\n",
              "    <tr>\n",
              "      <th>6</th>\n",
              "      <td>11:45 AM</td>\n",
              "      <td>28056</td>\n",
              "    </tr>\n",
              "    <tr>\n",
              "      <th>7</th>\n",
              "      <td>11:38 AM</td>\n",
              "      <td>28036</td>\n",
              "    </tr>\n",
              "    <tr>\n",
              "      <th>8</th>\n",
              "      <td>09:06 AM</td>\n",
              "      <td>27933</td>\n",
              "    </tr>\n",
              "    <tr>\n",
              "      <th>9</th>\n",
              "      <td>09:40 AM</td>\n",
              "      <td>27735</td>\n",
              "    </tr>\n",
              "    <tr>\n",
              "      <th>10</th>\n",
              "      <td>11:39 AM</td>\n",
              "      <td>27618</td>\n",
              "    </tr>\n",
              "    <tr>\n",
              "      <th>11</th>\n",
              "      <td>11:37 AM</td>\n",
              "      <td>27241</td>\n",
              "    </tr>\n",
              "    <tr>\n",
              "      <th>12</th>\n",
              "      <td>11:41 AM</td>\n",
              "      <td>26720</td>\n",
              "    </tr>\n",
              "    <tr>\n",
              "      <th>13</th>\n",
              "      <td>11:42 AM</td>\n",
              "      <td>26453</td>\n",
              "    </tr>\n",
              "    <tr>\n",
              "      <th>14</th>\n",
              "      <td>08:38 AM</td>\n",
              "      <td>26398</td>\n",
              "    </tr>\n",
              "    <tr>\n",
              "      <th>15</th>\n",
              "      <td>09:45 AM</td>\n",
              "      <td>25877</td>\n",
              "    </tr>\n",
              "    <tr>\n",
              "      <th>16</th>\n",
              "      <td>08:37 AM</td>\n",
              "      <td>25809</td>\n",
              "    </tr>\n",
              "    <tr>\n",
              "      <th>17</th>\n",
              "      <td>08:39 AM</td>\n",
              "      <td>25785</td>\n",
              "    </tr>\n",
              "    <tr>\n",
              "      <th>18</th>\n",
              "      <td>11:43 AM</td>\n",
              "      <td>25647</td>\n",
              "    </tr>\n",
              "    <tr>\n",
              "      <th>19</th>\n",
              "      <td>09:38 AM</td>\n",
              "      <td>25571</td>\n",
              "    </tr>\n",
              "    <tr>\n",
              "      <th>20</th>\n",
              "      <td>08:45 AM</td>\n",
              "      <td>25509</td>\n",
              "    </tr>\n",
              "    <tr>\n",
              "      <th>21</th>\n",
              "      <td>11:50 AM</td>\n",
              "      <td>25055</td>\n",
              "    </tr>\n",
              "    <tr>\n",
              "      <th>22</th>\n",
              "      <td>09:39 AM</td>\n",
              "      <td>24916</td>\n",
              "    </tr>\n",
              "    <tr>\n",
              "      <th>23</th>\n",
              "      <td>09:10 AM</td>\n",
              "      <td>24810</td>\n",
              "    </tr>\n",
              "    <tr>\n",
              "      <th>24</th>\n",
              "      <td>09:37 AM</td>\n",
              "      <td>24671</td>\n",
              "    </tr>\n",
              "    <tr>\n",
              "      <th>25</th>\n",
              "      <td>09:41 AM</td>\n",
              "      <td>24631</td>\n",
              "    </tr>\n",
              "    <tr>\n",
              "      <th>26</th>\n",
              "      <td>11:44 AM</td>\n",
              "      <td>24533</td>\n",
              "    </tr>\n",
              "    <tr>\n",
              "      <th>27</th>\n",
              "      <td>08:41 AM</td>\n",
              "      <td>24522</td>\n",
              "    </tr>\n",
              "    <tr>\n",
              "      <th>28</th>\n",
              "      <td>09:50 AM</td>\n",
              "      <td>24449</td>\n",
              "    </tr>\n",
              "    <tr>\n",
              "      <th>29</th>\n",
              "      <td>08:42 AM</td>\n",
              "      <td>24350</td>\n",
              "    </tr>\n",
              "  </tbody>\n",
              "</table>\n",
              "</div>"
            ],
            "text/plain": [
              "   Violation Time  Number of Violations\n",
              "0        08:36 AM                 34615\n",
              "1        11:36 AM                 32661\n",
              "2        11:40 AM                 30318\n",
              "3        09:36 AM                 29454\n",
              "4        08:06 AM                 28284\n",
              "5        08:40 AM                 28245\n",
              "6        11:45 AM                 28056\n",
              "7        11:38 AM                 28036\n",
              "8        09:06 AM                 27933\n",
              "9        09:40 AM                 27735\n",
              "10       11:39 AM                 27618\n",
              "11       11:37 AM                 27241\n",
              "12       11:41 AM                 26720\n",
              "13       11:42 AM                 26453\n",
              "14       08:38 AM                 26398\n",
              "15       09:45 AM                 25877\n",
              "16       08:37 AM                 25809\n",
              "17       08:39 AM                 25785\n",
              "18       11:43 AM                 25647\n",
              "19       09:38 AM                 25571\n",
              "20       08:45 AM                 25509\n",
              "21       11:50 AM                 25055\n",
              "22       09:39 AM                 24916\n",
              "23       09:10 AM                 24810\n",
              "24       09:37 AM                 24671\n",
              "25       09:41 AM                 24631\n",
              "26       11:44 AM                 24533\n",
              "27       08:41 AM                 24522\n",
              "28       09:50 AM                 24449\n",
              "29       08:42 AM                 24350"
            ]
          },
          "metadata": {
            "tags": []
          },
          "execution_count": 189
        }
      ]
    },
    {
      "cell_type": "code",
      "metadata": {
        "colab": {
          "base_uri": "https://localhost:8080/",
          "height": 644
        },
        "id": "EopiuU5GQTOX",
        "outputId": "72f4d7e7-2cb0-4248-d936-2cea743ebe95"
      },
      "source": [
        "sns.set()\n",
        "plt.figure(figsize=(10,10))\n",
        "sns.barplot( x = 'Number of Violations', y = 'Violation Time', data = vt_df, palette=\"flare\")\n",
        "plt.title('Top 30 Violation Times')\n",
        "plt.xlabel('Number of Violations')\n",
        "plt.ylabel('Violation Time')"
      ],
      "execution_count": null,
      "outputs": [
        {
          "output_type": "execute_result",
          "data": {
            "text/plain": [
              "Text(0, 0.5, 'Violation Time')"
            ]
          },
          "metadata": {
            "tags": []
          },
          "execution_count": 206
        },
        {
          "output_type": "display_data",
          "data": {
            "image/png": "[encoded data removed]",
            "text/plain": [
              "<Figure size 720x720 with 1 Axes>"
            ]
          },
          "metadata": {
            "tags": []
          }
        }
      ]
    },
    {
      "cell_type": "markdown",
      "metadata": {
        "id": "7jCYyIogwJHP"
      },
      "source": [
        "### Tickets given each month"
      ]
    },
    {
      "cell_type": "code",
      "metadata": {
        "colab": {
          "base_uri": "https://localhost:8080/"
        },
        "id": "eXxNS5J6S3cf",
        "outputId": "e41fc92a-47df-40c9-b594-95b6addb88b7"
      },
      "source": [
        "month = []\n",
        "for time_stamp in pd.to_datetime(data_2014_2015_df['Issue Date']):\n",
        "    month.append(time_stamp.month)\n",
        "month_count = pd.Series(month).value_counts()\n",
        "month_count\n",
        "\n",
        "# Renaming month numbers to month names\n",
        "months = month_count.rename(index = {1:'Jan', 2: 'Feb', 3: 'Mar', 4: 'Apr', 5:'May', 6:'June', 7: 'July', 8: 'Aug', 9: 'Sept', 10:'Oct', 11:'Nov', 12:'Dec'})\n",
        "months"
      ],
      "execution_count": null,
      "outputs": [
        {
          "output_type": "execute_result",
          "data": {
            "text/plain": [
              "Jan     1392992\n",
              "June    1276592\n",
              "May     1040148\n",
              "Sept    1029583\n",
              "July     969938\n",
              "Oct      966456\n",
              "Mar      965119\n",
              "Apr      951716\n",
              "Aug      911641\n",
              "Nov      798897\n",
              "Dec      774287\n",
              "Feb      731864\n",
              "dtype: int64"
            ]
          },
          "metadata": {
            "tags": []
          },
          "execution_count": 201
        }
      ]
    },
    {
      "cell_type": "code",
      "metadata": {
        "colab": {
          "base_uri": "https://localhost:8080/",
          "height": 535
        },
        "id": "kIJQ0RZWwWK-",
        "outputId": "bec9b731-5a04-4bda-fac7-e6d3c4f6a538"
      },
      "source": [
        "sns.set()\n",
        "plt.figure(figsize=(12,8))\n",
        "sns.barplot(x = months.index, y = months.values, palette='crest')\n",
        "plt.title('Tickets given each month')\n",
        "plt.xlabel('Months')\n",
        "plt.ylabel('Number of Tickets')"
      ],
      "execution_count": null,
      "outputs": [
        {
          "output_type": "execute_result",
          "data": {
            "text/plain": [
              "Text(0, 0.5, 'Number of Tickets')"
            ]
          },
          "metadata": {
            "tags": []
          },
          "execution_count": 261
        },
        {
          "output_type": "display_data",
          "data": {
            "image/png": "[encoded data removed]",
            "text/plain": [
              "<Figure size 864x576 with 1 Axes>"
            ]
          },
          "metadata": {
            "tags": []
          }
        }
      ]
    },
    {
      "cell_type": "markdown",
      "metadata": {
        "id": "ykm2gAtn2cpD"
      },
      "source": [
        "### Vehicle Body and Make types"
      ]
    },
    {
      "cell_type": "code",
      "metadata": {
        "colab": {
          "base_uri": "https://localhost:8080/"
        },
        "id": "9mp5yvfhxOUl",
        "outputId": "92085bd8-1b2a-4847-ecb6-fc00f895c892"
      },
      "source": [
        "vehicle_Body = data_2014_2015_df['Vehicle Body Type'].value_counts()[0:20]\n",
        "vehicle_Body"
      ],
      "execution_count": null,
      "outputs": [
        {
          "output_type": "execute_result",
          "data": {
            "text/plain": [
              "SUBN    3729346\n",
              "4DSD    3340014\n",
              "VAN     1709091\n",
              "DELV     892781\n",
              "SDN      524596\n",
              "2DSD     319046\n",
              "PICK     297562\n",
              "UTIL      92580\n",
              "REFG      89643\n",
              "TRAC      77047\n",
              "TAXI      69826\n",
              "BUS       60383\n",
              "CONV      53870\n",
              "4 DR      52270\n",
              "TRLR      39488\n",
              "MCY       32026\n",
              "TK        31199\n",
              "WAGO      30817\n",
              "P-U       28761\n",
              "4D        27358\n",
              "Name: Vehicle Body Type, dtype: int64"
            ]
          },
          "metadata": {
            "tags": []
          },
          "execution_count": 213
        }
      ]
    },
    {
      "cell_type": "code",
      "metadata": {
        "colab": {
          "base_uri": "https://localhost:8080/"
        },
        "id": "auAdZo_n3TH9",
        "outputId": "2cdaa6c3-9eb5-42a6-b23d-cfd12392f643"
      },
      "source": [
        "vehicle_Make = data_2014_2015_df['Vehicle Make'].value_counts()[0:20]\n",
        "vehicle_Make"
      ],
      "execution_count": null,
      "outputs": [
        {
          "output_type": "execute_result",
          "data": {
            "text/plain": [
              "FORD     1521874\n",
              "TOYOT    1217087\n",
              "HONDA    1102614\n",
              "NISSA     908783\n",
              "CHEVR     897845\n",
              "FRUEH     432073\n",
              "DODGE     403307\n",
              "ME/BE     386609\n",
              "BMW       377156\n",
              "GMC       354039\n",
              "INTER     350338\n",
              "JEEP      302362\n",
              "HYUND     275014\n",
              "LEXUS     251618\n",
              "ACURA     214310\n",
              "CHRYS     209736\n",
              "VOLKS     207931\n",
              "INFIN     169296\n",
              "NS/OT     153781\n",
              "LINCO     146057\n",
              "Name: Vehicle Make, dtype: int64"
            ]
          },
          "metadata": {
            "tags": []
          },
          "execution_count": 214
        }
      ]
    },
    {
      "cell_type": "code",
      "metadata": {
        "colab": {
          "base_uri": "https://localhost:8080/",
          "height": 683
        },
        "id": "o8nwxRZW3iCU",
        "outputId": "45b5e44a-2c5b-48d5-c36f-e841fa8dbb42"
      },
      "source": [
        "fig, axes = plt.subplots(2, 1, figsize=(15, 10))\n",
        "fig.suptitle('Vehicle Body Type and Make')\n",
        "\n",
        "# Vehicle Body Type\n",
        "plt.ylabel('Vehicles Count')\n",
        "sns.barplot(ax=axes[0], x=vehicle_Body.index, y=vehicle_Body.values)\n",
        "axes[0].set_title(\"Vehicle Body Type\")\n",
        "\n",
        "# Vehicle Make\n",
        "sns.barplot(ax=axes[1], x=vehicle_Make.index, y=vehicle_Make.values)\n",
        "axes[1].set_title(\"Vehicle Make\")\n",
        "plt.ylabel('Vehicles Count')"
      ],
      "execution_count": null,
      "outputs": [
        {
          "output_type": "execute_result",
          "data": {
            "text/plain": [
              "Text(0, 0.5, 'Vehicles Count')"
            ]
          },
          "metadata": {
            "tags": []
          },
          "execution_count": 247
        },
        {
          "output_type": "display_data",
          "data": {
            "image/png": "[encoded data removed]",
            "text/plain": [
              "<Figure size 1080x720 with 2 Axes>"
            ]
          },
          "metadata": {
            "tags": []
          }
        }
      ]
    },
    {
      "cell_type": "markdown",
      "metadata": {
        "id": "daUWqdzPQipH"
      },
      "source": [
        "### Vehicle Colors"
      ]
    },
    {
      "cell_type": "code",
      "metadata": {
        "colab": {
          "base_uri": "https://localhost:8080/"
        },
        "id": "iae_3PXS4ISf",
        "outputId": "6e479595-89dc-4097-c1b8-ee805779b243"
      },
      "source": [
        "vehicle_Color = data_2014_2015_df['Vehicle Color'].value_counts()[0:20]\n",
        "vehicle_Color"
      ],
      "execution_count": null,
      "outputs": [
        {
          "output_type": "execute_result",
          "data": {
            "text/plain": [
              "GY       1717544\n",
              "WH       1646969\n",
              "WHITE    1623445\n",
              "BK       1360825\n",
              "BLACK     776197\n",
              "BL        600835\n",
              "GREY      469722\n",
              "RD        375327\n",
              "SILVE     358475\n",
              "BROWN     355818\n",
              "BLUE      339620\n",
              "RED       308602\n",
              "GR        259223\n",
              "GREEN     169024\n",
              "TN        167625\n",
              "OTHER     124201\n",
              "YW         95426\n",
              "BR         95170\n",
              "BLK        87844\n",
              "GRAY       80975\n",
              "Name: Vehicle Color, dtype: int64"
            ]
          },
          "metadata": {
            "tags": []
          },
          "execution_count": 248
        }
      ]
    },
    {
      "cell_type": "code",
      "metadata": {
        "colab": {
          "base_uri": "https://localhost:8080/",
          "height": 535
        },
        "id": "KnjYlZ8GRC-P",
        "outputId": "498e4d74-5059-40de-9c50-71010fdc8ddc"
      },
      "source": [
        "plt.figure(figsize=(15,8))\n",
        "sns.barplot(x = vehicle_Color.index, y = vehicle_Color.values, palette='magma')\n",
        "plt.title('Vehicles Colors')\n",
        "plt.xlabel('Colors')\n",
        "plt.ylabel('Number of Cars')"
      ],
      "execution_count": null,
      "outputs": [
        {
          "output_type": "execute_result",
          "data": {
            "text/plain": [
              "Text(0, 0.5, 'Number of Cars')"
            ]
          },
          "metadata": {
            "tags": []
          },
          "execution_count": 252
        },
        {
          "output_type": "display_data",
          "data": {
            "image/png": "[encoded data removed]",
            "text/plain": [
              "<Figure size 1080x576 with 1 Axes>"
            ]
          },
          "metadata": {
            "tags": []
          }
        }
      ]
    },
    {
      "cell_type": "markdown",
      "metadata": {
        "id": "dyooGsrUR2mw"
      },
      "source": [
        "### Street-Wise Violations"
      ]
    },
    {
      "cell_type": "code",
      "metadata": {
        "colab": {
          "base_uri": "https://localhost:8080/"
        },
        "id": "8VNIK-3ERpKs",
        "outputId": "4c4ec5c9-a3f4-4660-f362-256ffcc27b51"
      },
      "source": [
        "street_wise = data_2014_2015_df['Street Name'].value_counts()[0:20]\n",
        "street_wise"
      ],
      "execution_count": null,
      "outputs": [
        {
          "output_type": "execute_result",
          "data": {
            "text/plain": [
              "Broadway                240652\n",
              "3rd Ave                 177066\n",
              "5th Ave                 118780\n",
              "Madison Ave             104339\n",
              "Lexington Ave            93355\n",
              "2nd Ave                  88256\n",
              "1st Ave                  84210\n",
              "7th Ave                  73161\n",
              "EB SHORE PKWY @ WEST     73004\n",
              "Queens Blvd              70403\n",
              "Amsterdam Ave            64856\n",
              "8th Ave                  64758\n",
              "EB HORACE HARDING EX     60964\n",
              "6th Ave                  58864\n",
              "Jamaica Ave              57569\n",
              "Columbus Ave             50466\n",
              "Park Ave                 46148\n",
              "37th Ave                 46012\n",
              "HORACE HARDING EXPWY     45806\n",
              "Coney Island Ave         42504\n",
              "Name: Street Name, dtype: int64"
            ]
          },
          "metadata": {
            "tags": []
          },
          "execution_count": 253
        }
      ]
    },
    {
      "cell_type": "code",
      "metadata": {
        "colab": {
          "base_uri": "https://localhost:8080/",
          "height": 644
        },
        "id": "ASWXYu1dSsfb",
        "outputId": "34359fc1-93d2-4fad-d248-db9bc4807a49"
      },
      "source": [
        "plt.figure(figsize=(15,10))\n",
        "sns.barplot(x = street_wise.values, y = street_wise.index, palette='viridis')\n",
        "plt.title('Street-Wise Violations')\n",
        "plt.xlabel('Number of Violations')\n",
        "plt.ylabel('Streets')"
      ],
      "execution_count": null,
      "outputs": [
        {
          "output_type": "execute_result",
          "data": {
            "text/plain": [
              "Text(0, 0.5, 'Streets')"
            ]
          },
          "metadata": {
            "tags": []
          },
          "execution_count": 260
        },
        {
          "output_type": "display_data",
          "data": {
            "image/png": "[encoded data removed]",
            "text/plain": [
              "<Figure size 1080x720 with 1 Axes>"
            ]
          },
          "metadata": {
            "tags": []
          }
        }
      ]
    },
    {
      "cell_type": "markdown",
      "metadata": {
        "id": "el1BsQwTTYTP"
      },
      "source": [
        "### Violations per Violation Code"
      ]
    },
    {
      "cell_type": "code",
      "metadata": {
        "colab": {
          "base_uri": "https://localhost:8080/"
        },
        "id": "q0lj-FTUTAam",
        "outputId": "792546ad-52c8-4112-f322-74a044528cbc"
      },
      "source": [
        "violation_desc = data_2014_2015_df[\"Violation Description\"].value_counts()[0:20]\n",
        "violation_desc"
      ],
      "execution_count": null,
      "outputs": [
        {
          "output_type": "execute_result",
          "data": {
            "text/plain": [
              "38-Failure to Display Muni Rec    1410663\n",
              "21-No Parking (street clean)      1375160\n",
              "14-No Standing                     886685\n",
              "PHTO SCHOOL ZN SPEED VIOLATION     839197\n",
              "37-Expired Muni Meter              792077\n",
              "FAILURE TO STOP AT RED LIGHT       719745\n",
              "20A-No Parking (Non-COM)           500896\n",
              "71A-Insp Sticker Expired (NYS)     480760\n",
              "40-Fire Hydrant                    421685\n",
              "69-Failure to Disp Muni Recpt      284475\n",
              "19-No Stand (bus stop)             256389\n",
              "BUS LANE VIOLATION                 224516\n",
              "70A-Reg. Sticker Expired (NYS)     194140\n",
              "46A-Double Parking (Non-COM)       180641\n",
              "31-No Stand (Com. Mtr. Zone)       167721\n",
              "46B-Double Parking (Com-100Ft)     132756\n",
              "47-Double PKG-Midtown              128564\n",
              "16-No Std (Com Veh) Com Plate      122564\n",
              "16A-No Std (Com Veh) Non-COM       122515\n",
              "42-Exp. Muni-Mtr (Com. Mtr. Z)      93253\n",
              "Name: Violation Description, dtype: int64"
            ]
          },
          "metadata": {
            "tags": []
          },
          "execution_count": 257
        }
      ]
    },
    {
      "cell_type": "code",
      "metadata": {
        "colab": {
          "base_uri": "https://localhost:8080/",
          "height": 644
        },
        "id": "KR_L8U7dUUaW",
        "outputId": "45e347b0-393f-4307-f1ad-49e921df8702"
      },
      "source": [
        "plt.figure(figsize=(15,10))\n",
        "sns.barplot(x = violation_desc.values, y = violation_desc.index, palette='viridis')\n",
        "plt.title('Top 20 Violations')\n",
        "plt.xlabel('Number of Violations per Violation Code')\n",
        "plt.ylabel('Violation Code and Description')"
      ],
      "execution_count": null,
      "outputs": [
        {
          "output_type": "execute_result",
          "data": {
            "text/plain": [
              "Text(0, 0.5, 'Violation Code and Description')"
            ]
          },
          "metadata": {
            "tags": []
          },
          "execution_count": 259
        },
        {
          "output_type": "display_data",
          "data": {
            "image/png": "[encoded data removed]",
            "text/plain": [
              "<Figure size 1080x720 with 1 Axes>"
            ]
          },
          "metadata": {
            "tags": []
          }
        }
      ]
    },
    {
      "cell_type": "markdown",
      "metadata": {
        "id": "xlT9O3-HWIaG"
      },
      "source": [
        "### Vehicle Precinct"
      ]
    },
    {
      "cell_type": "code",
      "metadata": {
        "id": "DpT7Z48sUrxg"
      },
      "source": [
        ""
      ],
      "execution_count": null,
      "outputs": []
    }
  ]
}