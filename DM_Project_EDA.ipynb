{
  "nbformat": 4,
  "nbformat_minor": 0,
  "metadata": {
    "colab": {
      "name": "DM_Project_EDA.ipynb",
      "provenance": [],
      "collapsed_sections": [],
      "toc_visible": true,
      "authorship_tag": "ABX9TyNCgLwdLQvkzzh+Fqmplh4/",
      "include_colab_link": true
    },
    "kernelspec": {
      "name": "python3",
      "display_name": "Python 3"
    },
    "accelerator": "GPU"
  },
  "cells": [
    {
      "cell_type": "markdown",
      "metadata": {
        "id": "view-in-github",
        "colab_type": "text"
      },
      "source": [
        "<a href=\"https://colab.research.google.com/github/bhaktichowkwale/DataMiningProject/blob/master/DM_Project_EDA.ipynb\" target=\"_parent\"><img src=\"https://colab.research.google.com/assets/colab-badge.svg\" alt=\"Open In Colab\"/></a>"
      ]
    },
    {
      "cell_type": "markdown",
      "metadata": {
        "id": "LU7DSX7rJN4D"
      },
      "source": [
        "#Aim"
      ]
    },
    {
      "cell_type": "markdown",
      "metadata": {
        "id": "0QgxIz8-CFfN"
      },
      "source": [
        "We look forward to answering the following questions using the NYC Parking Ticket data.\n",
        "\n",
        "EDA: \n",
        "1. States of License plate \n",
        "2. Timing of tickets \n",
        "3. Month wise tickets \n",
        "4. Car brand wise\n",
        "5. Colorwise \n",
        "6. Location wise \n",
        "7. Violation code wise \n",
        "8. Which precinct has issued more tickets"
      ]
    },
    {
      "cell_type": "markdown",
      "metadata": {
        "id": "x14qKYyx-iWU"
      },
      "source": [
        "#Import Libraries"
      ]
    },
    {
      "cell_type": "code",
      "metadata": {
        "id": "NA_iOjLPp00r"
      },
      "source": [
        "import pandas as pd\n",
        "import numpy as np\n",
        "import seaborn as sns\n",
        "import matplotlib.pyplot as plt\n",
        "import plotly\n",
        "import datetime"
      ],
      "execution_count": 9,
      "outputs": []
    },
    {
      "cell_type": "code",
      "metadata": {
        "colab": {
          "base_uri": "https://localhost:8080/"
        },
        "id": "d_Xo41TU-AXw",
        "outputId": "8bdef297-6497-43c1-b8ca-a9b8d0296184"
      },
      "source": [
        "from google.colab import drive\n",
        "drive.mount('/content/gdrive')"
      ],
      "execution_count": 2,
      "outputs": [
        {
          "output_type": "stream",
          "text": [
            "Mounted at /content/gdrive\n"
          ],
          "name": "stdout"
        }
      ]
    },
    {
      "cell_type": "code",
      "metadata": {
        "colab": {
          "base_uri": "https://localhost:8080/"
        },
        "id": "tcLbFEDO-Dnv",
        "outputId": "c5acc34b-162f-4075-d9e0-735269b3ec01"
      },
      "source": [
        "!unzip \"/content/gdrive/My Drive/Parking_Tickets_2013.zip\""
      ],
      "execution_count": 3,
      "outputs": [
        {
          "output_type": "stream",
          "text": [
            "Archive:  /content/gdrive/My Drive/Parking_Tickets_2013.zip\n",
            "  inflating: Parking_Violations_Issued_-_Fiscal_Year_2014__August_2013___June_2014_.csv  \n"
          ],
          "name": "stdout"
        }
      ]
    },
    {
      "cell_type": "markdown",
      "metadata": {
        "id": "qOookDEn-mZS"
      },
      "source": [
        "#Data"
      ]
    },
    {
      "cell_type": "code",
      "metadata": {
        "colab": {
          "base_uri": "https://localhost:8080/",
          "height": 813
        },
        "id": "KBhPN7IV-phz",
        "outputId": "2ff7b513-e3fa-43d2-a3a4-e504c872a252"
      },
      "source": [
        "data = pd.read_csv(\"Parking_Violations_Issued_-_Fiscal_Year_2014__August_2013___June_2014_.csv\")\n",
        "data"
      ],
      "execution_count": 4,
      "outputs": [
        {
          "output_type": "stream",
          "text": [
            "/usr/local/lib/python3.6/dist-packages/IPython/core/interactiveshell.py:2718: DtypeWarning:\n",
            "\n",
            "Columns (17,18,20,21,22,23,29,30,31,32,36,38,39) have mixed types.Specify dtype option on import or set low_memory=False.\n",
            "\n"
          ],
          "name": "stderr"
        },
        {
          "output_type": "execute_result",
          "data": {
            "text/html": [
              "<div>\n",
              "<style scoped>\n",
              "    .dataframe tbody tr th:only-of-type {\n",
              "        vertical-align: middle;\n",
              "    }\n",
              "\n",
              "    .dataframe tbody tr th {\n",
              "        vertical-align: top;\n",
              "    }\n",
              "\n",
              "    .dataframe thead th {\n",
              "        text-align: right;\n",
              "    }\n",
              "</style>\n",
              "<table border=\"1\" class=\"dataframe\">\n",
              "  <thead>\n",
              "    <tr style=\"text-align: right;\">\n",
              "      <th></th>\n",
              "      <th>Summons Number</th>\n",
              "      <th>Plate ID</th>\n",
              "      <th>Registration State</th>\n",
              "      <th>Plate Type</th>\n",
              "      <th>Issue Date</th>\n",
              "      <th>Violation Code</th>\n",
              "      <th>Vehicle Body Type</th>\n",
              "      <th>Vehicle Make</th>\n",
              "      <th>Issuing Agency</th>\n",
              "      <th>Street Code1</th>\n",
              "      <th>Street Code2</th>\n",
              "      <th>Street Code3</th>\n",
              "      <th>Vehicle Expiration Date</th>\n",
              "      <th>Violation Location</th>\n",
              "      <th>Violation Precinct</th>\n",
              "      <th>Issuer Precinct</th>\n",
              "      <th>Issuer Code</th>\n",
              "      <th>Issuer Command</th>\n",
              "      <th>Issuer Squad</th>\n",
              "      <th>Violation Time</th>\n",
              "      <th>Time First Observed</th>\n",
              "      <th>Violation County</th>\n",
              "      <th>Violation In Front Of Or Opposite</th>\n",
              "      <th>House Number</th>\n",
              "      <th>Street Name</th>\n",
              "      <th>Intersecting Street</th>\n",
              "      <th>Date First Observed</th>\n",
              "      <th>Law Section</th>\n",
              "      <th>Sub Division</th>\n",
              "      <th>Violation Legal Code</th>\n",
              "      <th>Days Parking In Effect</th>\n",
              "      <th>From Hours In Effect</th>\n",
              "      <th>To Hours In Effect</th>\n",
              "      <th>Vehicle Color</th>\n",
              "      <th>Unregistered Vehicle?</th>\n",
              "      <th>Vehicle Year</th>\n",
              "      <th>Meter Number</th>\n",
              "      <th>Feet From Curb</th>\n",
              "      <th>Violation Post Code</th>\n",
              "      <th>Violation Description</th>\n",
              "      <th>No Standing or Stopping Violation</th>\n",
              "      <th>Hydrant Violation</th>\n",
              "      <th>Double Parking Violation</th>\n",
              "      <th>Latitude</th>\n",
              "      <th>Longitude</th>\n",
              "      <th>Community Board</th>\n",
              "      <th>Community Council</th>\n",
              "      <th>Census Tract</th>\n",
              "      <th>BIN</th>\n",
              "      <th>BBL</th>\n",
              "      <th>NTA</th>\n",
              "    </tr>\n",
              "  </thead>\n",
              "  <tbody>\n",
              "    <tr>\n",
              "      <th>0</th>\n",
              "      <td>1283294138</td>\n",
              "      <td>GBB9093</td>\n",
              "      <td>NY</td>\n",
              "      <td>PAS</td>\n",
              "      <td>08/04/2013</td>\n",
              "      <td>46</td>\n",
              "      <td>SUBN</td>\n",
              "      <td>AUDI</td>\n",
              "      <td>P</td>\n",
              "      <td>37250</td>\n",
              "      <td>13610</td>\n",
              "      <td>21190</td>\n",
              "      <td>20140831</td>\n",
              "      <td>33.0</td>\n",
              "      <td>33</td>\n",
              "      <td>33</td>\n",
              "      <td>921043</td>\n",
              "      <td>0033</td>\n",
              "      <td>0</td>\n",
              "      <td>0752A</td>\n",
              "      <td>NaN</td>\n",
              "      <td>NaN</td>\n",
              "      <td>F</td>\n",
              "      <td>712</td>\n",
              "      <td>W 175 ST</td>\n",
              "      <td>NaN</td>\n",
              "      <td>0.0</td>\n",
              "      <td>408.0</td>\n",
              "      <td>F1</td>\n",
              "      <td>NaN</td>\n",
              "      <td>BBBBBBB</td>\n",
              "      <td>ALL</td>\n",
              "      <td>ALL</td>\n",
              "      <td>GY</td>\n",
              "      <td>0.0</td>\n",
              "      <td>2013.0</td>\n",
              "      <td>-</td>\n",
              "      <td>0.0</td>\n",
              "      <td>NaN</td>\n",
              "      <td>NaN</td>\n",
              "      <td>NaN</td>\n",
              "      <td>NaN</td>\n",
              "      <td>NaN</td>\n",
              "      <td>NaN</td>\n",
              "      <td>NaN</td>\n",
              "      <td>NaN</td>\n",
              "      <td>NaN</td>\n",
              "      <td>NaN</td>\n",
              "      <td>NaN</td>\n",
              "      <td>NaN</td>\n",
              "      <td>NaN</td>\n",
              "    </tr>\n",
              "    <tr>\n",
              "      <th>1</th>\n",
              "      <td>1283294151</td>\n",
              "      <td>62416MB</td>\n",
              "      <td>NY</td>\n",
              "      <td>COM</td>\n",
              "      <td>08/04/2013</td>\n",
              "      <td>46</td>\n",
              "      <td>VAN</td>\n",
              "      <td>FORD</td>\n",
              "      <td>P</td>\n",
              "      <td>37290</td>\n",
              "      <td>40404</td>\n",
              "      <td>40404</td>\n",
              "      <td>20140430</td>\n",
              "      <td>33.0</td>\n",
              "      <td>33</td>\n",
              "      <td>33</td>\n",
              "      <td>921043</td>\n",
              "      <td>0033</td>\n",
              "      <td>0</td>\n",
              "      <td>1240P</td>\n",
              "      <td>NaN</td>\n",
              "      <td>NY</td>\n",
              "      <td>O</td>\n",
              "      <td>201</td>\n",
              "      <td>W 177 ST</td>\n",
              "      <td>NaN</td>\n",
              "      <td>0.0</td>\n",
              "      <td>408.0</td>\n",
              "      <td>C</td>\n",
              "      <td>NaN</td>\n",
              "      <td>BBBBBBB</td>\n",
              "      <td>ALL</td>\n",
              "      <td>ALL</td>\n",
              "      <td>WH</td>\n",
              "      <td>0.0</td>\n",
              "      <td>2012.0</td>\n",
              "      <td>-</td>\n",
              "      <td>0.0</td>\n",
              "      <td>NaN</td>\n",
              "      <td>NaN</td>\n",
              "      <td>NaN</td>\n",
              "      <td>NaN</td>\n",
              "      <td>NaN</td>\n",
              "      <td>NaN</td>\n",
              "      <td>NaN</td>\n",
              "      <td>NaN</td>\n",
              "      <td>NaN</td>\n",
              "      <td>NaN</td>\n",
              "      <td>NaN</td>\n",
              "      <td>NaN</td>\n",
              "      <td>NaN</td>\n",
              "    </tr>\n",
              "    <tr>\n",
              "      <th>2</th>\n",
              "      <td>1283294163</td>\n",
              "      <td>78755JZ</td>\n",
              "      <td>NY</td>\n",
              "      <td>COM</td>\n",
              "      <td>08/05/2013</td>\n",
              "      <td>46</td>\n",
              "      <td>P-U</td>\n",
              "      <td>CHEVR</td>\n",
              "      <td>P</td>\n",
              "      <td>37030</td>\n",
              "      <td>31190</td>\n",
              "      <td>13610</td>\n",
              "      <td>20140228</td>\n",
              "      <td>33.0</td>\n",
              "      <td>33</td>\n",
              "      <td>33</td>\n",
              "      <td>921043</td>\n",
              "      <td>0033</td>\n",
              "      <td>0</td>\n",
              "      <td>1243P</td>\n",
              "      <td>NaN</td>\n",
              "      <td>NY</td>\n",
              "      <td>O</td>\n",
              "      <td>520</td>\n",
              "      <td>W 163 ST</td>\n",
              "      <td>NaN</td>\n",
              "      <td>0.0</td>\n",
              "      <td>408.0</td>\n",
              "      <td>F7</td>\n",
              "      <td>NaN</td>\n",
              "      <td>BBBBBBB</td>\n",
              "      <td>ALL</td>\n",
              "      <td>ALL</td>\n",
              "      <td>NaN</td>\n",
              "      <td>0.0</td>\n",
              "      <td>0.0</td>\n",
              "      <td>-</td>\n",
              "      <td>0.0</td>\n",
              "      <td>NaN</td>\n",
              "      <td>NaN</td>\n",
              "      <td>NaN</td>\n",
              "      <td>NaN</td>\n",
              "      <td>NaN</td>\n",
              "      <td>NaN</td>\n",
              "      <td>NaN</td>\n",
              "      <td>NaN</td>\n",
              "      <td>NaN</td>\n",
              "      <td>NaN</td>\n",
              "      <td>NaN</td>\n",
              "      <td>NaN</td>\n",
              "      <td>NaN</td>\n",
              "    </tr>\n",
              "    <tr>\n",
              "      <th>3</th>\n",
              "      <td>1283294175</td>\n",
              "      <td>63009MA</td>\n",
              "      <td>NY</td>\n",
              "      <td>COM</td>\n",
              "      <td>08/05/2013</td>\n",
              "      <td>46</td>\n",
              "      <td>VAN</td>\n",
              "      <td>FORD</td>\n",
              "      <td>P</td>\n",
              "      <td>37270</td>\n",
              "      <td>11710</td>\n",
              "      <td>12010</td>\n",
              "      <td>20141031</td>\n",
              "      <td>33.0</td>\n",
              "      <td>33</td>\n",
              "      <td>33</td>\n",
              "      <td>921043</td>\n",
              "      <td>0033</td>\n",
              "      <td>0</td>\n",
              "      <td>0232P</td>\n",
              "      <td>NaN</td>\n",
              "      <td>NY</td>\n",
              "      <td>O</td>\n",
              "      <td>517</td>\n",
              "      <td>W 176 ST</td>\n",
              "      <td>NaN</td>\n",
              "      <td>0.0</td>\n",
              "      <td>408.0</td>\n",
              "      <td>F1</td>\n",
              "      <td>NaN</td>\n",
              "      <td>BBBBBBB</td>\n",
              "      <td>ALL</td>\n",
              "      <td>ALL</td>\n",
              "      <td>WH</td>\n",
              "      <td>0.0</td>\n",
              "      <td>2010.0</td>\n",
              "      <td>-</td>\n",
              "      <td>0.0</td>\n",
              "      <td>NaN</td>\n",
              "      <td>NaN</td>\n",
              "      <td>NaN</td>\n",
              "      <td>NaN</td>\n",
              "      <td>NaN</td>\n",
              "      <td>NaN</td>\n",
              "      <td>NaN</td>\n",
              "      <td>NaN</td>\n",
              "      <td>NaN</td>\n",
              "      <td>NaN</td>\n",
              "      <td>NaN</td>\n",
              "      <td>NaN</td>\n",
              "      <td>NaN</td>\n",
              "    </tr>\n",
              "    <tr>\n",
              "      <th>4</th>\n",
              "      <td>1283294187</td>\n",
              "      <td>91648MC</td>\n",
              "      <td>NY</td>\n",
              "      <td>COM</td>\n",
              "      <td>08/08/2013</td>\n",
              "      <td>41</td>\n",
              "      <td>TRLR</td>\n",
              "      <td>GMC</td>\n",
              "      <td>P</td>\n",
              "      <td>37240</td>\n",
              "      <td>12010</td>\n",
              "      <td>31190</td>\n",
              "      <td>0</td>\n",
              "      <td>33.0</td>\n",
              "      <td>33</td>\n",
              "      <td>33</td>\n",
              "      <td>921043</td>\n",
              "      <td>0033</td>\n",
              "      <td>0</td>\n",
              "      <td>1239P</td>\n",
              "      <td>NaN</td>\n",
              "      <td>NY</td>\n",
              "      <td>F</td>\n",
              "      <td>590</td>\n",
              "      <td>W 174 ST</td>\n",
              "      <td>NaN</td>\n",
              "      <td>0.0</td>\n",
              "      <td>408.0</td>\n",
              "      <td>E1</td>\n",
              "      <td>NaN</td>\n",
              "      <td>BBBBBBB</td>\n",
              "      <td>ALL</td>\n",
              "      <td>ALL</td>\n",
              "      <td>BR</td>\n",
              "      <td>0.0</td>\n",
              "      <td>2012.0</td>\n",
              "      <td>-</td>\n",
              "      <td>0.0</td>\n",
              "      <td>NaN</td>\n",
              "      <td>NaN</td>\n",
              "      <td>NaN</td>\n",
              "      <td>NaN</td>\n",
              "      <td>NaN</td>\n",
              "      <td>NaN</td>\n",
              "      <td>NaN</td>\n",
              "      <td>NaN</td>\n",
              "      <td>NaN</td>\n",
              "      <td>NaN</td>\n",
              "      <td>NaN</td>\n",
              "      <td>NaN</td>\n",
              "      <td>NaN</td>\n",
              "    </tr>\n",
              "    <tr>\n",
              "      <th>...</th>\n",
              "      <td>...</td>\n",
              "      <td>...</td>\n",
              "      <td>...</td>\n",
              "      <td>...</td>\n",
              "      <td>...</td>\n",
              "      <td>...</td>\n",
              "      <td>...</td>\n",
              "      <td>...</td>\n",
              "      <td>...</td>\n",
              "      <td>...</td>\n",
              "      <td>...</td>\n",
              "      <td>...</td>\n",
              "      <td>...</td>\n",
              "      <td>...</td>\n",
              "      <td>...</td>\n",
              "      <td>...</td>\n",
              "      <td>...</td>\n",
              "      <td>...</td>\n",
              "      <td>...</td>\n",
              "      <td>...</td>\n",
              "      <td>...</td>\n",
              "      <td>...</td>\n",
              "      <td>...</td>\n",
              "      <td>...</td>\n",
              "      <td>...</td>\n",
              "      <td>...</td>\n",
              "      <td>...</td>\n",
              "      <td>...</td>\n",
              "      <td>...</td>\n",
              "      <td>...</td>\n",
              "      <td>...</td>\n",
              "      <td>...</td>\n",
              "      <td>...</td>\n",
              "      <td>...</td>\n",
              "      <td>...</td>\n",
              "      <td>...</td>\n",
              "      <td>...</td>\n",
              "      <td>...</td>\n",
              "      <td>...</td>\n",
              "      <td>...</td>\n",
              "      <td>...</td>\n",
              "      <td>...</td>\n",
              "      <td>...</td>\n",
              "      <td>...</td>\n",
              "      <td>...</td>\n",
              "      <td>...</td>\n",
              "      <td>...</td>\n",
              "      <td>...</td>\n",
              "      <td>...</td>\n",
              "      <td>...</td>\n",
              "      <td>...</td>\n",
              "    </tr>\n",
              "    <tr>\n",
              "      <th>9100273</th>\n",
              "      <td>8006150199</td>\n",
              "      <td>16088MC</td>\n",
              "      <td>NY</td>\n",
              "      <td>COM</td>\n",
              "      <td>06/25/2014</td>\n",
              "      <td>38</td>\n",
              "      <td>VAN</td>\n",
              "      <td>CHEVR</td>\n",
              "      <td>T</td>\n",
              "      <td>67530</td>\n",
              "      <td>26230</td>\n",
              "      <td>84730</td>\n",
              "      <td>88888888</td>\n",
              "      <td>70.0</td>\n",
              "      <td>70</td>\n",
              "      <td>70</td>\n",
              "      <td>350442</td>\n",
              "      <td>T302</td>\n",
              "      <td>K</td>\n",
              "      <td>0346P</td>\n",
              "      <td>NaN</td>\n",
              "      <td>K</td>\n",
              "      <td>F</td>\n",
              "      <td>522</td>\n",
              "      <td>Ocean Ave</td>\n",
              "      <td>NaN</td>\n",
              "      <td>0.0</td>\n",
              "      <td>408.0</td>\n",
              "      <td>h1</td>\n",
              "      <td>NaN</td>\n",
              "      <td>Y</td>\n",
              "      <td>0900A</td>\n",
              "      <td>0700P</td>\n",
              "      <td>WHITE</td>\n",
              "      <td>NaN</td>\n",
              "      <td>2011.0</td>\n",
              "      <td>NaN</td>\n",
              "      <td>0.0</td>\n",
              "      <td>10 3</td>\n",
              "      <td>38-Failure to Display Muni Rec</td>\n",
              "      <td>NaN</td>\n",
              "      <td>NaN</td>\n",
              "      <td>NaN</td>\n",
              "      <td>NaN</td>\n",
              "      <td>NaN</td>\n",
              "      <td>NaN</td>\n",
              "      <td>NaN</td>\n",
              "      <td>NaN</td>\n",
              "      <td>NaN</td>\n",
              "      <td>NaN</td>\n",
              "      <td>NaN</td>\n",
              "    </tr>\n",
              "    <tr>\n",
              "      <th>9100274</th>\n",
              "      <td>8006150217</td>\n",
              "      <td>94008JW</td>\n",
              "      <td>NY</td>\n",
              "      <td>COM</td>\n",
              "      <td>06/25/2014</td>\n",
              "      <td>38</td>\n",
              "      <td>VAN</td>\n",
              "      <td>CHEVR</td>\n",
              "      <td>T</td>\n",
              "      <td>26230</td>\n",
              "      <td>35680</td>\n",
              "      <td>67530</td>\n",
              "      <td>88888888</td>\n",
              "      <td>70.0</td>\n",
              "      <td>70</td>\n",
              "      <td>70</td>\n",
              "      <td>350442</td>\n",
              "      <td>T302</td>\n",
              "      <td>K</td>\n",
              "      <td>0414P</td>\n",
              "      <td>NaN</td>\n",
              "      <td>K</td>\n",
              "      <td>F</td>\n",
              "      <td>1913</td>\n",
              "      <td>Church Ave</td>\n",
              "      <td>NaN</td>\n",
              "      <td>0.0</td>\n",
              "      <td>408.0</td>\n",
              "      <td>h1</td>\n",
              "      <td>NaN</td>\n",
              "      <td>Y</td>\n",
              "      <td>0800A</td>\n",
              "      <td>0700P</td>\n",
              "      <td>WHITE</td>\n",
              "      <td>NaN</td>\n",
              "      <td>2007.0</td>\n",
              "      <td>NaN</td>\n",
              "      <td>0.0</td>\n",
              "      <td>10 3</td>\n",
              "      <td>38-Failure to Display Muni Rec</td>\n",
              "      <td>NaN</td>\n",
              "      <td>NaN</td>\n",
              "      <td>NaN</td>\n",
              "      <td>NaN</td>\n",
              "      <td>NaN</td>\n",
              "      <td>NaN</td>\n",
              "      <td>NaN</td>\n",
              "      <td>NaN</td>\n",
              "      <td>NaN</td>\n",
              "      <td>NaN</td>\n",
              "      <td>NaN</td>\n",
              "    </tr>\n",
              "    <tr>\n",
              "      <th>9100275</th>\n",
              "      <td>8006150242</td>\n",
              "      <td>FWG3729</td>\n",
              "      <td>NY</td>\n",
              "      <td>PAS</td>\n",
              "      <td>06/25/2014</td>\n",
              "      <td>70</td>\n",
              "      <td>SUBN</td>\n",
              "      <td>FORD</td>\n",
              "      <td>T</td>\n",
              "      <td>40930</td>\n",
              "      <td>40430</td>\n",
              "      <td>48230</td>\n",
              "      <td>20140531</td>\n",
              "      <td>70.0</td>\n",
              "      <td>70</td>\n",
              "      <td>70</td>\n",
              "      <td>350442</td>\n",
              "      <td>T302</td>\n",
              "      <td>K</td>\n",
              "      <td>0448P</td>\n",
              "      <td>NaN</td>\n",
              "      <td>K</td>\n",
              "      <td>F</td>\n",
              "      <td>654</td>\n",
              "      <td>Flatbush Ave</td>\n",
              "      <td>NaN</td>\n",
              "      <td>0.0</td>\n",
              "      <td>408.0</td>\n",
              "      <td>j3</td>\n",
              "      <td>NaN</td>\n",
              "      <td>YYYYYYY</td>\n",
              "      <td>NaN</td>\n",
              "      <td>NaN</td>\n",
              "      <td>WH</td>\n",
              "      <td>NaN</td>\n",
              "      <td>1996.0</td>\n",
              "      <td>NaN</td>\n",
              "      <td>0.0</td>\n",
              "      <td>10 3</td>\n",
              "      <td>70A-Reg. Sticker Expired (NYS)</td>\n",
              "      <td>NaN</td>\n",
              "      <td>NaN</td>\n",
              "      <td>NaN</td>\n",
              "      <td>NaN</td>\n",
              "      <td>NaN</td>\n",
              "      <td>NaN</td>\n",
              "      <td>NaN</td>\n",
              "      <td>NaN</td>\n",
              "      <td>NaN</td>\n",
              "      <td>NaN</td>\n",
              "      <td>NaN</td>\n",
              "    </tr>\n",
              "    <tr>\n",
              "      <th>9100276</th>\n",
              "      <td>8006150254</td>\n",
              "      <td>193YUR</td>\n",
              "      <td>CT</td>\n",
              "      <td>PAS</td>\n",
              "      <td>06/25/2014</td>\n",
              "      <td>37</td>\n",
              "      <td>SUBN</td>\n",
              "      <td>CHEVR</td>\n",
              "      <td>T</td>\n",
              "      <td>40930</td>\n",
              "      <td>60830</td>\n",
              "      <td>74230</td>\n",
              "      <td>20140088</td>\n",
              "      <td>70.0</td>\n",
              "      <td>70</td>\n",
              "      <td>70</td>\n",
              "      <td>350442</td>\n",
              "      <td>T302</td>\n",
              "      <td>K</td>\n",
              "      <td>0454P</td>\n",
              "      <td>0229P</td>\n",
              "      <td>K</td>\n",
              "      <td>F</td>\n",
              "      <td>606</td>\n",
              "      <td>Flatbush Ave</td>\n",
              "      <td>NaN</td>\n",
              "      <td>0.0</td>\n",
              "      <td>408.0</td>\n",
              "      <td>h1</td>\n",
              "      <td>NaN</td>\n",
              "      <td>Y</td>\n",
              "      <td>0800A</td>\n",
              "      <td>0700P</td>\n",
              "      <td>BLACK</td>\n",
              "      <td>NaN</td>\n",
              "      <td>0.0</td>\n",
              "      <td>304-3007</td>\n",
              "      <td>0.0</td>\n",
              "      <td>10 3</td>\n",
              "      <td>37-Expired Muni Meter</td>\n",
              "      <td>NaN</td>\n",
              "      <td>NaN</td>\n",
              "      <td>NaN</td>\n",
              "      <td>NaN</td>\n",
              "      <td>NaN</td>\n",
              "      <td>NaN</td>\n",
              "      <td>NaN</td>\n",
              "      <td>NaN</td>\n",
              "      <td>NaN</td>\n",
              "      <td>NaN</td>\n",
              "      <td>NaN</td>\n",
              "    </tr>\n",
              "    <tr>\n",
              "      <th>9100277</th>\n",
              "      <td>8006150278</td>\n",
              "      <td>FPN7411</td>\n",
              "      <td>NY</td>\n",
              "      <td>PAS</td>\n",
              "      <td>06/25/2014</td>\n",
              "      <td>20</td>\n",
              "      <td>4DSD</td>\n",
              "      <td>CHEVR</td>\n",
              "      <td>T</td>\n",
              "      <td>40930</td>\n",
              "      <td>67047</td>\n",
              "      <td>54930</td>\n",
              "      <td>20150815</td>\n",
              "      <td>70.0</td>\n",
              "      <td>70</td>\n",
              "      <td>70</td>\n",
              "      <td>350442</td>\n",
              "      <td>T302</td>\n",
              "      <td>K</td>\n",
              "      <td>0507P</td>\n",
              "      <td>NaN</td>\n",
              "      <td>K</td>\n",
              "      <td>F</td>\n",
              "      <td>495</td>\n",
              "      <td>Flatbush Ave</td>\n",
              "      <td>NaN</td>\n",
              "      <td>0.0</td>\n",
              "      <td>408.0</td>\n",
              "      <td>d</td>\n",
              "      <td>NaN</td>\n",
              "      <td>YYYYYYY</td>\n",
              "      <td>NaN</td>\n",
              "      <td>NaN</td>\n",
              "      <td>RD</td>\n",
              "      <td>NaN</td>\n",
              "      <td>0.0</td>\n",
              "      <td>NaN</td>\n",
              "      <td>0.0</td>\n",
              "      <td>10 3</td>\n",
              "      <td>20A-No Parking (Non-COM)</td>\n",
              "      <td>NaN</td>\n",
              "      <td>NaN</td>\n",
              "      <td>NaN</td>\n",
              "      <td>NaN</td>\n",
              "      <td>NaN</td>\n",
              "      <td>NaN</td>\n",
              "      <td>NaN</td>\n",
              "      <td>NaN</td>\n",
              "      <td>NaN</td>\n",
              "      <td>NaN</td>\n",
              "      <td>NaN</td>\n",
              "    </tr>\n",
              "  </tbody>\n",
              "</table>\n",
              "<p>9100278 rows × 51 columns</p>\n",
              "</div>"
            ],
            "text/plain": [
              "         Summons Number Plate ID Registration State  ... BIN BBL  NTA\n",
              "0            1283294138  GBB9093                 NY  ... NaN NaN  NaN\n",
              "1            1283294151  62416MB                 NY  ... NaN NaN  NaN\n",
              "2            1283294163  78755JZ                 NY  ... NaN NaN  NaN\n",
              "3            1283294175  63009MA                 NY  ... NaN NaN  NaN\n",
              "4            1283294187  91648MC                 NY  ... NaN NaN  NaN\n",
              "...                 ...      ...                ...  ...  ..  ..  ...\n",
              "9100273      8006150199  16088MC                 NY  ... NaN NaN  NaN\n",
              "9100274      8006150217  94008JW                 NY  ... NaN NaN  NaN\n",
              "9100275      8006150242  FWG3729                 NY  ... NaN NaN  NaN\n",
              "9100276      8006150254   193YUR                 CT  ... NaN NaN  NaN\n",
              "9100277      8006150278  FPN7411                 NY  ... NaN NaN  NaN\n",
              "\n",
              "[9100278 rows x 51 columns]"
            ]
          },
          "metadata": {
            "tags": []
          },
          "execution_count": 4
        }
      ]
    },
    {
      "cell_type": "code",
      "metadata": {
        "colab": {
          "base_uri": "https://localhost:8080/",
          "height": 745
        },
        "id": "xUSvC13NAzTl",
        "outputId": "61435d6d-7069-4042-8e39-a134c975521d"
      },
      "source": [
        "dataDF = pd.DataFrame(data)\n",
        "dataDF"
      ],
      "execution_count": 5,
      "outputs": [
        {
          "output_type": "execute_result",
          "data": {
            "text/html": [
              "<div>\n",
              "<style scoped>\n",
              "    .dataframe tbody tr th:only-of-type {\n",
              "        vertical-align: middle;\n",
              "    }\n",
              "\n",
              "    .dataframe tbody tr th {\n",
              "        vertical-align: top;\n",
              "    }\n",
              "\n",
              "    .dataframe thead th {\n",
              "        text-align: right;\n",
              "    }\n",
              "</style>\n",
              "<table border=\"1\" class=\"dataframe\">\n",
              "  <thead>\n",
              "    <tr style=\"text-align: right;\">\n",
              "      <th></th>\n",
              "      <th>Summons Number</th>\n",
              "      <th>Plate ID</th>\n",
              "      <th>Registration State</th>\n",
              "      <th>Plate Type</th>\n",
              "      <th>Issue Date</th>\n",
              "      <th>Violation Code</th>\n",
              "      <th>Vehicle Body Type</th>\n",
              "      <th>Vehicle Make</th>\n",
              "      <th>Issuing Agency</th>\n",
              "      <th>Street Code1</th>\n",
              "      <th>Street Code2</th>\n",
              "      <th>Street Code3</th>\n",
              "      <th>Vehicle Expiration Date</th>\n",
              "      <th>Violation Location</th>\n",
              "      <th>Violation Precinct</th>\n",
              "      <th>Issuer Precinct</th>\n",
              "      <th>Issuer Code</th>\n",
              "      <th>Issuer Command</th>\n",
              "      <th>Issuer Squad</th>\n",
              "      <th>Violation Time</th>\n",
              "      <th>Time First Observed</th>\n",
              "      <th>Violation County</th>\n",
              "      <th>Violation In Front Of Or Opposite</th>\n",
              "      <th>House Number</th>\n",
              "      <th>Street Name</th>\n",
              "      <th>Intersecting Street</th>\n",
              "      <th>Date First Observed</th>\n",
              "      <th>Law Section</th>\n",
              "      <th>Sub Division</th>\n",
              "      <th>Violation Legal Code</th>\n",
              "      <th>Days Parking In Effect</th>\n",
              "      <th>From Hours In Effect</th>\n",
              "      <th>To Hours In Effect</th>\n",
              "      <th>Vehicle Color</th>\n",
              "      <th>Unregistered Vehicle?</th>\n",
              "      <th>Vehicle Year</th>\n",
              "      <th>Meter Number</th>\n",
              "      <th>Feet From Curb</th>\n",
              "      <th>Violation Post Code</th>\n",
              "      <th>Violation Description</th>\n",
              "      <th>No Standing or Stopping Violation</th>\n",
              "      <th>Hydrant Violation</th>\n",
              "      <th>Double Parking Violation</th>\n",
              "      <th>Latitude</th>\n",
              "      <th>Longitude</th>\n",
              "      <th>Community Board</th>\n",
              "      <th>Community Council</th>\n",
              "      <th>Census Tract</th>\n",
              "      <th>BIN</th>\n",
              "      <th>BBL</th>\n",
              "      <th>NTA</th>\n",
              "    </tr>\n",
              "  </thead>\n",
              "  <tbody>\n",
              "    <tr>\n",
              "      <th>0</th>\n",
              "      <td>1283294138</td>\n",
              "      <td>GBB9093</td>\n",
              "      <td>NY</td>\n",
              "      <td>PAS</td>\n",
              "      <td>08/04/2013</td>\n",
              "      <td>46</td>\n",
              "      <td>SUBN</td>\n",
              "      <td>AUDI</td>\n",
              "      <td>P</td>\n",
              "      <td>37250</td>\n",
              "      <td>13610</td>\n",
              "      <td>21190</td>\n",
              "      <td>20140831</td>\n",
              "      <td>33.0</td>\n",
              "      <td>33</td>\n",
              "      <td>33</td>\n",
              "      <td>921043</td>\n",
              "      <td>0033</td>\n",
              "      <td>0</td>\n",
              "      <td>0752A</td>\n",
              "      <td>NaN</td>\n",
              "      <td>NaN</td>\n",
              "      <td>F</td>\n",
              "      <td>712</td>\n",
              "      <td>W 175 ST</td>\n",
              "      <td>NaN</td>\n",
              "      <td>0.0</td>\n",
              "      <td>408.0</td>\n",
              "      <td>F1</td>\n",
              "      <td>NaN</td>\n",
              "      <td>BBBBBBB</td>\n",
              "      <td>ALL</td>\n",
              "      <td>ALL</td>\n",
              "      <td>GY</td>\n",
              "      <td>0.0</td>\n",
              "      <td>2013.0</td>\n",
              "      <td>-</td>\n",
              "      <td>0.0</td>\n",
              "      <td>NaN</td>\n",
              "      <td>NaN</td>\n",
              "      <td>NaN</td>\n",
              "      <td>NaN</td>\n",
              "      <td>NaN</td>\n",
              "      <td>NaN</td>\n",
              "      <td>NaN</td>\n",
              "      <td>NaN</td>\n",
              "      <td>NaN</td>\n",
              "      <td>NaN</td>\n",
              "      <td>NaN</td>\n",
              "      <td>NaN</td>\n",
              "      <td>NaN</td>\n",
              "    </tr>\n",
              "    <tr>\n",
              "      <th>1</th>\n",
              "      <td>1283294151</td>\n",
              "      <td>62416MB</td>\n",
              "      <td>NY</td>\n",
              "      <td>COM</td>\n",
              "      <td>08/04/2013</td>\n",
              "      <td>46</td>\n",
              "      <td>VAN</td>\n",
              "      <td>FORD</td>\n",
              "      <td>P</td>\n",
              "      <td>37290</td>\n",
              "      <td>40404</td>\n",
              "      <td>40404</td>\n",
              "      <td>20140430</td>\n",
              "      <td>33.0</td>\n",
              "      <td>33</td>\n",
              "      <td>33</td>\n",
              "      <td>921043</td>\n",
              "      <td>0033</td>\n",
              "      <td>0</td>\n",
              "      <td>1240P</td>\n",
              "      <td>NaN</td>\n",
              "      <td>NY</td>\n",
              "      <td>O</td>\n",
              "      <td>201</td>\n",
              "      <td>W 177 ST</td>\n",
              "      <td>NaN</td>\n",
              "      <td>0.0</td>\n",
              "      <td>408.0</td>\n",
              "      <td>C</td>\n",
              "      <td>NaN</td>\n",
              "      <td>BBBBBBB</td>\n",
              "      <td>ALL</td>\n",
              "      <td>ALL</td>\n",
              "      <td>WH</td>\n",
              "      <td>0.0</td>\n",
              "      <td>2012.0</td>\n",
              "      <td>-</td>\n",
              "      <td>0.0</td>\n",
              "      <td>NaN</td>\n",
              "      <td>NaN</td>\n",
              "      <td>NaN</td>\n",
              "      <td>NaN</td>\n",
              "      <td>NaN</td>\n",
              "      <td>NaN</td>\n",
              "      <td>NaN</td>\n",
              "      <td>NaN</td>\n",
              "      <td>NaN</td>\n",
              "      <td>NaN</td>\n",
              "      <td>NaN</td>\n",
              "      <td>NaN</td>\n",
              "      <td>NaN</td>\n",
              "    </tr>\n",
              "    <tr>\n",
              "      <th>2</th>\n",
              "      <td>1283294163</td>\n",
              "      <td>78755JZ</td>\n",
              "      <td>NY</td>\n",
              "      <td>COM</td>\n",
              "      <td>08/05/2013</td>\n",
              "      <td>46</td>\n",
              "      <td>P-U</td>\n",
              "      <td>CHEVR</td>\n",
              "      <td>P</td>\n",
              "      <td>37030</td>\n",
              "      <td>31190</td>\n",
              "      <td>13610</td>\n",
              "      <td>20140228</td>\n",
              "      <td>33.0</td>\n",
              "      <td>33</td>\n",
              "      <td>33</td>\n",
              "      <td>921043</td>\n",
              "      <td>0033</td>\n",
              "      <td>0</td>\n",
              "      <td>1243P</td>\n",
              "      <td>NaN</td>\n",
              "      <td>NY</td>\n",
              "      <td>O</td>\n",
              "      <td>520</td>\n",
              "      <td>W 163 ST</td>\n",
              "      <td>NaN</td>\n",
              "      <td>0.0</td>\n",
              "      <td>408.0</td>\n",
              "      <td>F7</td>\n",
              "      <td>NaN</td>\n",
              "      <td>BBBBBBB</td>\n",
              "      <td>ALL</td>\n",
              "      <td>ALL</td>\n",
              "      <td>NaN</td>\n",
              "      <td>0.0</td>\n",
              "      <td>0.0</td>\n",
              "      <td>-</td>\n",
              "      <td>0.0</td>\n",
              "      <td>NaN</td>\n",
              "      <td>NaN</td>\n",
              "      <td>NaN</td>\n",
              "      <td>NaN</td>\n",
              "      <td>NaN</td>\n",
              "      <td>NaN</td>\n",
              "      <td>NaN</td>\n",
              "      <td>NaN</td>\n",
              "      <td>NaN</td>\n",
              "      <td>NaN</td>\n",
              "      <td>NaN</td>\n",
              "      <td>NaN</td>\n",
              "      <td>NaN</td>\n",
              "    </tr>\n",
              "    <tr>\n",
              "      <th>3</th>\n",
              "      <td>1283294175</td>\n",
              "      <td>63009MA</td>\n",
              "      <td>NY</td>\n",
              "      <td>COM</td>\n",
              "      <td>08/05/2013</td>\n",
              "      <td>46</td>\n",
              "      <td>VAN</td>\n",
              "      <td>FORD</td>\n",
              "      <td>P</td>\n",
              "      <td>37270</td>\n",
              "      <td>11710</td>\n",
              "      <td>12010</td>\n",
              "      <td>20141031</td>\n",
              "      <td>33.0</td>\n",
              "      <td>33</td>\n",
              "      <td>33</td>\n",
              "      <td>921043</td>\n",
              "      <td>0033</td>\n",
              "      <td>0</td>\n",
              "      <td>0232P</td>\n",
              "      <td>NaN</td>\n",
              "      <td>NY</td>\n",
              "      <td>O</td>\n",
              "      <td>517</td>\n",
              "      <td>W 176 ST</td>\n",
              "      <td>NaN</td>\n",
              "      <td>0.0</td>\n",
              "      <td>408.0</td>\n",
              "      <td>F1</td>\n",
              "      <td>NaN</td>\n",
              "      <td>BBBBBBB</td>\n",
              "      <td>ALL</td>\n",
              "      <td>ALL</td>\n",
              "      <td>WH</td>\n",
              "      <td>0.0</td>\n",
              "      <td>2010.0</td>\n",
              "      <td>-</td>\n",
              "      <td>0.0</td>\n",
              "      <td>NaN</td>\n",
              "      <td>NaN</td>\n",
              "      <td>NaN</td>\n",
              "      <td>NaN</td>\n",
              "      <td>NaN</td>\n",
              "      <td>NaN</td>\n",
              "      <td>NaN</td>\n",
              "      <td>NaN</td>\n",
              "      <td>NaN</td>\n",
              "      <td>NaN</td>\n",
              "      <td>NaN</td>\n",
              "      <td>NaN</td>\n",
              "      <td>NaN</td>\n",
              "    </tr>\n",
              "    <tr>\n",
              "      <th>4</th>\n",
              "      <td>1283294187</td>\n",
              "      <td>91648MC</td>\n",
              "      <td>NY</td>\n",
              "      <td>COM</td>\n",
              "      <td>08/08/2013</td>\n",
              "      <td>41</td>\n",
              "      <td>TRLR</td>\n",
              "      <td>GMC</td>\n",
              "      <td>P</td>\n",
              "      <td>37240</td>\n",
              "      <td>12010</td>\n",
              "      <td>31190</td>\n",
              "      <td>0</td>\n",
              "      <td>33.0</td>\n",
              "      <td>33</td>\n",
              "      <td>33</td>\n",
              "      <td>921043</td>\n",
              "      <td>0033</td>\n",
              "      <td>0</td>\n",
              "      <td>1239P</td>\n",
              "      <td>NaN</td>\n",
              "      <td>NY</td>\n",
              "      <td>F</td>\n",
              "      <td>590</td>\n",
              "      <td>W 174 ST</td>\n",
              "      <td>NaN</td>\n",
              "      <td>0.0</td>\n",
              "      <td>408.0</td>\n",
              "      <td>E1</td>\n",
              "      <td>NaN</td>\n",
              "      <td>BBBBBBB</td>\n",
              "      <td>ALL</td>\n",
              "      <td>ALL</td>\n",
              "      <td>BR</td>\n",
              "      <td>0.0</td>\n",
              "      <td>2012.0</td>\n",
              "      <td>-</td>\n",
              "      <td>0.0</td>\n",
              "      <td>NaN</td>\n",
              "      <td>NaN</td>\n",
              "      <td>NaN</td>\n",
              "      <td>NaN</td>\n",
              "      <td>NaN</td>\n",
              "      <td>NaN</td>\n",
              "      <td>NaN</td>\n",
              "      <td>NaN</td>\n",
              "      <td>NaN</td>\n",
              "      <td>NaN</td>\n",
              "      <td>NaN</td>\n",
              "      <td>NaN</td>\n",
              "      <td>NaN</td>\n",
              "    </tr>\n",
              "    <tr>\n",
              "      <th>...</th>\n",
              "      <td>...</td>\n",
              "      <td>...</td>\n",
              "      <td>...</td>\n",
              "      <td>...</td>\n",
              "      <td>...</td>\n",
              "      <td>...</td>\n",
              "      <td>...</td>\n",
              "      <td>...</td>\n",
              "      <td>...</td>\n",
              "      <td>...</td>\n",
              "      <td>...</td>\n",
              "      <td>...</td>\n",
              "      <td>...</td>\n",
              "      <td>...</td>\n",
              "      <td>...</td>\n",
              "      <td>...</td>\n",
              "      <td>...</td>\n",
              "      <td>...</td>\n",
              "      <td>...</td>\n",
              "      <td>...</td>\n",
              "      <td>...</td>\n",
              "      <td>...</td>\n",
              "      <td>...</td>\n",
              "      <td>...</td>\n",
              "      <td>...</td>\n",
              "      <td>...</td>\n",
              "      <td>...</td>\n",
              "      <td>...</td>\n",
              "      <td>...</td>\n",
              "      <td>...</td>\n",
              "      <td>...</td>\n",
              "      <td>...</td>\n",
              "      <td>...</td>\n",
              "      <td>...</td>\n",
              "      <td>...</td>\n",
              "      <td>...</td>\n",
              "      <td>...</td>\n",
              "      <td>...</td>\n",
              "      <td>...</td>\n",
              "      <td>...</td>\n",
              "      <td>...</td>\n",
              "      <td>...</td>\n",
              "      <td>...</td>\n",
              "      <td>...</td>\n",
              "      <td>...</td>\n",
              "      <td>...</td>\n",
              "      <td>...</td>\n",
              "      <td>...</td>\n",
              "      <td>...</td>\n",
              "      <td>...</td>\n",
              "      <td>...</td>\n",
              "    </tr>\n",
              "    <tr>\n",
              "      <th>9100273</th>\n",
              "      <td>8006150199</td>\n",
              "      <td>16088MC</td>\n",
              "      <td>NY</td>\n",
              "      <td>COM</td>\n",
              "      <td>06/25/2014</td>\n",
              "      <td>38</td>\n",
              "      <td>VAN</td>\n",
              "      <td>CHEVR</td>\n",
              "      <td>T</td>\n",
              "      <td>67530</td>\n",
              "      <td>26230</td>\n",
              "      <td>84730</td>\n",
              "      <td>88888888</td>\n",
              "      <td>70.0</td>\n",
              "      <td>70</td>\n",
              "      <td>70</td>\n",
              "      <td>350442</td>\n",
              "      <td>T302</td>\n",
              "      <td>K</td>\n",
              "      <td>0346P</td>\n",
              "      <td>NaN</td>\n",
              "      <td>K</td>\n",
              "      <td>F</td>\n",
              "      <td>522</td>\n",
              "      <td>Ocean Ave</td>\n",
              "      <td>NaN</td>\n",
              "      <td>0.0</td>\n",
              "      <td>408.0</td>\n",
              "      <td>h1</td>\n",
              "      <td>NaN</td>\n",
              "      <td>Y</td>\n",
              "      <td>0900A</td>\n",
              "      <td>0700P</td>\n",
              "      <td>WHITE</td>\n",
              "      <td>NaN</td>\n",
              "      <td>2011.0</td>\n",
              "      <td>NaN</td>\n",
              "      <td>0.0</td>\n",
              "      <td>10 3</td>\n",
              "      <td>38-Failure to Display Muni Rec</td>\n",
              "      <td>NaN</td>\n",
              "      <td>NaN</td>\n",
              "      <td>NaN</td>\n",
              "      <td>NaN</td>\n",
              "      <td>NaN</td>\n",
              "      <td>NaN</td>\n",
              "      <td>NaN</td>\n",
              "      <td>NaN</td>\n",
              "      <td>NaN</td>\n",
              "      <td>NaN</td>\n",
              "      <td>NaN</td>\n",
              "    </tr>\n",
              "    <tr>\n",
              "      <th>9100274</th>\n",
              "      <td>8006150217</td>\n",
              "      <td>94008JW</td>\n",
              "      <td>NY</td>\n",
              "      <td>COM</td>\n",
              "      <td>06/25/2014</td>\n",
              "      <td>38</td>\n",
              "      <td>VAN</td>\n",
              "      <td>CHEVR</td>\n",
              "      <td>T</td>\n",
              "      <td>26230</td>\n",
              "      <td>35680</td>\n",
              "      <td>67530</td>\n",
              "      <td>88888888</td>\n",
              "      <td>70.0</td>\n",
              "      <td>70</td>\n",
              "      <td>70</td>\n",
              "      <td>350442</td>\n",
              "      <td>T302</td>\n",
              "      <td>K</td>\n",
              "      <td>0414P</td>\n",
              "      <td>NaN</td>\n",
              "      <td>K</td>\n",
              "      <td>F</td>\n",
              "      <td>1913</td>\n",
              "      <td>Church Ave</td>\n",
              "      <td>NaN</td>\n",
              "      <td>0.0</td>\n",
              "      <td>408.0</td>\n",
              "      <td>h1</td>\n",
              "      <td>NaN</td>\n",
              "      <td>Y</td>\n",
              "      <td>0800A</td>\n",
              "      <td>0700P</td>\n",
              "      <td>WHITE</td>\n",
              "      <td>NaN</td>\n",
              "      <td>2007.0</td>\n",
              "      <td>NaN</td>\n",
              "      <td>0.0</td>\n",
              "      <td>10 3</td>\n",
              "      <td>38-Failure to Display Muni Rec</td>\n",
              "      <td>NaN</td>\n",
              "      <td>NaN</td>\n",
              "      <td>NaN</td>\n",
              "      <td>NaN</td>\n",
              "      <td>NaN</td>\n",
              "      <td>NaN</td>\n",
              "      <td>NaN</td>\n",
              "      <td>NaN</td>\n",
              "      <td>NaN</td>\n",
              "      <td>NaN</td>\n",
              "      <td>NaN</td>\n",
              "    </tr>\n",
              "    <tr>\n",
              "      <th>9100275</th>\n",
              "      <td>8006150242</td>\n",
              "      <td>FWG3729</td>\n",
              "      <td>NY</td>\n",
              "      <td>PAS</td>\n",
              "      <td>06/25/2014</td>\n",
              "      <td>70</td>\n",
              "      <td>SUBN</td>\n",
              "      <td>FORD</td>\n",
              "      <td>T</td>\n",
              "      <td>40930</td>\n",
              "      <td>40430</td>\n",
              "      <td>48230</td>\n",
              "      <td>20140531</td>\n",
              "      <td>70.0</td>\n",
              "      <td>70</td>\n",
              "      <td>70</td>\n",
              "      <td>350442</td>\n",
              "      <td>T302</td>\n",
              "      <td>K</td>\n",
              "      <td>0448P</td>\n",
              "      <td>NaN</td>\n",
              "      <td>K</td>\n",
              "      <td>F</td>\n",
              "      <td>654</td>\n",
              "      <td>Flatbush Ave</td>\n",
              "      <td>NaN</td>\n",
              "      <td>0.0</td>\n",
              "      <td>408.0</td>\n",
              "      <td>j3</td>\n",
              "      <td>NaN</td>\n",
              "      <td>YYYYYYY</td>\n",
              "      <td>NaN</td>\n",
              "      <td>NaN</td>\n",
              "      <td>WH</td>\n",
              "      <td>NaN</td>\n",
              "      <td>1996.0</td>\n",
              "      <td>NaN</td>\n",
              "      <td>0.0</td>\n",
              "      <td>10 3</td>\n",
              "      <td>70A-Reg. Sticker Expired (NYS)</td>\n",
              "      <td>NaN</td>\n",
              "      <td>NaN</td>\n",
              "      <td>NaN</td>\n",
              "      <td>NaN</td>\n",
              "      <td>NaN</td>\n",
              "      <td>NaN</td>\n",
              "      <td>NaN</td>\n",
              "      <td>NaN</td>\n",
              "      <td>NaN</td>\n",
              "      <td>NaN</td>\n",
              "      <td>NaN</td>\n",
              "    </tr>\n",
              "    <tr>\n",
              "      <th>9100276</th>\n",
              "      <td>8006150254</td>\n",
              "      <td>193YUR</td>\n",
              "      <td>CT</td>\n",
              "      <td>PAS</td>\n",
              "      <td>06/25/2014</td>\n",
              "      <td>37</td>\n",
              "      <td>SUBN</td>\n",
              "      <td>CHEVR</td>\n",
              "      <td>T</td>\n",
              "      <td>40930</td>\n",
              "      <td>60830</td>\n",
              "      <td>74230</td>\n",
              "      <td>20140088</td>\n",
              "      <td>70.0</td>\n",
              "      <td>70</td>\n",
              "      <td>70</td>\n",
              "      <td>350442</td>\n",
              "      <td>T302</td>\n",
              "      <td>K</td>\n",
              "      <td>0454P</td>\n",
              "      <td>0229P</td>\n",
              "      <td>K</td>\n",
              "      <td>F</td>\n",
              "      <td>606</td>\n",
              "      <td>Flatbush Ave</td>\n",
              "      <td>NaN</td>\n",
              "      <td>0.0</td>\n",
              "      <td>408.0</td>\n",
              "      <td>h1</td>\n",
              "      <td>NaN</td>\n",
              "      <td>Y</td>\n",
              "      <td>0800A</td>\n",
              "      <td>0700P</td>\n",
              "      <td>BLACK</td>\n",
              "      <td>NaN</td>\n",
              "      <td>0.0</td>\n",
              "      <td>304-3007</td>\n",
              "      <td>0.0</td>\n",
              "      <td>10 3</td>\n",
              "      <td>37-Expired Muni Meter</td>\n",
              "      <td>NaN</td>\n",
              "      <td>NaN</td>\n",
              "      <td>NaN</td>\n",
              "      <td>NaN</td>\n",
              "      <td>NaN</td>\n",
              "      <td>NaN</td>\n",
              "      <td>NaN</td>\n",
              "      <td>NaN</td>\n",
              "      <td>NaN</td>\n",
              "      <td>NaN</td>\n",
              "      <td>NaN</td>\n",
              "    </tr>\n",
              "    <tr>\n",
              "      <th>9100277</th>\n",
              "      <td>8006150278</td>\n",
              "      <td>FPN7411</td>\n",
              "      <td>NY</td>\n",
              "      <td>PAS</td>\n",
              "      <td>06/25/2014</td>\n",
              "      <td>20</td>\n",
              "      <td>4DSD</td>\n",
              "      <td>CHEVR</td>\n",
              "      <td>T</td>\n",
              "      <td>40930</td>\n",
              "      <td>67047</td>\n",
              "      <td>54930</td>\n",
              "      <td>20150815</td>\n",
              "      <td>70.0</td>\n",
              "      <td>70</td>\n",
              "      <td>70</td>\n",
              "      <td>350442</td>\n",
              "      <td>T302</td>\n",
              "      <td>K</td>\n",
              "      <td>0507P</td>\n",
              "      <td>NaN</td>\n",
              "      <td>K</td>\n",
              "      <td>F</td>\n",
              "      <td>495</td>\n",
              "      <td>Flatbush Ave</td>\n",
              "      <td>NaN</td>\n",
              "      <td>0.0</td>\n",
              "      <td>408.0</td>\n",
              "      <td>d</td>\n",
              "      <td>NaN</td>\n",
              "      <td>YYYYYYY</td>\n",
              "      <td>NaN</td>\n",
              "      <td>NaN</td>\n",
              "      <td>RD</td>\n",
              "      <td>NaN</td>\n",
              "      <td>0.0</td>\n",
              "      <td>NaN</td>\n",
              "      <td>0.0</td>\n",
              "      <td>10 3</td>\n",
              "      <td>20A-No Parking (Non-COM)</td>\n",
              "      <td>NaN</td>\n",
              "      <td>NaN</td>\n",
              "      <td>NaN</td>\n",
              "      <td>NaN</td>\n",
              "      <td>NaN</td>\n",
              "      <td>NaN</td>\n",
              "      <td>NaN</td>\n",
              "      <td>NaN</td>\n",
              "      <td>NaN</td>\n",
              "      <td>NaN</td>\n",
              "      <td>NaN</td>\n",
              "    </tr>\n",
              "  </tbody>\n",
              "</table>\n",
              "<p>9100278 rows × 51 columns</p>\n",
              "</div>"
            ],
            "text/plain": [
              "         Summons Number Plate ID Registration State  ... BIN BBL  NTA\n",
              "0            1283294138  GBB9093                 NY  ... NaN NaN  NaN\n",
              "1            1283294151  62416MB                 NY  ... NaN NaN  NaN\n",
              "2            1283294163  78755JZ                 NY  ... NaN NaN  NaN\n",
              "3            1283294175  63009MA                 NY  ... NaN NaN  NaN\n",
              "4            1283294187  91648MC                 NY  ... NaN NaN  NaN\n",
              "...                 ...      ...                ...  ...  ..  ..  ...\n",
              "9100273      8006150199  16088MC                 NY  ... NaN NaN  NaN\n",
              "9100274      8006150217  94008JW                 NY  ... NaN NaN  NaN\n",
              "9100275      8006150242  FWG3729                 NY  ... NaN NaN  NaN\n",
              "9100276      8006150254   193YUR                 CT  ... NaN NaN  NaN\n",
              "9100277      8006150278  FPN7411                 NY  ... NaN NaN  NaN\n",
              "\n",
              "[9100278 rows x 51 columns]"
            ]
          },
          "metadata": {
            "tags": []
          },
          "execution_count": 5
        }
      ]
    },
    {
      "cell_type": "markdown",
      "metadata": {
        "id": "_yKvYcEiCuis"
      },
      "source": [
        "#EDA"
      ]
    },
    {
      "cell_type": "markdown",
      "metadata": {
        "id": "f55wxZ4sCwBq"
      },
      "source": [
        "##State wise registration"
      ]
    },
    {
      "cell_type": "code",
      "metadata": {
        "colab": {
          "base_uri": "https://localhost:8080/"
        },
        "id": "SaA8HI1dC2D9",
        "outputId": "7e2324e2-6f7a-469b-e3b2-5a53b153d9c0"
      },
      "source": [
        "stateCount = dataDF['Registration State'].value_counts()[:10]\n",
        "stateCount"
      ],
      "execution_count": 6,
      "outputs": [
        {
          "output_type": "execute_result",
          "data": {
            "text/plain": [
              "NY    7029804\n",
              "NJ     878677\n",
              "PA     225760\n",
              "CT     136973\n",
              "FL     111887\n",
              "MA      78650\n",
              "VA      60951\n",
              "MD      50407\n",
              "IN      49126\n",
              "NC      47117\n",
              "Name: Registration State, dtype: int64"
            ]
          },
          "metadata": {
            "tags": []
          },
          "execution_count": 6
        }
      ]
    },
    {
      "cell_type": "code",
      "metadata": {
        "colab": {
          "base_uri": "https://localhost:8080/",
          "height": 535
        },
        "id": "dF_zfNv-FDSJ",
        "outputId": "89fd4cb6-adad-46a7-a5e0-c340f503add0"
      },
      "source": [
        "sns.set()\n",
        "plt.figure(figsize=(10,8))\n",
        "sns.barplot(x = stateCount.index, y = stateCount.values, palette=\"Dark2\")\n",
        "plt.title('Top 10 states ')\n",
        "plt.xlabel('States')\n",
        "plt.ylabel('Count')"
      ],
      "execution_count": 7,
      "outputs": [
        {
          "output_type": "execute_result",
          "data": {
            "text/plain": [
              "Text(0, 0.5, 'Count')"
            ]
          },
          "metadata": {
            "tags": []
          },
          "execution_count": 7
        },
        {
          "output_type": "display_data",
          "data": {
            "image/png": "[encoded data removed]",
            "text/plain": [
              "<Figure size 720x576 with 1 Axes>"
            ]
          },
          "metadata": {
            "tags": []
          }
        }
      ]
    },
    {
      "cell_type": "markdown",
      "metadata": {
        "id": "zjljQMhfJMpT"
      },
      "source": [
        "##Timing of Tickets"
      ]
    },
    {
      "cell_type": "code",
      "metadata": {
        "id": "RpmgPRK_Z4O4"
      },
      "source": [
        "violationTime = dataDF['Violation Time'].value_counts()[:30]\n",
        "vtDF = pd.DataFrame()\n",
        "\n",
        "for i in range(len(violationTime)):\n",
        "  vt = datetime.time(hour= int(violationTime.index[i][0:2]),minute = int(violationTime.index[i][2:4])).strftime(\"%H:%M\")\n",
        "  \n",
        "  if violationTime.index[i][4] ==\"A\":\n",
        "    vtDF = vtDF.append(pd.DataFrame({'Violation Time': str(vt) + \" AM\", 'Number of Violations': violationTime.values[i]}, index=[0]), ignore_index=True)\n",
        "    # print(\"Time -\", dt, \"AM\", \"& No. of violations -\", v_time.values[i])\n",
        "  else:\n",
        "    vtDF = vtDF.append(pd.DataFrame({'Violation Time': str(vt) + \" PM\", 'Number of Violations' : violationTime.values[i]}, index=[0]), ignore_index=True)\n",
        "    # print(\"Time -\", dt,\"PM\", \"& No. of violations -\", v_time.values[i])"
      ],
      "execution_count": 11,
      "outputs": []
    },
    {
      "cell_type": "code",
      "metadata": {
        "id": "onBZzT_PJT1n"
      },
      "source": [
        "'''violationTime = dataDF['Violation Time'].value_counts()[:30]\n",
        "violationTime'''"
      ],
      "execution_count": null,
      "outputs": []
    },
    {
      "cell_type": "code",
      "metadata": {
        "colab": {
          "base_uri": "https://localhost:8080/",
          "height": 557
        },
        "id": "-fnHfG-jKJoE",
        "outputId": "fddf50e1-2a49-4309-806c-239dc4433ff8"
      },
      "source": [
        "sns.set()\n",
        "plt.figure(figsize=(15,8))\n",
        "sns.barplot(x = 'Number of Violations', y = 'Violation Time', data=vtDF)\n",
        "plt.xticks(rotation=45, horizontalalignment='right')\n",
        "plt.title('Violation time slots')\n",
        "plt.xlabel('Time')\n",
        "plt.ylabel('Count')"
      ],
      "execution_count": 12,
      "outputs": [
        {
          "output_type": "execute_result",
          "data": {
            "text/plain": [
              "Text(0, 0.5, 'Count')"
            ]
          },
          "metadata": {
            "tags": []
          },
          "execution_count": 12
        },
        {
          "output_type": "display_data",
          "data": {
            "image/png": "[encoded data removed]",
            "text/plain": [
              "<Figure size 1080x576 with 1 Axes>"
            ]
          },
          "metadata": {
            "tags": []
          }
        }
      ]
    },
    {
      "cell_type": "markdown",
      "metadata": {
        "id": "Ge9XATeWL2pu"
      },
      "source": [
        "##Month wise tickets "
      ]
    },
    {
      "cell_type": "code",
      "metadata": {
        "colab": {
          "base_uri": "https://localhost:8080/"
        },
        "id": "ydTxPVeHL36Y",
        "outputId": "1aeeacdc-e429-4053-8ede-ec7d04e098f0"
      },
      "source": [
        "month = []\n",
        "for timeStamp in pd.to_datetime(dataDF['Issue Date']):\n",
        "  month.append(timeStamp.month)\n",
        "\n",
        "monthWise = pd.Series(month).value_counts()\n",
        "monthWise"
      ],
      "execution_count": 11,
      "outputs": [
        {
          "output_type": "execute_result",
          "data": {
            "text/plain": [
              "10    953458\n",
              "3     907505\n",
              "5     898409\n",
              "4     860217\n",
              "11    848647\n",
              "8     838950\n",
              "9     827402\n",
              "12    734760\n",
              "1     722439\n",
              "6     681133\n",
              "2     654201\n",
              "7     173157\n",
              "dtype: int64"
            ]
          },
          "metadata": {
            "tags": []
          },
          "execution_count": 11
        }
      ]
    },
    {
      "cell_type": "code",
      "metadata": {
        "colab": {
          "base_uri": "https://localhost:8080/"
        },
        "id": "rPH14YMz21Jt",
        "outputId": "026c8849-9c90-4203-bbe4-36f9f2d3f61c"
      },
      "source": [
        "monthWiseNew = monthWise.rename(index= {1:'Jan', 2: 'Feb', 3: 'Mar', 4: 'Apr', 5:'May', 6:'June', 7: 'July', 8: 'Aug', 9: 'Sept', 10:'Oct', 11:'Nov', 12:'Dec'})\n",
        "monthWiseNew"
      ],
      "execution_count": 12,
      "outputs": [
        {
          "output_type": "execute_result",
          "data": {
            "text/plain": [
              "Oct     953458\n",
              "Mar     907505\n",
              "May     898409\n",
              "Apr     860217\n",
              "Nov     848647\n",
              "Aug     838950\n",
              "Sept    827402\n",
              "Dec     734760\n",
              "Jan     722439\n",
              "June    681133\n",
              "Feb     654201\n",
              "July    173157\n",
              "dtype: int64"
            ]
          },
          "metadata": {
            "tags": []
          },
          "execution_count": 12
        }
      ]
    },
    {
      "cell_type": "code",
      "metadata": {
        "colab": {
          "base_uri": "https://localhost:8080/",
          "height": 550
        },
        "id": "n5yJRVy53_Wu",
        "outputId": "78375ca4-0d03-4387-c01a-60f02a1f333d"
      },
      "source": [
        "sns.set()\n",
        "plt.figure(figsize=(15,8))\n",
        "sns.barplot(x = monthWiseNew.index, y = monthWiseNew.values, palette='autumn')\n",
        "plt.xticks(rotation=45, horizontalalignment='right')\n",
        "plt.title('Ticket Month')\n",
        "plt.xlabel('Month')\n",
        "plt.ylabel('Ticket Count')"
      ],
      "execution_count": 13,
      "outputs": [
        {
          "output_type": "execute_result",
          "data": {
            "text/plain": [
              "Text(0, 0.5, 'Ticket Count')"
            ]
          },
          "metadata": {
            "tags": []
          },
          "execution_count": 13
        },
        {
          "output_type": "display_data",
          "data": {
            "image/png": "[encoded data removed]",
            "text/plain": [
              "<Figure size 1080x576 with 1 Axes>"
            ]
          },
          "metadata": {
            "tags": []
          }
        }
      ]
    },
    {
      "cell_type": "markdown",
      "metadata": {
        "id": "x8v9S-ut513e"
      },
      "source": [
        "##Car brand & Vehicle type"
      ]
    },
    {
      "cell_type": "code",
      "metadata": {
        "colab": {
          "base_uri": "https://localhost:8080/"
        },
        "id": "rZicPS2-IJvI",
        "outputId": "f723492c-cab6-49a4-fecb-a1ab1b091339"
      },
      "source": [
        "carMake = dataDF['Vehicle Make'].value_counts()[:20]\n",
        "carMake"
      ],
      "execution_count": 14,
      "outputs": [
        {
          "output_type": "execute_result",
          "data": {
            "text/plain": [
              "FORD     1248622\n",
              "TOYOT     878786\n",
              "HONDA     810460\n",
              "CHEVR     743556\n",
              "NISSA     655276\n",
              "DODGE     316499\n",
              "GMC       313671\n",
              "ME/BE     299845\n",
              "FRUEH     289634\n",
              "INTER     277444\n",
              "BMW       270968\n",
              "JEEP      213572\n",
              "HYUND     190631\n",
              "LEXUS     181642\n",
              "ACURA     161959\n",
              "VOLKS     161355\n",
              "CHRYS     156748\n",
              "LINCO     147662\n",
              "MITSU     129208\n",
              "INFIN     124514\n",
              "Name: Vehicle Make, dtype: int64"
            ]
          },
          "metadata": {
            "tags": []
          },
          "execution_count": 14
        }
      ]
    },
    {
      "cell_type": "code",
      "metadata": {
        "colab": {
          "base_uri": "https://localhost:8080/"
        },
        "id": "MpHyjmyDKZNQ",
        "outputId": "329dfb70-fae7-4dd8-f466-0b999fe5e849"
      },
      "source": [
        "vehicleMakeType = dataDF['Vehicle Body Type'].value_counts()[:20]\n",
        "vehicleMakeType"
      ],
      "execution_count": 15,
      "outputs": [
        {
          "output_type": "execute_result",
          "data": {
            "text/plain": [
              "SUBN    2797693\n",
              "4DSD    2513584\n",
              "VAN     1384393\n",
              "DELV     730526\n",
              "SDN      441801\n",
              "2DSD     255204\n",
              "PICK     226120\n",
              "UTIL      78454\n",
              "REFG      64904\n",
              "TRAC      62699\n",
              "TRLR      55643\n",
              "TAXI      50946\n",
              "BUS       43382\n",
              "CONV      41714\n",
              "MCY       28976\n",
              "P-U       24036\n",
              "4 DR      20630\n",
              "FLAT      12894\n",
              "WAGO      11936\n",
              "T/CR      11231\n",
              "Name: Vehicle Body Type, dtype: int64"
            ]
          },
          "metadata": {
            "tags": []
          },
          "execution_count": 15
        }
      ]
    },
    {
      "cell_type": "code",
      "metadata": {
        "colab": {
          "base_uri": "https://localhost:8080/",
          "height": 556
        },
        "id": "3DYjVXlvMGhd",
        "outputId": "2b947594-796d-4b42-8f43-7fb0e975e84a"
      },
      "source": [
        "sns.set()\n",
        "\n",
        "fig, (ax1,ax2) = plt.subplots(2, 1, figsize=(15, 8))\n",
        "sns.barplot(x = vehicleMakeType.index, y=vehicleMakeType.values, palette='muted',label=\"Vehicle Type\", color=\"r\", ax=ax1)\n",
        "ax1.set_ylabel('Ticket Count')\n",
        "plt.xticks(rotation=45, horizontalalignment='right')\n",
        "\n",
        "sns.barplot(x = carMake.index, y = carMake.values, palette='pastel', label=\"Car Make\", color=\"b\", ax=ax2)\n",
        "ax2.set_ylabel('Ticket Count')\n",
        "plt.xticks(rotation=45, horizontalalignment='right')\n"
      ],
      "execution_count": 16,
      "outputs": [
        {
          "output_type": "execute_result",
          "data": {
            "text/plain": [
              "(array([ 0,  1,  2,  3,  4,  5,  6,  7,  8,  9, 10, 11, 12, 13, 14, 15, 16,\n",
              "        17, 18, 19]), <a list of 20 Text major ticklabel objects>)"
            ]
          },
          "metadata": {
            "tags": []
          },
          "execution_count": 16
        },
        {
          "output_type": "display_data",
          "data": {
            "image/png": "[encoded data removed]",
            "text/plain": [
              "<Figure size 1080x576 with 2 Axes>"
            ]
          },
          "metadata": {
            "tags": []
          }
        }
      ]
    },
    {
      "cell_type": "markdown",
      "metadata": {
        "id": "gq-2qrwwTmCO"
      },
      "source": [
        "##Colorwise"
      ]
    },
    {
      "cell_type": "code",
      "metadata": {
        "colab": {
          "base_uri": "https://localhost:8080/"
        },
        "id": "gyH155gkT61W",
        "outputId": "2157e4b3-d211-4b27-ebac-410a6e01cd72"
      },
      "source": [
        "vehicleColor = dataDF['Vehicle Color'].value_counts()[:20]\n",
        "vehicleColor"
      ],
      "execution_count": 17,
      "outputs": [
        {
          "output_type": "execute_result",
          "data": {
            "text/plain": [
              "WHITE    1349234\n",
              "GY       1214514\n",
              "WH       1192996\n",
              "BK        941231\n",
              "BLACK     665519\n",
              "BL        442464\n",
              "GREY      417286\n",
              "SILVE     313929\n",
              "BLUE      301353\n",
              "RD        272836\n",
              "BROWN     271122\n",
              "RED       265215\n",
              "GR        201825\n",
              "GREEN     151007\n",
              "TN        132612\n",
              "OTHER      91436\n",
              "BR         71921\n",
              "TAN        70600\n",
              "YW         70001\n",
              "BLK        69288\n",
              "Name: Vehicle Color, dtype: int64"
            ]
          },
          "metadata": {
            "tags": []
          },
          "execution_count": 17
        }
      ]
    },
    {
      "cell_type": "code",
      "metadata": {
        "colab": {
          "base_uri": "https://localhost:8080/",
          "height": 563
        },
        "id": "YB4WaxPhUjKS",
        "outputId": "06aa991e-5f4c-46b4-ec6e-3b7d2d44ad1b"
      },
      "source": [
        "sns.set()\n",
        "plt.figure(figsize=(15,8))\n",
        "sns.barplot(x = vehicleColor.index, y = vehicleColor.values, palette='copper')\n",
        "plt.xticks(rotation=45, horizontalalignment='right')\n",
        "plt.title('Vehicle Color')\n",
        "plt.xlabel('Color')\n",
        "plt.ylabel('Ticket Count')"
      ],
      "execution_count": 18,
      "outputs": [
        {
          "output_type": "execute_result",
          "data": {
            "text/plain": [
              "Text(0, 0.5, 'Ticket Count')"
            ]
          },
          "metadata": {
            "tags": []
          },
          "execution_count": 18
        },
        {
          "output_type": "display_data",
          "data": {
            "image/png": "[encoded data removed]",
            "text/plain": [
              "<Figure size 1080x576 with 1 Axes>"
            ]
          },
          "metadata": {
            "tags": []
          }
        }
      ]
    },
    {
      "cell_type": "markdown",
      "metadata": {
        "id": "44pLLRIDVTDN"
      },
      "source": [
        "##Location wise "
      ]
    },
    {
      "cell_type": "code",
      "metadata": {
        "colab": {
          "base_uri": "https://localhost:8080/"
        },
        "id": "L8owWvlZVT6Q",
        "outputId": "05027c3b-e986-4ee7-8d1e-c59b0b422533"
      },
      "source": [
        "location = dataDF['Street Name'].value_counts()[:20]\n",
        "location"
      ],
      "execution_count": 19,
      "outputs": [
        {
          "output_type": "execute_result",
          "data": {
            "text/plain": [
              "Broadway                201980\n",
              "3rd Ave                 148186\n",
              "5th Ave                  97622\n",
              "Madison Ave              92179\n",
              "Lexington Ave            79125\n",
              "1st Ave                  69512\n",
              "2nd Ave                  67751\n",
              "Queens Blvd              60770\n",
              "7th Ave                  59656\n",
              "8th Ave                  56147\n",
              "Amsterdam Ave            55472\n",
              "6th Ave                  50853\n",
              "Jamaica Ave              48552\n",
              "Park Ave                 47675\n",
              "Columbus Ave             40221\n",
              "37th Ave                 36225\n",
              "Coney Island Ave         35776\n",
              "HORACE HARDING EXPWY     33948\n",
              "Roosevelt Ave            33250\n",
              "White Plains Rd          31732\n",
              "Name: Street Name, dtype: int64"
            ]
          },
          "metadata": {
            "tags": []
          },
          "execution_count": 19
        }
      ]
    },
    {
      "cell_type": "code",
      "metadata": {
        "colab": {
          "base_uri": "https://localhost:8080/",
          "height": 560
        },
        "id": "6cyKz3LcXYi0",
        "outputId": "4724a92b-a573-4055-d186-a3ef93a18465"
      },
      "source": [
        "sns.set()\n",
        "plt.figure(figsize=(15,8))\n",
        "sns.barplot(x = location.values, y = location.index, palette='flare')\n",
        "plt.xticks(rotation=45, horizontalalignment='right')\n",
        "plt.title('Location wise tickets')\n",
        "plt.xlabel('Ticket Count')\n",
        "plt.ylabel('Street Name')"
      ],
      "execution_count": 20,
      "outputs": [
        {
          "output_type": "execute_result",
          "data": {
            "text/plain": [
              "Text(0, 0.5, 'Street Name')"
            ]
          },
          "metadata": {
            "tags": []
          },
          "execution_count": 20
        },
        {
          "output_type": "display_data",
          "data": {
            "image/png": "[encoded data removed]",
            "text/plain": [
              "<Figure size 1080x576 with 1 Axes>"
            ]
          },
          "metadata": {
            "tags": []
          }
        }
      ]
    },
    {
      "cell_type": "markdown",
      "metadata": {
        "id": "qs5uGJfkYPkD"
      },
      "source": [
        "##Manufacture year wise "
      ]
    },
    {
      "cell_type": "code",
      "metadata": {
        "colab": {
          "base_uri": "https://localhost:8080/"
        },
        "id": "zgBsa5v4YQcw",
        "outputId": "8977f814-a73f-46f7-9ee9-5ae48f3ffe84"
      },
      "source": [
        "manuYearWise = dataDF['Vehicle Year'].value_counts()\n",
        "manuYearWise"
      ],
      "execution_count": 21,
      "outputs": [
        {
          "output_type": "execute_result",
          "data": {
            "text/plain": [
              "0.0       2416245\n",
              "2013.0     784427\n",
              "2012.0     647424\n",
              "2011.0     511126\n",
              "2007.0     482137\n",
              "           ...   \n",
              "2036.0          3\n",
              "2032.0          3\n",
              "2038.0          2\n",
              "2035.0          2\n",
              "2034.0          2\n",
              "Name: Vehicle Year, Length: 100, dtype: int64"
            ]
          },
          "metadata": {
            "tags": []
          },
          "execution_count": 21
        }
      ]
    },
    {
      "cell_type": "code",
      "metadata": {
        "colab": {
          "base_uri": "https://localhost:8080/",
          "height": 520
        },
        "id": "Spumct-UlbgA",
        "outputId": "4b6f0028-e82b-40c2-c4fa-2dc865f6332b"
      },
      "source": [
        "sns.set()\n",
        "plt.figure(figsize=(19,8))\n",
        "sns.barplot(x = manuYearWise.values, y = manuYearWise.index, palette='cool')\n",
        "plt.xticks(rotation=90, horizontalalignment='right')\n",
        "plt.title('Manufacture Make year')\n",
        "plt.xlabel('Count')\n",
        "plt.ylabel('Street Name')"
      ],
      "execution_count": 22,
      "outputs": [
        {
          "output_type": "execute_result",
          "data": {
            "text/plain": [
              "Text(0, 0.5, 'Street Name')"
            ]
          },
          "metadata": {
            "tags": []
          },
          "execution_count": 22
        },
        {
          "output_type": "display_data",
          "data": {
            "image/png": "[encoded data removed]",
            "text/plain": [
              "<Figure size 1368x576 with 1 Axes>"
            ]
          },
          "metadata": {
            "tags": []
          }
        }
      ]
    },
    {
      "cell_type": "markdown",
      "metadata": {
        "id": "1wqAQ1oF6lnk"
      },
      "source": [
        "##Violations per violation code"
      ]
    },
    {
      "cell_type": "code",
      "metadata": {
        "colab": {
          "base_uri": "https://localhost:8080/"
        },
        "id": "X-zyleNg6oe3",
        "outputId": "0a8277e6-04b4-4fde-a285-ba0f34a32cf4"
      },
      "source": [
        "violationCode = dataDF['Violation Description'].value_counts()[:20]\n",
        "violationCode"
      ],
      "execution_count": 23,
      "outputs": [
        {
          "output_type": "execute_result",
          "data": {
            "text/plain": [
              "38-Failure to Display Muni Rec    1230036\n",
              "21-No Parking (street clean)      1086680\n",
              "14-No Standing                     753561\n",
              "37-Expired Muni Meter              731697\n",
              "FAILURE TO STOP AT RED LIGHT       433193\n",
              "71A-Insp Sticker Expired (NYS)     411976\n",
              "20A-No Parking (Non-COM)           410177\n",
              "40-Fire Hydrant                    353899\n",
              "69-Failure to Disp Muni Recpt      258719\n",
              "19-No Stand (bus stop)             203334\n",
              "31-No Stand (Com. Mtr. Zone)       169122\n",
              "70A-Reg. Sticker Expired (NYS)     167319\n",
              "46A-Double Parking (Non-COM)       158295\n",
              "BUS LANE VIOLATION                 131488\n",
              "16A-No Std (Com Veh) Non-COM       112608\n",
              "47-Double PKG-Midtown              102598\n",
              "16-No Std (Com Veh) Com Plate       97796\n",
              "PHTO SCHOOL ZN SPEED VIOLATION      89756\n",
              "42-Exp. Muni-Mtr (Com. Mtr. Z)      86229\n",
              "17-No Stand (exc auth veh)          84062\n",
              "Name: Violation Description, dtype: int64"
            ]
          },
          "metadata": {
            "tags": []
          },
          "execution_count": 23
        }
      ]
    },
    {
      "cell_type": "code",
      "metadata": {
        "colab": {
          "base_uri": "https://localhost:8080/",
          "height": 609
        },
        "id": "xnBy5vw860l7",
        "outputId": "ab44b51f-d3c6-41ff-d2a4-fb496f1ab507"
      },
      "source": [
        "plt.figure(figsize=(15,10))\n",
        "sns.barplot(x = violationCode.values, y = violationCode.index, palette='viridis')\n",
        "plt.title('Top 20 Violations')\n",
        "plt.xlabel('Number of Violations per Violation Code')\n",
        "plt.ylabel('Violation Code and Description')"
      ],
      "execution_count": 24,
      "outputs": [
        {
          "output_type": "execute_result",
          "data": {
            "text/plain": [
              "Text(0, 0.5, 'Violation Code and Description')"
            ]
          },
          "metadata": {
            "tags": []
          },
          "execution_count": 24
        },
        {
          "output_type": "display_data",
          "data": {
            "image/png": "[encoded data removed]",
            "text/plain": [
              "<Figure size 1080x720 with 1 Axes>"
            ]
          },
          "metadata": {
            "tags": []
          }
        }
      ]
    },
    {
      "cell_type": "markdown",
      "metadata": {
        "id": "LRuxyIIV73kS"
      },
      "source": [
        "##Vehicle Presinct"
      ]
    },
    {
      "cell_type": "code",
      "metadata": {
        "colab": {
          "base_uri": "https://localhost:8080/"
        },
        "id": "-C0tUIwe76Dt",
        "outputId": "43983b85-48d5-45dd-945a-69b1c64ddd73"
      },
      "source": [
        "vehiclePresinct = dataDF['Violation Precinct'].value_counts(ascending = False)[:20]\n",
        "vehiclePresinct"
      ],
      "execution_count": 25,
      "outputs": [
        {
          "output_type": "execute_result",
          "data": {
            "text/plain": [
              "0      671170\n",
              "19     496806\n",
              "18     448813\n",
              "14     363920\n",
              "1      269811\n",
              "17     259590\n",
              "114    252665\n",
              "13     245682\n",
              "109    221658\n",
              "20     188662\n",
              "84     188097\n",
              "103    159974\n",
              "112    159387\n",
              "70     157770\n",
              "6      155025\n",
              "115    154423\n",
              "61     145411\n",
              "108    142465\n",
              "10     140997\n",
              "52     134083\n",
              "Name: Violation Precinct, dtype: int64"
            ]
          },
          "metadata": {
            "tags": []
          },
          "execution_count": 25
        }
      ]
    },
    {
      "cell_type": "code",
      "metadata": {
        "colab": {
          "base_uri": "https://localhost:8080/",
          "height": 644
        },
        "id": "MnP6obdu8ODQ",
        "outputId": "c56f503c-67c2-4719-9f71-d7b19478acd4"
      },
      "source": [
        "plt.figure(figsize=(15,10))\n",
        "sns.barplot(x = vehiclePresinct.index, y = vehiclePresinct.values, palette='magma')\n",
        "plt.title('Top 20 Presinct issuing tickets')\n",
        "plt.xlabel('Presinct Numbers')\n",
        "plt.ylabel('Count')"
      ],
      "execution_count": 26,
      "outputs": [
        {
          "output_type": "execute_result",
          "data": {
            "text/plain": [
              "Text(0, 0.5, 'Count')"
            ]
          },
          "metadata": {
            "tags": []
          },
          "execution_count": 26
        },
        {
          "output_type": "display_data",
          "data": {
            "image/png": "[encoded data removed]",
            "text/plain": [
              "<Figure size 1080x720 with 1 Axes>"
            ]
          },
          "metadata": {
            "tags": []
          }
        }
      ]
    },
    {
      "cell_type": "markdown",
      "metadata": {
        "id": "G0U7RvVZPH5B"
      },
      "source": [
        "#Preprocessing Data"
      ]
    },
    {
      "cell_type": "code",
      "metadata": {
        "id": "B7J_TmcYPKW5"
      },
      "source": [
        "def probViolation(row):\n",
        "    probVal = 0\n",
        "    vehCol = 0\n",
        "    strName = 0\n",
        "    locTime = 0\n",
        "    \n",
        "    if (row['Vehicle Color'] == \"WHITE\" or row['Vehicle Color'] ==\"GY\" or row['Vehicle Color'] ==\"WH\" or row['Vehicle Color'] ==\"BK\" or row['Vehicle Color'] ==\"BLACK\" or row['Vehicle Color'] ==\"GREY\"):\n",
        "        vehCol = 1\n",
        "    \n",
        "    if (row['Street Name'] == \"Broadway\" or row['Street Name'] ==\"3rd Ave\" or row['Street Name'] ==\"5th Ave\"):\n",
        "        strName = 1\n",
        "    \n",
        "    if (row['Violation Time'] == \"0836A\" or row['Violation Time'] ==\"1136A\" or row['Violation Time'] == \"1140A\" or row['Violation Time'] ==\"0936A\"):\n",
        "        locTime = 1\n",
        "        \n",
        "    probVal = (vehCol + strName + locTime)/3\n",
        "    \n",
        "    if probVal > 0.3:\n",
        "        probVal = 1\n",
        "    else:\n",
        "        probVal = -1\n",
        "    \n",
        "    return probVal"
      ],
      "execution_count": 72,
      "outputs": []
    },
    {
      "cell_type": "code",
      "metadata": {
        "id": "0Tw7f0uZPOKO"
      },
      "source": [
        "countDF = dataDF[:100]"
      ],
      "execution_count": 47,
      "outputs": []
    },
    {
      "cell_type": "code",
      "metadata": {
        "colab": {
          "base_uri": "https://localhost:8080/"
        },
        "id": "upy_WTcmQChk",
        "outputId": "7944657b-7364-4e37-d572-a2ba1e6b4b8a"
      },
      "source": [
        "countDF['y'] = countDF.apply(probViolation, axis=1)\n",
        "countDF['y'].value_counts()"
      ],
      "execution_count": 73,
      "outputs": [
        {
          "output_type": "stream",
          "text": [
            "/usr/local/lib/python3.6/dist-packages/ipykernel_launcher.py:1: SettingWithCopyWarning:\n",
            "\n",
            "\n",
            "A value is trying to be set on a copy of a slice from a DataFrame.\n",
            "Try using .loc[row_indexer,col_indexer] = value instead\n",
            "\n",
            "See the caveats in the documentation: https://pandas.pydata.org/pandas-docs/stable/user_guide/indexing.html#returning-a-view-versus-a-copy\n",
            "\n"
          ],
          "name": "stderr"
        },
        {
          "output_type": "execute_result",
          "data": {
            "text/plain": [
              "-1    56\n",
              " 1    44\n",
              "Name: y, dtype: int64"
            ]
          },
          "metadata": {
            "tags": []
          },
          "execution_count": 73
        }
      ]
    }
  ]
}