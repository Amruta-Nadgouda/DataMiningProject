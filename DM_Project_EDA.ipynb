{
  "nbformat": 4,
  "nbformat_minor": 0,
  "metadata": {
    "colab": {
      "name": "DM_Project_EDA.ipynb",
      "provenance": [],
      "collapsed_sections": [],
      "toc_visible": true,
      "authorship_tag": "ABX9TyNZHGhXtHvgx/5KSkV4VTBM",
      "include_colab_link": true
    },
    "kernelspec": {
      "name": "python3",
      "display_name": "Python 3"
    }
  },
  "cells": [
    {
      "cell_type": "markdown",
      "metadata": {
        "id": "view-in-github",
        "colab_type": "text"
      },
      "source": [
        "<a href=\"https://colab.research.google.com/github/bhaktichowkwale/DataMiningProject/blob/master/DM_Project_EDA.ipynb\" target=\"_parent\"><img src=\"https://colab.research.google.com/assets/colab-badge.svg\" alt=\"Open In Colab\"/></a>"
      ]
    },
    {
      "cell_type": "markdown",
      "metadata": {
        "id": "LU7DSX7rJN4D"
      },
      "source": [
        "#Aim"
      ]
    },
    {
      "cell_type": "markdown",
      "metadata": {
        "id": "0QgxIz8-CFfN"
      },
      "source": [
        "We look forward to answering the following questions using the NYC Parking Ticket data.\n",
        "\n",
        "EDA: \n",
        "1. States of License plate \n",
        "2. Timing of tickets \n",
        "3. Month wise tickets \n",
        "4. Car brand wise\n",
        "5. Colorwise \n",
        "6. Location wise \n",
        "7. Violation code wise \n",
        "8. Which precinct has issued more tickets"
      ]
    },
    {
      "cell_type": "markdown",
      "metadata": {
        "id": "x14qKYyx-iWU"
      },
      "source": [
        "#Import Libraries"
      ]
    },
    {
      "cell_type": "code",
      "metadata": {
        "id": "NA_iOjLPp00r"
      },
      "source": [
        "import pandas as pd\n",
        "import numpy as np\n",
        "import seaborn as sns\n",
        "import matplotlib.pyplot as plt\n",
        "import plotly"
      ],
      "execution_count": 1,
      "outputs": []
    },
    {
      "cell_type": "code",
      "metadata": {
        "colab": {
          "base_uri": "https://localhost:8080/"
        },
        "id": "d_Xo41TU-AXw",
        "outputId": "c2d56ea9-509a-4e39-d266-9e0321a0a49d"
      },
      "source": [
        "from google.colab import drive\n",
        "drive.mount('/content/gdrive')"
      ],
      "execution_count": 2,
      "outputs": [
        {
          "output_type": "stream",
          "text": [
            "Drive already mounted at /content/gdrive; to attempt to forcibly remount, call drive.mount(\"/content/gdrive\", force_remount=True).\n"
          ],
          "name": "stdout"
        }
      ]
    },
    {
      "cell_type": "code",
      "metadata": {
        "colab": {
          "base_uri": "https://localhost:8080/"
        },
        "id": "tcLbFEDO-Dnv",
        "outputId": "1f51b2d2-793c-4009-fd07-b4af8b6ad6ba"
      },
      "source": [
        "!unzip \"/content/gdrive/My Drive/Parking_Tickets_2013.zip\""
      ],
      "execution_count": 3,
      "outputs": [
        {
          "output_type": "stream",
          "text": [
            "Archive:  /content/gdrive/My Drive/Parking_Tickets_2013.zip\n",
            "replace Parking_Violations_Issued_-_Fiscal_Year_2014__August_2013___June_2014_.csv? [y]es, [n]o, [A]ll, [N]one, [r]ename: A\n",
            "  inflating: Parking_Violations_Issued_-_Fiscal_Year_2014__August_2013___June_2014_.csv  A\n",
            "\n"
          ],
          "name": "stdout"
        }
      ]
    },
    {
      "cell_type": "markdown",
      "metadata": {
        "id": "qOookDEn-mZS"
      },
      "source": [
        "#Data"
      ]
    },
    {
      "cell_type": "code",
      "metadata": {
        "colab": {
          "base_uri": "https://localhost:8080/",
          "height": 813
        },
        "id": "KBhPN7IV-phz",
        "outputId": "96817409-ae8a-49cb-ede4-3009dc613bba"
      },
      "source": [
        "data = pd.read_csv(\"Parking_Violations_Issued_-_Fiscal_Year_2014__August_2013___June_2014_.csv\")\n",
        "data"
      ],
      "execution_count": 4,
      "outputs": [
        {
          "output_type": "stream",
          "text": [
            "/usr/local/lib/python3.6/dist-packages/IPython/core/interactiveshell.py:2718: DtypeWarning:\n",
            "\n",
            "Columns (17,18,20,21,22,23,29,30,31,32,36,38,39) have mixed types.Specify dtype option on import or set low_memory=False.\n",
            "\n"
          ],
          "name": "stderr"
        },
        {
          "output_type": "execute_result",
          "data": {
            "text/html": [
              "<div>\n",
              "<style scoped>\n",
              "    .dataframe tbody tr th:only-of-type {\n",
              "        vertical-align: middle;\n",
              "    }\n",
              "\n",
              "    .dataframe tbody tr th {\n",
              "        vertical-align: top;\n",
              "    }\n",
              "\n",
              "    .dataframe thead th {\n",
              "        text-align: right;\n",
              "    }\n",
              "</style>\n",
              "<table border=\"1\" class=\"dataframe\">\n",
              "  <thead>\n",
              "    <tr style=\"text-align: right;\">\n",
              "      <th></th>\n",
              "      <th>Summons Number</th>\n",
              "      <th>Plate ID</th>\n",
              "      <th>Registration State</th>\n",
              "      <th>Plate Type</th>\n",
              "      <th>Issue Date</th>\n",
              "      <th>Violation Code</th>\n",
              "      <th>Vehicle Body Type</th>\n",
              "      <th>Vehicle Make</th>\n",
              "      <th>Issuing Agency</th>\n",
              "      <th>Street Code1</th>\n",
              "      <th>Street Code2</th>\n",
              "      <th>Street Code3</th>\n",
              "      <th>Vehicle Expiration Date</th>\n",
              "      <th>Violation Location</th>\n",
              "      <th>Violation Precinct</th>\n",
              "      <th>Issuer Precinct</th>\n",
              "      <th>Issuer Code</th>\n",
              "      <th>Issuer Command</th>\n",
              "      <th>Issuer Squad</th>\n",
              "      <th>Violation Time</th>\n",
              "      <th>Time First Observed</th>\n",
              "      <th>Violation County</th>\n",
              "      <th>Violation In Front Of Or Opposite</th>\n",
              "      <th>House Number</th>\n",
              "      <th>Street Name</th>\n",
              "      <th>Intersecting Street</th>\n",
              "      <th>Date First Observed</th>\n",
              "      <th>Law Section</th>\n",
              "      <th>Sub Division</th>\n",
              "      <th>Violation Legal Code</th>\n",
              "      <th>Days Parking In Effect</th>\n",
              "      <th>From Hours In Effect</th>\n",
              "      <th>To Hours In Effect</th>\n",
              "      <th>Vehicle Color</th>\n",
              "      <th>Unregistered Vehicle?</th>\n",
              "      <th>Vehicle Year</th>\n",
              "      <th>Meter Number</th>\n",
              "      <th>Feet From Curb</th>\n",
              "      <th>Violation Post Code</th>\n",
              "      <th>Violation Description</th>\n",
              "      <th>No Standing or Stopping Violation</th>\n",
              "      <th>Hydrant Violation</th>\n",
              "      <th>Double Parking Violation</th>\n",
              "      <th>Latitude</th>\n",
              "      <th>Longitude</th>\n",
              "      <th>Community Board</th>\n",
              "      <th>Community Council</th>\n",
              "      <th>Census Tract</th>\n",
              "      <th>BIN</th>\n",
              "      <th>BBL</th>\n",
              "      <th>NTA</th>\n",
              "    </tr>\n",
              "  </thead>\n",
              "  <tbody>\n",
              "    <tr>\n",
              "      <th>0</th>\n",
              "      <td>1283294138</td>\n",
              "      <td>GBB9093</td>\n",
              "      <td>NY</td>\n",
              "      <td>PAS</td>\n",
              "      <td>08/04/2013</td>\n",
              "      <td>46</td>\n",
              "      <td>SUBN</td>\n",
              "      <td>AUDI</td>\n",
              "      <td>P</td>\n",
              "      <td>37250</td>\n",
              "      <td>13610</td>\n",
              "      <td>21190</td>\n",
              "      <td>20140831</td>\n",
              "      <td>33.0</td>\n",
              "      <td>33</td>\n",
              "      <td>33</td>\n",
              "      <td>921043</td>\n",
              "      <td>0033</td>\n",
              "      <td>0</td>\n",
              "      <td>0752A</td>\n",
              "      <td>NaN</td>\n",
              "      <td>NaN</td>\n",
              "      <td>F</td>\n",
              "      <td>712</td>\n",
              "      <td>W 175 ST</td>\n",
              "      <td>NaN</td>\n",
              "      <td>0.0</td>\n",
              "      <td>408.0</td>\n",
              "      <td>F1</td>\n",
              "      <td>NaN</td>\n",
              "      <td>BBBBBBB</td>\n",
              "      <td>ALL</td>\n",
              "      <td>ALL</td>\n",
              "      <td>GY</td>\n",
              "      <td>0.0</td>\n",
              "      <td>2013.0</td>\n",
              "      <td>-</td>\n",
              "      <td>0.0</td>\n",
              "      <td>NaN</td>\n",
              "      <td>NaN</td>\n",
              "      <td>NaN</td>\n",
              "      <td>NaN</td>\n",
              "      <td>NaN</td>\n",
              "      <td>NaN</td>\n",
              "      <td>NaN</td>\n",
              "      <td>NaN</td>\n",
              "      <td>NaN</td>\n",
              "      <td>NaN</td>\n",
              "      <td>NaN</td>\n",
              "      <td>NaN</td>\n",
              "      <td>NaN</td>\n",
              "    </tr>\n",
              "    <tr>\n",
              "      <th>1</th>\n",
              "      <td>1283294151</td>\n",
              "      <td>62416MB</td>\n",
              "      <td>NY</td>\n",
              "      <td>COM</td>\n",
              "      <td>08/04/2013</td>\n",
              "      <td>46</td>\n",
              "      <td>VAN</td>\n",
              "      <td>FORD</td>\n",
              "      <td>P</td>\n",
              "      <td>37290</td>\n",
              "      <td>40404</td>\n",
              "      <td>40404</td>\n",
              "      <td>20140430</td>\n",
              "      <td>33.0</td>\n",
              "      <td>33</td>\n",
              "      <td>33</td>\n",
              "      <td>921043</td>\n",
              "      <td>0033</td>\n",
              "      <td>0</td>\n",
              "      <td>1240P</td>\n",
              "      <td>NaN</td>\n",
              "      <td>NY</td>\n",
              "      <td>O</td>\n",
              "      <td>201</td>\n",
              "      <td>W 177 ST</td>\n",
              "      <td>NaN</td>\n",
              "      <td>0.0</td>\n",
              "      <td>408.0</td>\n",
              "      <td>C</td>\n",
              "      <td>NaN</td>\n",
              "      <td>BBBBBBB</td>\n",
              "      <td>ALL</td>\n",
              "      <td>ALL</td>\n",
              "      <td>WH</td>\n",
              "      <td>0.0</td>\n",
              "      <td>2012.0</td>\n",
              "      <td>-</td>\n",
              "      <td>0.0</td>\n",
              "      <td>NaN</td>\n",
              "      <td>NaN</td>\n",
              "      <td>NaN</td>\n",
              "      <td>NaN</td>\n",
              "      <td>NaN</td>\n",
              "      <td>NaN</td>\n",
              "      <td>NaN</td>\n",
              "      <td>NaN</td>\n",
              "      <td>NaN</td>\n",
              "      <td>NaN</td>\n",
              "      <td>NaN</td>\n",
              "      <td>NaN</td>\n",
              "      <td>NaN</td>\n",
              "    </tr>\n",
              "    <tr>\n",
              "      <th>2</th>\n",
              "      <td>1283294163</td>\n",
              "      <td>78755JZ</td>\n",
              "      <td>NY</td>\n",
              "      <td>COM</td>\n",
              "      <td>08/05/2013</td>\n",
              "      <td>46</td>\n",
              "      <td>P-U</td>\n",
              "      <td>CHEVR</td>\n",
              "      <td>P</td>\n",
              "      <td>37030</td>\n",
              "      <td>31190</td>\n",
              "      <td>13610</td>\n",
              "      <td>20140228</td>\n",
              "      <td>33.0</td>\n",
              "      <td>33</td>\n",
              "      <td>33</td>\n",
              "      <td>921043</td>\n",
              "      <td>0033</td>\n",
              "      <td>0</td>\n",
              "      <td>1243P</td>\n",
              "      <td>NaN</td>\n",
              "      <td>NY</td>\n",
              "      <td>O</td>\n",
              "      <td>520</td>\n",
              "      <td>W 163 ST</td>\n",
              "      <td>NaN</td>\n",
              "      <td>0.0</td>\n",
              "      <td>408.0</td>\n",
              "      <td>F7</td>\n",
              "      <td>NaN</td>\n",
              "      <td>BBBBBBB</td>\n",
              "      <td>ALL</td>\n",
              "      <td>ALL</td>\n",
              "      <td>NaN</td>\n",
              "      <td>0.0</td>\n",
              "      <td>0.0</td>\n",
              "      <td>-</td>\n",
              "      <td>0.0</td>\n",
              "      <td>NaN</td>\n",
              "      <td>NaN</td>\n",
              "      <td>NaN</td>\n",
              "      <td>NaN</td>\n",
              "      <td>NaN</td>\n",
              "      <td>NaN</td>\n",
              "      <td>NaN</td>\n",
              "      <td>NaN</td>\n",
              "      <td>NaN</td>\n",
              "      <td>NaN</td>\n",
              "      <td>NaN</td>\n",
              "      <td>NaN</td>\n",
              "      <td>NaN</td>\n",
              "    </tr>\n",
              "    <tr>\n",
              "      <th>3</th>\n",
              "      <td>1283294175</td>\n",
              "      <td>63009MA</td>\n",
              "      <td>NY</td>\n",
              "      <td>COM</td>\n",
              "      <td>08/05/2013</td>\n",
              "      <td>46</td>\n",
              "      <td>VAN</td>\n",
              "      <td>FORD</td>\n",
              "      <td>P</td>\n",
              "      <td>37270</td>\n",
              "      <td>11710</td>\n",
              "      <td>12010</td>\n",
              "      <td>20141031</td>\n",
              "      <td>33.0</td>\n",
              "      <td>33</td>\n",
              "      <td>33</td>\n",
              "      <td>921043</td>\n",
              "      <td>0033</td>\n",
              "      <td>0</td>\n",
              "      <td>0232P</td>\n",
              "      <td>NaN</td>\n",
              "      <td>NY</td>\n",
              "      <td>O</td>\n",
              "      <td>517</td>\n",
              "      <td>W 176 ST</td>\n",
              "      <td>NaN</td>\n",
              "      <td>0.0</td>\n",
              "      <td>408.0</td>\n",
              "      <td>F1</td>\n",
              "      <td>NaN</td>\n",
              "      <td>BBBBBBB</td>\n",
              "      <td>ALL</td>\n",
              "      <td>ALL</td>\n",
              "      <td>WH</td>\n",
              "      <td>0.0</td>\n",
              "      <td>2010.0</td>\n",
              "      <td>-</td>\n",
              "      <td>0.0</td>\n",
              "      <td>NaN</td>\n",
              "      <td>NaN</td>\n",
              "      <td>NaN</td>\n",
              "      <td>NaN</td>\n",
              "      <td>NaN</td>\n",
              "      <td>NaN</td>\n",
              "      <td>NaN</td>\n",
              "      <td>NaN</td>\n",
              "      <td>NaN</td>\n",
              "      <td>NaN</td>\n",
              "      <td>NaN</td>\n",
              "      <td>NaN</td>\n",
              "      <td>NaN</td>\n",
              "    </tr>\n",
              "    <tr>\n",
              "      <th>4</th>\n",
              "      <td>1283294187</td>\n",
              "      <td>91648MC</td>\n",
              "      <td>NY</td>\n",
              "      <td>COM</td>\n",
              "      <td>08/08/2013</td>\n",
              "      <td>41</td>\n",
              "      <td>TRLR</td>\n",
              "      <td>GMC</td>\n",
              "      <td>P</td>\n",
              "      <td>37240</td>\n",
              "      <td>12010</td>\n",
              "      <td>31190</td>\n",
              "      <td>0</td>\n",
              "      <td>33.0</td>\n",
              "      <td>33</td>\n",
              "      <td>33</td>\n",
              "      <td>921043</td>\n",
              "      <td>0033</td>\n",
              "      <td>0</td>\n",
              "      <td>1239P</td>\n",
              "      <td>NaN</td>\n",
              "      <td>NY</td>\n",
              "      <td>F</td>\n",
              "      <td>590</td>\n",
              "      <td>W 174 ST</td>\n",
              "      <td>NaN</td>\n",
              "      <td>0.0</td>\n",
              "      <td>408.0</td>\n",
              "      <td>E1</td>\n",
              "      <td>NaN</td>\n",
              "      <td>BBBBBBB</td>\n",
              "      <td>ALL</td>\n",
              "      <td>ALL</td>\n",
              "      <td>BR</td>\n",
              "      <td>0.0</td>\n",
              "      <td>2012.0</td>\n",
              "      <td>-</td>\n",
              "      <td>0.0</td>\n",
              "      <td>NaN</td>\n",
              "      <td>NaN</td>\n",
              "      <td>NaN</td>\n",
              "      <td>NaN</td>\n",
              "      <td>NaN</td>\n",
              "      <td>NaN</td>\n",
              "      <td>NaN</td>\n",
              "      <td>NaN</td>\n",
              "      <td>NaN</td>\n",
              "      <td>NaN</td>\n",
              "      <td>NaN</td>\n",
              "      <td>NaN</td>\n",
              "      <td>NaN</td>\n",
              "    </tr>\n",
              "    <tr>\n",
              "      <th>...</th>\n",
              "      <td>...</td>\n",
              "      <td>...</td>\n",
              "      <td>...</td>\n",
              "      <td>...</td>\n",
              "      <td>...</td>\n",
              "      <td>...</td>\n",
              "      <td>...</td>\n",
              "      <td>...</td>\n",
              "      <td>...</td>\n",
              "      <td>...</td>\n",
              "      <td>...</td>\n",
              "      <td>...</td>\n",
              "      <td>...</td>\n",
              "      <td>...</td>\n",
              "      <td>...</td>\n",
              "      <td>...</td>\n",
              "      <td>...</td>\n",
              "      <td>...</td>\n",
              "      <td>...</td>\n",
              "      <td>...</td>\n",
              "      <td>...</td>\n",
              "      <td>...</td>\n",
              "      <td>...</td>\n",
              "      <td>...</td>\n",
              "      <td>...</td>\n",
              "      <td>...</td>\n",
              "      <td>...</td>\n",
              "      <td>...</td>\n",
              "      <td>...</td>\n",
              "      <td>...</td>\n",
              "      <td>...</td>\n",
              "      <td>...</td>\n",
              "      <td>...</td>\n",
              "      <td>...</td>\n",
              "      <td>...</td>\n",
              "      <td>...</td>\n",
              "      <td>...</td>\n",
              "      <td>...</td>\n",
              "      <td>...</td>\n",
              "      <td>...</td>\n",
              "      <td>...</td>\n",
              "      <td>...</td>\n",
              "      <td>...</td>\n",
              "      <td>...</td>\n",
              "      <td>...</td>\n",
              "      <td>...</td>\n",
              "      <td>...</td>\n",
              "      <td>...</td>\n",
              "      <td>...</td>\n",
              "      <td>...</td>\n",
              "      <td>...</td>\n",
              "    </tr>\n",
              "    <tr>\n",
              "      <th>9100273</th>\n",
              "      <td>8006150199</td>\n",
              "      <td>16088MC</td>\n",
              "      <td>NY</td>\n",
              "      <td>COM</td>\n",
              "      <td>06/25/2014</td>\n",
              "      <td>38</td>\n",
              "      <td>VAN</td>\n",
              "      <td>CHEVR</td>\n",
              "      <td>T</td>\n",
              "      <td>67530</td>\n",
              "      <td>26230</td>\n",
              "      <td>84730</td>\n",
              "      <td>88888888</td>\n",
              "      <td>70.0</td>\n",
              "      <td>70</td>\n",
              "      <td>70</td>\n",
              "      <td>350442</td>\n",
              "      <td>T302</td>\n",
              "      <td>K</td>\n",
              "      <td>0346P</td>\n",
              "      <td>NaN</td>\n",
              "      <td>K</td>\n",
              "      <td>F</td>\n",
              "      <td>522</td>\n",
              "      <td>Ocean Ave</td>\n",
              "      <td>NaN</td>\n",
              "      <td>0.0</td>\n",
              "      <td>408.0</td>\n",
              "      <td>h1</td>\n",
              "      <td>NaN</td>\n",
              "      <td>Y</td>\n",
              "      <td>0900A</td>\n",
              "      <td>0700P</td>\n",
              "      <td>WHITE</td>\n",
              "      <td>NaN</td>\n",
              "      <td>2011.0</td>\n",
              "      <td>NaN</td>\n",
              "      <td>0.0</td>\n",
              "      <td>10 3</td>\n",
              "      <td>38-Failure to Display Muni Rec</td>\n",
              "      <td>NaN</td>\n",
              "      <td>NaN</td>\n",
              "      <td>NaN</td>\n",
              "      <td>NaN</td>\n",
              "      <td>NaN</td>\n",
              "      <td>NaN</td>\n",
              "      <td>NaN</td>\n",
              "      <td>NaN</td>\n",
              "      <td>NaN</td>\n",
              "      <td>NaN</td>\n",
              "      <td>NaN</td>\n",
              "    </tr>\n",
              "    <tr>\n",
              "      <th>9100274</th>\n",
              "      <td>8006150217</td>\n",
              "      <td>94008JW</td>\n",
              "      <td>NY</td>\n",
              "      <td>COM</td>\n",
              "      <td>06/25/2014</td>\n",
              "      <td>38</td>\n",
              "      <td>VAN</td>\n",
              "      <td>CHEVR</td>\n",
              "      <td>T</td>\n",
              "      <td>26230</td>\n",
              "      <td>35680</td>\n",
              "      <td>67530</td>\n",
              "      <td>88888888</td>\n",
              "      <td>70.0</td>\n",
              "      <td>70</td>\n",
              "      <td>70</td>\n",
              "      <td>350442</td>\n",
              "      <td>T302</td>\n",
              "      <td>K</td>\n",
              "      <td>0414P</td>\n",
              "      <td>NaN</td>\n",
              "      <td>K</td>\n",
              "      <td>F</td>\n",
              "      <td>1913</td>\n",
              "      <td>Church Ave</td>\n",
              "      <td>NaN</td>\n",
              "      <td>0.0</td>\n",
              "      <td>408.0</td>\n",
              "      <td>h1</td>\n",
              "      <td>NaN</td>\n",
              "      <td>Y</td>\n",
              "      <td>0800A</td>\n",
              "      <td>0700P</td>\n",
              "      <td>WHITE</td>\n",
              "      <td>NaN</td>\n",
              "      <td>2007.0</td>\n",
              "      <td>NaN</td>\n",
              "      <td>0.0</td>\n",
              "      <td>10 3</td>\n",
              "      <td>38-Failure to Display Muni Rec</td>\n",
              "      <td>NaN</td>\n",
              "      <td>NaN</td>\n",
              "      <td>NaN</td>\n",
              "      <td>NaN</td>\n",
              "      <td>NaN</td>\n",
              "      <td>NaN</td>\n",
              "      <td>NaN</td>\n",
              "      <td>NaN</td>\n",
              "      <td>NaN</td>\n",
              "      <td>NaN</td>\n",
              "      <td>NaN</td>\n",
              "    </tr>\n",
              "    <tr>\n",
              "      <th>9100275</th>\n",
              "      <td>8006150242</td>\n",
              "      <td>FWG3729</td>\n",
              "      <td>NY</td>\n",
              "      <td>PAS</td>\n",
              "      <td>06/25/2014</td>\n",
              "      <td>70</td>\n",
              "      <td>SUBN</td>\n",
              "      <td>FORD</td>\n",
              "      <td>T</td>\n",
              "      <td>40930</td>\n",
              "      <td>40430</td>\n",
              "      <td>48230</td>\n",
              "      <td>20140531</td>\n",
              "      <td>70.0</td>\n",
              "      <td>70</td>\n",
              "      <td>70</td>\n",
              "      <td>350442</td>\n",
              "      <td>T302</td>\n",
              "      <td>K</td>\n",
              "      <td>0448P</td>\n",
              "      <td>NaN</td>\n",
              "      <td>K</td>\n",
              "      <td>F</td>\n",
              "      <td>654</td>\n",
              "      <td>Flatbush Ave</td>\n",
              "      <td>NaN</td>\n",
              "      <td>0.0</td>\n",
              "      <td>408.0</td>\n",
              "      <td>j3</td>\n",
              "      <td>NaN</td>\n",
              "      <td>YYYYYYY</td>\n",
              "      <td>NaN</td>\n",
              "      <td>NaN</td>\n",
              "      <td>WH</td>\n",
              "      <td>NaN</td>\n",
              "      <td>1996.0</td>\n",
              "      <td>NaN</td>\n",
              "      <td>0.0</td>\n",
              "      <td>10 3</td>\n",
              "      <td>70A-Reg. Sticker Expired (NYS)</td>\n",
              "      <td>NaN</td>\n",
              "      <td>NaN</td>\n",
              "      <td>NaN</td>\n",
              "      <td>NaN</td>\n",
              "      <td>NaN</td>\n",
              "      <td>NaN</td>\n",
              "      <td>NaN</td>\n",
              "      <td>NaN</td>\n",
              "      <td>NaN</td>\n",
              "      <td>NaN</td>\n",
              "      <td>NaN</td>\n",
              "    </tr>\n",
              "    <tr>\n",
              "      <th>9100276</th>\n",
              "      <td>8006150254</td>\n",
              "      <td>193YUR</td>\n",
              "      <td>CT</td>\n",
              "      <td>PAS</td>\n",
              "      <td>06/25/2014</td>\n",
              "      <td>37</td>\n",
              "      <td>SUBN</td>\n",
              "      <td>CHEVR</td>\n",
              "      <td>T</td>\n",
              "      <td>40930</td>\n",
              "      <td>60830</td>\n",
              "      <td>74230</td>\n",
              "      <td>20140088</td>\n",
              "      <td>70.0</td>\n",
              "      <td>70</td>\n",
              "      <td>70</td>\n",
              "      <td>350442</td>\n",
              "      <td>T302</td>\n",
              "      <td>K</td>\n",
              "      <td>0454P</td>\n",
              "      <td>0229P</td>\n",
              "      <td>K</td>\n",
              "      <td>F</td>\n",
              "      <td>606</td>\n",
              "      <td>Flatbush Ave</td>\n",
              "      <td>NaN</td>\n",
              "      <td>0.0</td>\n",
              "      <td>408.0</td>\n",
              "      <td>h1</td>\n",
              "      <td>NaN</td>\n",
              "      <td>Y</td>\n",
              "      <td>0800A</td>\n",
              "      <td>0700P</td>\n",
              "      <td>BLACK</td>\n",
              "      <td>NaN</td>\n",
              "      <td>0.0</td>\n",
              "      <td>304-3007</td>\n",
              "      <td>0.0</td>\n",
              "      <td>10 3</td>\n",
              "      <td>37-Expired Muni Meter</td>\n",
              "      <td>NaN</td>\n",
              "      <td>NaN</td>\n",
              "      <td>NaN</td>\n",
              "      <td>NaN</td>\n",
              "      <td>NaN</td>\n",
              "      <td>NaN</td>\n",
              "      <td>NaN</td>\n",
              "      <td>NaN</td>\n",
              "      <td>NaN</td>\n",
              "      <td>NaN</td>\n",
              "      <td>NaN</td>\n",
              "    </tr>\n",
              "    <tr>\n",
              "      <th>9100277</th>\n",
              "      <td>8006150278</td>\n",
              "      <td>FPN7411</td>\n",
              "      <td>NY</td>\n",
              "      <td>PAS</td>\n",
              "      <td>06/25/2014</td>\n",
              "      <td>20</td>\n",
              "      <td>4DSD</td>\n",
              "      <td>CHEVR</td>\n",
              "      <td>T</td>\n",
              "      <td>40930</td>\n",
              "      <td>67047</td>\n",
              "      <td>54930</td>\n",
              "      <td>20150815</td>\n",
              "      <td>70.0</td>\n",
              "      <td>70</td>\n",
              "      <td>70</td>\n",
              "      <td>350442</td>\n",
              "      <td>T302</td>\n",
              "      <td>K</td>\n",
              "      <td>0507P</td>\n",
              "      <td>NaN</td>\n",
              "      <td>K</td>\n",
              "      <td>F</td>\n",
              "      <td>495</td>\n",
              "      <td>Flatbush Ave</td>\n",
              "      <td>NaN</td>\n",
              "      <td>0.0</td>\n",
              "      <td>408.0</td>\n",
              "      <td>d</td>\n",
              "      <td>NaN</td>\n",
              "      <td>YYYYYYY</td>\n",
              "      <td>NaN</td>\n",
              "      <td>NaN</td>\n",
              "      <td>RD</td>\n",
              "      <td>NaN</td>\n",
              "      <td>0.0</td>\n",
              "      <td>NaN</td>\n",
              "      <td>0.0</td>\n",
              "      <td>10 3</td>\n",
              "      <td>20A-No Parking (Non-COM)</td>\n",
              "      <td>NaN</td>\n",
              "      <td>NaN</td>\n",
              "      <td>NaN</td>\n",
              "      <td>NaN</td>\n",
              "      <td>NaN</td>\n",
              "      <td>NaN</td>\n",
              "      <td>NaN</td>\n",
              "      <td>NaN</td>\n",
              "      <td>NaN</td>\n",
              "      <td>NaN</td>\n",
              "      <td>NaN</td>\n",
              "    </tr>\n",
              "  </tbody>\n",
              "</table>\n",
              "<p>9100278 rows × 51 columns</p>\n",
              "</div>"
            ],
            "text/plain": [
              "         Summons Number Plate ID Registration State  ... BIN BBL  NTA\n",
              "0            1283294138  GBB9093                 NY  ... NaN NaN  NaN\n",
              "1            1283294151  62416MB                 NY  ... NaN NaN  NaN\n",
              "2            1283294163  78755JZ                 NY  ... NaN NaN  NaN\n",
              "3            1283294175  63009MA                 NY  ... NaN NaN  NaN\n",
              "4            1283294187  91648MC                 NY  ... NaN NaN  NaN\n",
              "...                 ...      ...                ...  ...  ..  ..  ...\n",
              "9100273      8006150199  16088MC                 NY  ... NaN NaN  NaN\n",
              "9100274      8006150217  94008JW                 NY  ... NaN NaN  NaN\n",
              "9100275      8006150242  FWG3729                 NY  ... NaN NaN  NaN\n",
              "9100276      8006150254   193YUR                 CT  ... NaN NaN  NaN\n",
              "9100277      8006150278  FPN7411                 NY  ... NaN NaN  NaN\n",
              "\n",
              "[9100278 rows x 51 columns]"
            ]
          },
          "metadata": {
            "tags": []
          },
          "execution_count": 4
        }
      ]
    },
    {
      "cell_type": "code",
      "metadata": {
        "colab": {
          "base_uri": "https://localhost:8080/",
          "height": 745
        },
        "id": "xUSvC13NAzTl",
        "outputId": "d10ec16b-13c3-41db-d213-ec0ac6d4c6e9"
      },
      "source": [
        "dataDF = pd.DataFrame(data)\n",
        "dataDF"
      ],
      "execution_count": 5,
      "outputs": [
        {
          "output_type": "execute_result",
          "data": {
            "text/html": [
              "<div>\n",
              "<style scoped>\n",
              "    .dataframe tbody tr th:only-of-type {\n",
              "        vertical-align: middle;\n",
              "    }\n",
              "\n",
              "    .dataframe tbody tr th {\n",
              "        vertical-align: top;\n",
              "    }\n",
              "\n",
              "    .dataframe thead th {\n",
              "        text-align: right;\n",
              "    }\n",
              "</style>\n",
              "<table border=\"1\" class=\"dataframe\">\n",
              "  <thead>\n",
              "    <tr style=\"text-align: right;\">\n",
              "      <th></th>\n",
              "      <th>Summons Number</th>\n",
              "      <th>Plate ID</th>\n",
              "      <th>Registration State</th>\n",
              "      <th>Plate Type</th>\n",
              "      <th>Issue Date</th>\n",
              "      <th>Violation Code</th>\n",
              "      <th>Vehicle Body Type</th>\n",
              "      <th>Vehicle Make</th>\n",
              "      <th>Issuing Agency</th>\n",
              "      <th>Street Code1</th>\n",
              "      <th>Street Code2</th>\n",
              "      <th>Street Code3</th>\n",
              "      <th>Vehicle Expiration Date</th>\n",
              "      <th>Violation Location</th>\n",
              "      <th>Violation Precinct</th>\n",
              "      <th>Issuer Precinct</th>\n",
              "      <th>Issuer Code</th>\n",
              "      <th>Issuer Command</th>\n",
              "      <th>Issuer Squad</th>\n",
              "      <th>Violation Time</th>\n",
              "      <th>Time First Observed</th>\n",
              "      <th>Violation County</th>\n",
              "      <th>Violation In Front Of Or Opposite</th>\n",
              "      <th>House Number</th>\n",
              "      <th>Street Name</th>\n",
              "      <th>Intersecting Street</th>\n",
              "      <th>Date First Observed</th>\n",
              "      <th>Law Section</th>\n",
              "      <th>Sub Division</th>\n",
              "      <th>Violation Legal Code</th>\n",
              "      <th>Days Parking In Effect</th>\n",
              "      <th>From Hours In Effect</th>\n",
              "      <th>To Hours In Effect</th>\n",
              "      <th>Vehicle Color</th>\n",
              "      <th>Unregistered Vehicle?</th>\n",
              "      <th>Vehicle Year</th>\n",
              "      <th>Meter Number</th>\n",
              "      <th>Feet From Curb</th>\n",
              "      <th>Violation Post Code</th>\n",
              "      <th>Violation Description</th>\n",
              "      <th>No Standing or Stopping Violation</th>\n",
              "      <th>Hydrant Violation</th>\n",
              "      <th>Double Parking Violation</th>\n",
              "      <th>Latitude</th>\n",
              "      <th>Longitude</th>\n",
              "      <th>Community Board</th>\n",
              "      <th>Community Council</th>\n",
              "      <th>Census Tract</th>\n",
              "      <th>BIN</th>\n",
              "      <th>BBL</th>\n",
              "      <th>NTA</th>\n",
              "    </tr>\n",
              "  </thead>\n",
              "  <tbody>\n",
              "    <tr>\n",
              "      <th>0</th>\n",
              "      <td>1283294138</td>\n",
              "      <td>GBB9093</td>\n",
              "      <td>NY</td>\n",
              "      <td>PAS</td>\n",
              "      <td>08/04/2013</td>\n",
              "      <td>46</td>\n",
              "      <td>SUBN</td>\n",
              "      <td>AUDI</td>\n",
              "      <td>P</td>\n",
              "      <td>37250</td>\n",
              "      <td>13610</td>\n",
              "      <td>21190</td>\n",
              "      <td>20140831</td>\n",
              "      <td>33.0</td>\n",
              "      <td>33</td>\n",
              "      <td>33</td>\n",
              "      <td>921043</td>\n",
              "      <td>0033</td>\n",
              "      <td>0</td>\n",
              "      <td>0752A</td>\n",
              "      <td>NaN</td>\n",
              "      <td>NaN</td>\n",
              "      <td>F</td>\n",
              "      <td>712</td>\n",
              "      <td>W 175 ST</td>\n",
              "      <td>NaN</td>\n",
              "      <td>0.0</td>\n",
              "      <td>408.0</td>\n",
              "      <td>F1</td>\n",
              "      <td>NaN</td>\n",
              "      <td>BBBBBBB</td>\n",
              "      <td>ALL</td>\n",
              "      <td>ALL</td>\n",
              "      <td>GY</td>\n",
              "      <td>0.0</td>\n",
              "      <td>2013.0</td>\n",
              "      <td>-</td>\n",
              "      <td>0.0</td>\n",
              "      <td>NaN</td>\n",
              "      <td>NaN</td>\n",
              "      <td>NaN</td>\n",
              "      <td>NaN</td>\n",
              "      <td>NaN</td>\n",
              "      <td>NaN</td>\n",
              "      <td>NaN</td>\n",
              "      <td>NaN</td>\n",
              "      <td>NaN</td>\n",
              "      <td>NaN</td>\n",
              "      <td>NaN</td>\n",
              "      <td>NaN</td>\n",
              "      <td>NaN</td>\n",
              "    </tr>\n",
              "    <tr>\n",
              "      <th>1</th>\n",
              "      <td>1283294151</td>\n",
              "      <td>62416MB</td>\n",
              "      <td>NY</td>\n",
              "      <td>COM</td>\n",
              "      <td>08/04/2013</td>\n",
              "      <td>46</td>\n",
              "      <td>VAN</td>\n",
              "      <td>FORD</td>\n",
              "      <td>P</td>\n",
              "      <td>37290</td>\n",
              "      <td>40404</td>\n",
              "      <td>40404</td>\n",
              "      <td>20140430</td>\n",
              "      <td>33.0</td>\n",
              "      <td>33</td>\n",
              "      <td>33</td>\n",
              "      <td>921043</td>\n",
              "      <td>0033</td>\n",
              "      <td>0</td>\n",
              "      <td>1240P</td>\n",
              "      <td>NaN</td>\n",
              "      <td>NY</td>\n",
              "      <td>O</td>\n",
              "      <td>201</td>\n",
              "      <td>W 177 ST</td>\n",
              "      <td>NaN</td>\n",
              "      <td>0.0</td>\n",
              "      <td>408.0</td>\n",
              "      <td>C</td>\n",
              "      <td>NaN</td>\n",
              "      <td>BBBBBBB</td>\n",
              "      <td>ALL</td>\n",
              "      <td>ALL</td>\n",
              "      <td>WH</td>\n",
              "      <td>0.0</td>\n",
              "      <td>2012.0</td>\n",
              "      <td>-</td>\n",
              "      <td>0.0</td>\n",
              "      <td>NaN</td>\n",
              "      <td>NaN</td>\n",
              "      <td>NaN</td>\n",
              "      <td>NaN</td>\n",
              "      <td>NaN</td>\n",
              "      <td>NaN</td>\n",
              "      <td>NaN</td>\n",
              "      <td>NaN</td>\n",
              "      <td>NaN</td>\n",
              "      <td>NaN</td>\n",
              "      <td>NaN</td>\n",
              "      <td>NaN</td>\n",
              "      <td>NaN</td>\n",
              "    </tr>\n",
              "    <tr>\n",
              "      <th>2</th>\n",
              "      <td>1283294163</td>\n",
              "      <td>78755JZ</td>\n",
              "      <td>NY</td>\n",
              "      <td>COM</td>\n",
              "      <td>08/05/2013</td>\n",
              "      <td>46</td>\n",
              "      <td>P-U</td>\n",
              "      <td>CHEVR</td>\n",
              "      <td>P</td>\n",
              "      <td>37030</td>\n",
              "      <td>31190</td>\n",
              "      <td>13610</td>\n",
              "      <td>20140228</td>\n",
              "      <td>33.0</td>\n",
              "      <td>33</td>\n",
              "      <td>33</td>\n",
              "      <td>921043</td>\n",
              "      <td>0033</td>\n",
              "      <td>0</td>\n",
              "      <td>1243P</td>\n",
              "      <td>NaN</td>\n",
              "      <td>NY</td>\n",
              "      <td>O</td>\n",
              "      <td>520</td>\n",
              "      <td>W 163 ST</td>\n",
              "      <td>NaN</td>\n",
              "      <td>0.0</td>\n",
              "      <td>408.0</td>\n",
              "      <td>F7</td>\n",
              "      <td>NaN</td>\n",
              "      <td>BBBBBBB</td>\n",
              "      <td>ALL</td>\n",
              "      <td>ALL</td>\n",
              "      <td>NaN</td>\n",
              "      <td>0.0</td>\n",
              "      <td>0.0</td>\n",
              "      <td>-</td>\n",
              "      <td>0.0</td>\n",
              "      <td>NaN</td>\n",
              "      <td>NaN</td>\n",
              "      <td>NaN</td>\n",
              "      <td>NaN</td>\n",
              "      <td>NaN</td>\n",
              "      <td>NaN</td>\n",
              "      <td>NaN</td>\n",
              "      <td>NaN</td>\n",
              "      <td>NaN</td>\n",
              "      <td>NaN</td>\n",
              "      <td>NaN</td>\n",
              "      <td>NaN</td>\n",
              "      <td>NaN</td>\n",
              "    </tr>\n",
              "    <tr>\n",
              "      <th>3</th>\n",
              "      <td>1283294175</td>\n",
              "      <td>63009MA</td>\n",
              "      <td>NY</td>\n",
              "      <td>COM</td>\n",
              "      <td>08/05/2013</td>\n",
              "      <td>46</td>\n",
              "      <td>VAN</td>\n",
              "      <td>FORD</td>\n",
              "      <td>P</td>\n",
              "      <td>37270</td>\n",
              "      <td>11710</td>\n",
              "      <td>12010</td>\n",
              "      <td>20141031</td>\n",
              "      <td>33.0</td>\n",
              "      <td>33</td>\n",
              "      <td>33</td>\n",
              "      <td>921043</td>\n",
              "      <td>0033</td>\n",
              "      <td>0</td>\n",
              "      <td>0232P</td>\n",
              "      <td>NaN</td>\n",
              "      <td>NY</td>\n",
              "      <td>O</td>\n",
              "      <td>517</td>\n",
              "      <td>W 176 ST</td>\n",
              "      <td>NaN</td>\n",
              "      <td>0.0</td>\n",
              "      <td>408.0</td>\n",
              "      <td>F1</td>\n",
              "      <td>NaN</td>\n",
              "      <td>BBBBBBB</td>\n",
              "      <td>ALL</td>\n",
              "      <td>ALL</td>\n",
              "      <td>WH</td>\n",
              "      <td>0.0</td>\n",
              "      <td>2010.0</td>\n",
              "      <td>-</td>\n",
              "      <td>0.0</td>\n",
              "      <td>NaN</td>\n",
              "      <td>NaN</td>\n",
              "      <td>NaN</td>\n",
              "      <td>NaN</td>\n",
              "      <td>NaN</td>\n",
              "      <td>NaN</td>\n",
              "      <td>NaN</td>\n",
              "      <td>NaN</td>\n",
              "      <td>NaN</td>\n",
              "      <td>NaN</td>\n",
              "      <td>NaN</td>\n",
              "      <td>NaN</td>\n",
              "      <td>NaN</td>\n",
              "    </tr>\n",
              "    <tr>\n",
              "      <th>4</th>\n",
              "      <td>1283294187</td>\n",
              "      <td>91648MC</td>\n",
              "      <td>NY</td>\n",
              "      <td>COM</td>\n",
              "      <td>08/08/2013</td>\n",
              "      <td>41</td>\n",
              "      <td>TRLR</td>\n",
              "      <td>GMC</td>\n",
              "      <td>P</td>\n",
              "      <td>37240</td>\n",
              "      <td>12010</td>\n",
              "      <td>31190</td>\n",
              "      <td>0</td>\n",
              "      <td>33.0</td>\n",
              "      <td>33</td>\n",
              "      <td>33</td>\n",
              "      <td>921043</td>\n",
              "      <td>0033</td>\n",
              "      <td>0</td>\n",
              "      <td>1239P</td>\n",
              "      <td>NaN</td>\n",
              "      <td>NY</td>\n",
              "      <td>F</td>\n",
              "      <td>590</td>\n",
              "      <td>W 174 ST</td>\n",
              "      <td>NaN</td>\n",
              "      <td>0.0</td>\n",
              "      <td>408.0</td>\n",
              "      <td>E1</td>\n",
              "      <td>NaN</td>\n",
              "      <td>BBBBBBB</td>\n",
              "      <td>ALL</td>\n",
              "      <td>ALL</td>\n",
              "      <td>BR</td>\n",
              "      <td>0.0</td>\n",
              "      <td>2012.0</td>\n",
              "      <td>-</td>\n",
              "      <td>0.0</td>\n",
              "      <td>NaN</td>\n",
              "      <td>NaN</td>\n",
              "      <td>NaN</td>\n",
              "      <td>NaN</td>\n",
              "      <td>NaN</td>\n",
              "      <td>NaN</td>\n",
              "      <td>NaN</td>\n",
              "      <td>NaN</td>\n",
              "      <td>NaN</td>\n",
              "      <td>NaN</td>\n",
              "      <td>NaN</td>\n",
              "      <td>NaN</td>\n",
              "      <td>NaN</td>\n",
              "    </tr>\n",
              "    <tr>\n",
              "      <th>...</th>\n",
              "      <td>...</td>\n",
              "      <td>...</td>\n",
              "      <td>...</td>\n",
              "      <td>...</td>\n",
              "      <td>...</td>\n",
              "      <td>...</td>\n",
              "      <td>...</td>\n",
              "      <td>...</td>\n",
              "      <td>...</td>\n",
              "      <td>...</td>\n",
              "      <td>...</td>\n",
              "      <td>...</td>\n",
              "      <td>...</td>\n",
              "      <td>...</td>\n",
              "      <td>...</td>\n",
              "      <td>...</td>\n",
              "      <td>...</td>\n",
              "      <td>...</td>\n",
              "      <td>...</td>\n",
              "      <td>...</td>\n",
              "      <td>...</td>\n",
              "      <td>...</td>\n",
              "      <td>...</td>\n",
              "      <td>...</td>\n",
              "      <td>...</td>\n",
              "      <td>...</td>\n",
              "      <td>...</td>\n",
              "      <td>...</td>\n",
              "      <td>...</td>\n",
              "      <td>...</td>\n",
              "      <td>...</td>\n",
              "      <td>...</td>\n",
              "      <td>...</td>\n",
              "      <td>...</td>\n",
              "      <td>...</td>\n",
              "      <td>...</td>\n",
              "      <td>...</td>\n",
              "      <td>...</td>\n",
              "      <td>...</td>\n",
              "      <td>...</td>\n",
              "      <td>...</td>\n",
              "      <td>...</td>\n",
              "      <td>...</td>\n",
              "      <td>...</td>\n",
              "      <td>...</td>\n",
              "      <td>...</td>\n",
              "      <td>...</td>\n",
              "      <td>...</td>\n",
              "      <td>...</td>\n",
              "      <td>...</td>\n",
              "      <td>...</td>\n",
              "    </tr>\n",
              "    <tr>\n",
              "      <th>9100273</th>\n",
              "      <td>8006150199</td>\n",
              "      <td>16088MC</td>\n",
              "      <td>NY</td>\n",
              "      <td>COM</td>\n",
              "      <td>06/25/2014</td>\n",
              "      <td>38</td>\n",
              "      <td>VAN</td>\n",
              "      <td>CHEVR</td>\n",
              "      <td>T</td>\n",
              "      <td>67530</td>\n",
              "      <td>26230</td>\n",
              "      <td>84730</td>\n",
              "      <td>88888888</td>\n",
              "      <td>70.0</td>\n",
              "      <td>70</td>\n",
              "      <td>70</td>\n",
              "      <td>350442</td>\n",
              "      <td>T302</td>\n",
              "      <td>K</td>\n",
              "      <td>0346P</td>\n",
              "      <td>NaN</td>\n",
              "      <td>K</td>\n",
              "      <td>F</td>\n",
              "      <td>522</td>\n",
              "      <td>Ocean Ave</td>\n",
              "      <td>NaN</td>\n",
              "      <td>0.0</td>\n",
              "      <td>408.0</td>\n",
              "      <td>h1</td>\n",
              "      <td>NaN</td>\n",
              "      <td>Y</td>\n",
              "      <td>0900A</td>\n",
              "      <td>0700P</td>\n",
              "      <td>WHITE</td>\n",
              "      <td>NaN</td>\n",
              "      <td>2011.0</td>\n",
              "      <td>NaN</td>\n",
              "      <td>0.0</td>\n",
              "      <td>10 3</td>\n",
              "      <td>38-Failure to Display Muni Rec</td>\n",
              "      <td>NaN</td>\n",
              "      <td>NaN</td>\n",
              "      <td>NaN</td>\n",
              "      <td>NaN</td>\n",
              "      <td>NaN</td>\n",
              "      <td>NaN</td>\n",
              "      <td>NaN</td>\n",
              "      <td>NaN</td>\n",
              "      <td>NaN</td>\n",
              "      <td>NaN</td>\n",
              "      <td>NaN</td>\n",
              "    </tr>\n",
              "    <tr>\n",
              "      <th>9100274</th>\n",
              "      <td>8006150217</td>\n",
              "      <td>94008JW</td>\n",
              "      <td>NY</td>\n",
              "      <td>COM</td>\n",
              "      <td>06/25/2014</td>\n",
              "      <td>38</td>\n",
              "      <td>VAN</td>\n",
              "      <td>CHEVR</td>\n",
              "      <td>T</td>\n",
              "      <td>26230</td>\n",
              "      <td>35680</td>\n",
              "      <td>67530</td>\n",
              "      <td>88888888</td>\n",
              "      <td>70.0</td>\n",
              "      <td>70</td>\n",
              "      <td>70</td>\n",
              "      <td>350442</td>\n",
              "      <td>T302</td>\n",
              "      <td>K</td>\n",
              "      <td>0414P</td>\n",
              "      <td>NaN</td>\n",
              "      <td>K</td>\n",
              "      <td>F</td>\n",
              "      <td>1913</td>\n",
              "      <td>Church Ave</td>\n",
              "      <td>NaN</td>\n",
              "      <td>0.0</td>\n",
              "      <td>408.0</td>\n",
              "      <td>h1</td>\n",
              "      <td>NaN</td>\n",
              "      <td>Y</td>\n",
              "      <td>0800A</td>\n",
              "      <td>0700P</td>\n",
              "      <td>WHITE</td>\n",
              "      <td>NaN</td>\n",
              "      <td>2007.0</td>\n",
              "      <td>NaN</td>\n",
              "      <td>0.0</td>\n",
              "      <td>10 3</td>\n",
              "      <td>38-Failure to Display Muni Rec</td>\n",
              "      <td>NaN</td>\n",
              "      <td>NaN</td>\n",
              "      <td>NaN</td>\n",
              "      <td>NaN</td>\n",
              "      <td>NaN</td>\n",
              "      <td>NaN</td>\n",
              "      <td>NaN</td>\n",
              "      <td>NaN</td>\n",
              "      <td>NaN</td>\n",
              "      <td>NaN</td>\n",
              "      <td>NaN</td>\n",
              "    </tr>\n",
              "    <tr>\n",
              "      <th>9100275</th>\n",
              "      <td>8006150242</td>\n",
              "      <td>FWG3729</td>\n",
              "      <td>NY</td>\n",
              "      <td>PAS</td>\n",
              "      <td>06/25/2014</td>\n",
              "      <td>70</td>\n",
              "      <td>SUBN</td>\n",
              "      <td>FORD</td>\n",
              "      <td>T</td>\n",
              "      <td>40930</td>\n",
              "      <td>40430</td>\n",
              "      <td>48230</td>\n",
              "      <td>20140531</td>\n",
              "      <td>70.0</td>\n",
              "      <td>70</td>\n",
              "      <td>70</td>\n",
              "      <td>350442</td>\n",
              "      <td>T302</td>\n",
              "      <td>K</td>\n",
              "      <td>0448P</td>\n",
              "      <td>NaN</td>\n",
              "      <td>K</td>\n",
              "      <td>F</td>\n",
              "      <td>654</td>\n",
              "      <td>Flatbush Ave</td>\n",
              "      <td>NaN</td>\n",
              "      <td>0.0</td>\n",
              "      <td>408.0</td>\n",
              "      <td>j3</td>\n",
              "      <td>NaN</td>\n",
              "      <td>YYYYYYY</td>\n",
              "      <td>NaN</td>\n",
              "      <td>NaN</td>\n",
              "      <td>WH</td>\n",
              "      <td>NaN</td>\n",
              "      <td>1996.0</td>\n",
              "      <td>NaN</td>\n",
              "      <td>0.0</td>\n",
              "      <td>10 3</td>\n",
              "      <td>70A-Reg. Sticker Expired (NYS)</td>\n",
              "      <td>NaN</td>\n",
              "      <td>NaN</td>\n",
              "      <td>NaN</td>\n",
              "      <td>NaN</td>\n",
              "      <td>NaN</td>\n",
              "      <td>NaN</td>\n",
              "      <td>NaN</td>\n",
              "      <td>NaN</td>\n",
              "      <td>NaN</td>\n",
              "      <td>NaN</td>\n",
              "      <td>NaN</td>\n",
              "    </tr>\n",
              "    <tr>\n",
              "      <th>9100276</th>\n",
              "      <td>8006150254</td>\n",
              "      <td>193YUR</td>\n",
              "      <td>CT</td>\n",
              "      <td>PAS</td>\n",
              "      <td>06/25/2014</td>\n",
              "      <td>37</td>\n",
              "      <td>SUBN</td>\n",
              "      <td>CHEVR</td>\n",
              "      <td>T</td>\n",
              "      <td>40930</td>\n",
              "      <td>60830</td>\n",
              "      <td>74230</td>\n",
              "      <td>20140088</td>\n",
              "      <td>70.0</td>\n",
              "      <td>70</td>\n",
              "      <td>70</td>\n",
              "      <td>350442</td>\n",
              "      <td>T302</td>\n",
              "      <td>K</td>\n",
              "      <td>0454P</td>\n",
              "      <td>0229P</td>\n",
              "      <td>K</td>\n",
              "      <td>F</td>\n",
              "      <td>606</td>\n",
              "      <td>Flatbush Ave</td>\n",
              "      <td>NaN</td>\n",
              "      <td>0.0</td>\n",
              "      <td>408.0</td>\n",
              "      <td>h1</td>\n",
              "      <td>NaN</td>\n",
              "      <td>Y</td>\n",
              "      <td>0800A</td>\n",
              "      <td>0700P</td>\n",
              "      <td>BLACK</td>\n",
              "      <td>NaN</td>\n",
              "      <td>0.0</td>\n",
              "      <td>304-3007</td>\n",
              "      <td>0.0</td>\n",
              "      <td>10 3</td>\n",
              "      <td>37-Expired Muni Meter</td>\n",
              "      <td>NaN</td>\n",
              "      <td>NaN</td>\n",
              "      <td>NaN</td>\n",
              "      <td>NaN</td>\n",
              "      <td>NaN</td>\n",
              "      <td>NaN</td>\n",
              "      <td>NaN</td>\n",
              "      <td>NaN</td>\n",
              "      <td>NaN</td>\n",
              "      <td>NaN</td>\n",
              "      <td>NaN</td>\n",
              "    </tr>\n",
              "    <tr>\n",
              "      <th>9100277</th>\n",
              "      <td>8006150278</td>\n",
              "      <td>FPN7411</td>\n",
              "      <td>NY</td>\n",
              "      <td>PAS</td>\n",
              "      <td>06/25/2014</td>\n",
              "      <td>20</td>\n",
              "      <td>4DSD</td>\n",
              "      <td>CHEVR</td>\n",
              "      <td>T</td>\n",
              "      <td>40930</td>\n",
              "      <td>67047</td>\n",
              "      <td>54930</td>\n",
              "      <td>20150815</td>\n",
              "      <td>70.0</td>\n",
              "      <td>70</td>\n",
              "      <td>70</td>\n",
              "      <td>350442</td>\n",
              "      <td>T302</td>\n",
              "      <td>K</td>\n",
              "      <td>0507P</td>\n",
              "      <td>NaN</td>\n",
              "      <td>K</td>\n",
              "      <td>F</td>\n",
              "      <td>495</td>\n",
              "      <td>Flatbush Ave</td>\n",
              "      <td>NaN</td>\n",
              "      <td>0.0</td>\n",
              "      <td>408.0</td>\n",
              "      <td>d</td>\n",
              "      <td>NaN</td>\n",
              "      <td>YYYYYYY</td>\n",
              "      <td>NaN</td>\n",
              "      <td>NaN</td>\n",
              "      <td>RD</td>\n",
              "      <td>NaN</td>\n",
              "      <td>0.0</td>\n",
              "      <td>NaN</td>\n",
              "      <td>0.0</td>\n",
              "      <td>10 3</td>\n",
              "      <td>20A-No Parking (Non-COM)</td>\n",
              "      <td>NaN</td>\n",
              "      <td>NaN</td>\n",
              "      <td>NaN</td>\n",
              "      <td>NaN</td>\n",
              "      <td>NaN</td>\n",
              "      <td>NaN</td>\n",
              "      <td>NaN</td>\n",
              "      <td>NaN</td>\n",
              "      <td>NaN</td>\n",
              "      <td>NaN</td>\n",
              "      <td>NaN</td>\n",
              "    </tr>\n",
              "  </tbody>\n",
              "</table>\n",
              "<p>9100278 rows × 51 columns</p>\n",
              "</div>"
            ],
            "text/plain": [
              "         Summons Number Plate ID Registration State  ... BIN BBL  NTA\n",
              "0            1283294138  GBB9093                 NY  ... NaN NaN  NaN\n",
              "1            1283294151  62416MB                 NY  ... NaN NaN  NaN\n",
              "2            1283294163  78755JZ                 NY  ... NaN NaN  NaN\n",
              "3            1283294175  63009MA                 NY  ... NaN NaN  NaN\n",
              "4            1283294187  91648MC                 NY  ... NaN NaN  NaN\n",
              "...                 ...      ...                ...  ...  ..  ..  ...\n",
              "9100273      8006150199  16088MC                 NY  ... NaN NaN  NaN\n",
              "9100274      8006150217  94008JW                 NY  ... NaN NaN  NaN\n",
              "9100275      8006150242  FWG3729                 NY  ... NaN NaN  NaN\n",
              "9100276      8006150254   193YUR                 CT  ... NaN NaN  NaN\n",
              "9100277      8006150278  FPN7411                 NY  ... NaN NaN  NaN\n",
              "\n",
              "[9100278 rows x 51 columns]"
            ]
          },
          "metadata": {
            "tags": []
          },
          "execution_count": 5
        }
      ]
    },
    {
      "cell_type": "markdown",
      "metadata": {
        "id": "_yKvYcEiCuis"
      },
      "source": [
        "#EDA"
      ]
    },
    {
      "cell_type": "markdown",
      "metadata": {
        "id": "f55wxZ4sCwBq"
      },
      "source": [
        "##State wise registration"
      ]
    },
    {
      "cell_type": "code",
      "metadata": {
        "colab": {
          "base_uri": "https://localhost:8080/"
        },
        "id": "SaA8HI1dC2D9",
        "outputId": "808dd0a8-852f-43e3-ee67-24f11ef28352"
      },
      "source": [
        "stateCount = dataDF['Registration State'].value_counts()[:10]\n",
        "stateCount"
      ],
      "execution_count": 6,
      "outputs": [
        {
          "output_type": "execute_result",
          "data": {
            "text/plain": [
              "NY    7029804\n",
              "NJ     878677\n",
              "PA     225760\n",
              "CT     136973\n",
              "FL     111887\n",
              "MA      78650\n",
              "VA      60951\n",
              "MD      50407\n",
              "IN      49126\n",
              "NC      47117\n",
              "Name: Registration State, dtype: int64"
            ]
          },
          "metadata": {
            "tags": []
          },
          "execution_count": 6
        }
      ]
    },
    {
      "cell_type": "code",
      "metadata": {
        "colab": {
          "base_uri": "https://localhost:8080/",
          "height": 530
        },
        "id": "dF_zfNv-FDSJ",
        "outputId": "3da2b05f-2b02-4d4f-f4a2-f3b6f8374216"
      },
      "source": [
        "plt.figure(figsize=(10,8))\n",
        "sns.barplot(x = stateCount.index, y = stateCount.values, palette=\"Dark2\")\n",
        "plt.title('Top 10 states ')\n",
        "plt.xlabel('States')\n",
        "plt.ylabel('Count')"
      ],
      "execution_count": 7,
      "outputs": [
        {
          "output_type": "execute_result",
          "data": {
            "text/plain": [
              "Text(0, 0.5, 'Count')"
            ]
          },
          "metadata": {
            "tags": []
          },
          "execution_count": 7
        },
        {
          "output_type": "display_data",
          "data": {
            "image/png": "[encoded data removed]",
            "text/plain": [
              "<Figure size 720x576 with 1 Axes>"
            ]
          },
          "metadata": {
            "tags": [],
            "needs_background": "light"
          }
        }
      ]
    },
    {
      "cell_type": "markdown",
      "metadata": {
        "id": "zjljQMhfJMpT"
      },
      "source": [
        "##Timing of Tickets"
      ]
    },
    {
      "cell_type": "code",
      "metadata": {
        "colab": {
          "base_uri": "https://localhost:8080/"
        },
        "id": "onBZzT_PJT1n",
        "outputId": "fefab2a9-88e3-4c3f-a3c6-8ccdaf426460"
      },
      "source": [
        "violationTime = dataDF['Violation Time'].value_counts()[:30]\n",
        "violationTime"
      ],
      "execution_count": 8,
      "outputs": [
        {
          "output_type": "execute_result",
          "data": {
            "text/plain": [
              "0836A    27495\n",
              "1136A    23682\n",
              "0806A    23229\n",
              "0936A    22780\n",
              "1140A    22323\n",
              "0906A    22291\n",
              "0840A    22215\n",
              "0940A    21360\n",
              "0838A    20529\n",
              "0837A    20365\n",
              "1145A    20148\n",
              "1139A    19917\n",
              "1138A    19906\n",
              "0839A    19850\n",
              "1137A    19697\n",
              "0945A    19564\n",
              "0910A    19499\n",
              "0845A    19379\n",
              "1141A    19350\n",
              "0938A    19342\n",
              "1142A    19166\n",
              "0937A    19023\n",
              "0841A    19003\n",
              "0939A    18866\n",
              "1143A    18790\n",
              "1150A    18670\n",
              "0907A    18657\n",
              "0908A    18413\n",
              "0950A    18368\n",
              "0941A    18307\n",
              "Name: Violation Time, dtype: int64"
            ]
          },
          "metadata": {
            "tags": []
          },
          "execution_count": 8
        }
      ]
    },
    {
      "cell_type": "code",
      "metadata": {
        "colab": {
          "base_uri": "https://localhost:8080/",
          "height": 550
        },
        "id": "-fnHfG-jKJoE",
        "outputId": "02aeb51a-0e71-44f7-d50e-d9f026e68848"
      },
      "source": [
        "plt.figure(figsize=(15,8))\n",
        "sns.barplot(x = violationTime.index, y = violationTime.values)\n",
        "plt.xticks(rotation=45, horizontalalignment='right')\n",
        "plt.title('Violation time slots')\n",
        "plt.xlabel('Time')\n",
        "plt.ylabel('Count')"
      ],
      "execution_count": 9,
      "outputs": [
        {
          "output_type": "execute_result",
          "data": {
            "text/plain": [
              "Text(0, 0.5, 'Count')"
            ]
          },
          "metadata": {
            "tags": []
          },
          "execution_count": 9
        },
        {
          "output_type": "display_data",
          "data": {
            "image/png": "[encoded data removed]",
            "text/plain": [
              "<Figure size 1080x576 with 1 Axes>"
            ]
          },
          "metadata": {
            "tags": [],
            "needs_background": "light"
          }
        }
      ]
    },
    {
      "cell_type": "markdown",
      "metadata": {
        "id": "Ge9XATeWL2pu"
      },
      "source": [
        "##Month wise tickets "
      ]
    },
    {
      "cell_type": "code",
      "metadata": {
        "colab": {
          "base_uri": "https://localhost:8080/"
        },
        "id": "ydTxPVeHL36Y",
        "outputId": "b3d34695-0864-40f8-d9d3-5c07a93b8922"
      },
      "source": [
        "month = []\n",
        "for timeStamp in pd.to_datetime(dataDF['Issue Date']):\n",
        "  month.append(timeStamp.month)\n",
        "\n",
        "monthWise = pd.Series(month).value_counts()\n",
        "monthWise"
      ],
      "execution_count": 10,
      "outputs": [
        {
          "output_type": "execute_result",
          "data": {
            "text/plain": [
              "10    953458\n",
              "3     907505\n",
              "5     898409\n",
              "4     860217\n",
              "11    848647\n",
              "8     838950\n",
              "9     827402\n",
              "12    734760\n",
              "1     722439\n",
              "6     681133\n",
              "2     654201\n",
              "7     173157\n",
              "dtype: int64"
            ]
          },
          "metadata": {
            "tags": []
          },
          "execution_count": 10
        }
      ]
    },
    {
      "cell_type": "code",
      "metadata": {
        "colab": {
          "base_uri": "https://localhost:8080/"
        },
        "id": "rPH14YMz21Jt",
        "outputId": "17b0550d-ed7e-481e-beb9-add5190615c6"
      },
      "source": [
        "monthWiseNew = monthWise.rename(index= {1:'Jan', 2: 'Feb', 3: 'Mar', 4: 'Apr', 5:'May', 6:'June', 7: 'July', 8: 'Aug', 9: 'Sept', 10:'Oct', 11:'Nov', 12:'Dec'})\n",
        "monthWiseNew"
      ],
      "execution_count": 11,
      "outputs": [
        {
          "output_type": "execute_result",
          "data": {
            "text/plain": [
              "Oct     953458\n",
              "Mar     907505\n",
              "May     898409\n",
              "Apr     860217\n",
              "Nov     848647\n",
              "Aug     838950\n",
              "Sept    827402\n",
              "Dec     734760\n",
              "Jan     722439\n",
              "June    681133\n",
              "Feb     654201\n",
              "July    173157\n",
              "dtype: int64"
            ]
          },
          "metadata": {
            "tags": []
          },
          "execution_count": 11
        }
      ]
    },
    {
      "cell_type": "code",
      "metadata": {
        "colab": {
          "base_uri": "https://localhost:8080/",
          "height": 550
        },
        "id": "n5yJRVy53_Wu",
        "outputId": "ff5e7edf-3370-41b0-d47e-d2a1cfc7ddcf"
      },
      "source": [
        "sns.set()\n",
        "plt.figure(figsize=(15,8))\n",
        "sns.barplot(x = monthWiseNew.index, y = monthWiseNew.values, palette='autumn')\n",
        "plt.xticks(rotation=45, horizontalalignment='right')\n",
        "plt.title('Ticket Month')\n",
        "plt.xlabel('Month')\n",
        "plt.ylabel('Count')"
      ],
      "execution_count": 12,
      "outputs": [
        {
          "output_type": "execute_result",
          "data": {
            "text/plain": [
              "Text(0, 0.5, 'Count')"
            ]
          },
          "metadata": {
            "tags": []
          },
          "execution_count": 12
        },
        {
          "output_type": "display_data",
          "data": {
            "image/png": "[encoded data removed]",
            "text/plain": [
              "<Figure size 1080x576 with 1 Axes>"
            ]
          },
          "metadata": {
            "tags": []
          }
        }
      ]
    },
    {
      "cell_type": "markdown",
      "metadata": {
        "id": "x8v9S-ut513e"
      },
      "source": [
        "##Car brand & Vehicle type"
      ]
    },
    {
      "cell_type": "code",
      "metadata": {
        "colab": {
          "base_uri": "https://localhost:8080/"
        },
        "id": "rZicPS2-IJvI",
        "outputId": "ccf266dd-0533-49a0-9620-a893e6f10c8f"
      },
      "source": [
        "carMake = dataDF['Vehicle Make'].value_counts()[:20]\n",
        "carMake"
      ],
      "execution_count": 13,
      "outputs": [
        {
          "output_type": "execute_result",
          "data": {
            "text/plain": [
              "FORD     1248622\n",
              "TOYOT     878786\n",
              "HONDA     810460\n",
              "CHEVR     743556\n",
              "NISSA     655276\n",
              "DODGE     316499\n",
              "GMC       313671\n",
              "ME/BE     299845\n",
              "FRUEH     289634\n",
              "INTER     277444\n",
              "BMW       270968\n",
              "JEEP      213572\n",
              "HYUND     190631\n",
              "LEXUS     181642\n",
              "ACURA     161959\n",
              "VOLKS     161355\n",
              "CHRYS     156748\n",
              "LINCO     147662\n",
              "MITSU     129208\n",
              "INFIN     124514\n",
              "Name: Vehicle Make, dtype: int64"
            ]
          },
          "metadata": {
            "tags": []
          },
          "execution_count": 13
        }
      ]
    },
    {
      "cell_type": "code",
      "metadata": {
        "colab": {
          "base_uri": "https://localhost:8080/"
        },
        "id": "MpHyjmyDKZNQ",
        "outputId": "186ddb83-6343-467e-9341-0625384b1910"
      },
      "source": [
        "vehicleMakeType = dataDF['Vehicle Body Type'].value_counts()[:20]\n",
        "vehicleMakeType"
      ],
      "execution_count": 14,
      "outputs": [
        {
          "output_type": "execute_result",
          "data": {
            "text/plain": [
              "SUBN    2797693\n",
              "4DSD    2513584\n",
              "VAN     1384393\n",
              "DELV     730526\n",
              "SDN      441801\n",
              "2DSD     255204\n",
              "PICK     226120\n",
              "UTIL      78454\n",
              "REFG      64904\n",
              "TRAC      62699\n",
              "TRLR      55643\n",
              "TAXI      50946\n",
              "BUS       43382\n",
              "CONV      41714\n",
              "MCY       28976\n",
              "P-U       24036\n",
              "4 DR      20630\n",
              "FLAT      12894\n",
              "WAGO      11936\n",
              "T/CR      11231\n",
              "Name: Vehicle Body Type, dtype: int64"
            ]
          },
          "metadata": {
            "tags": []
          },
          "execution_count": 14
        }
      ]
    },
    {
      "cell_type": "code",
      "metadata": {
        "colab": {
          "base_uri": "https://localhost:8080/",
          "height": 556
        },
        "id": "3DYjVXlvMGhd",
        "outputId": "3928e63b-34ac-4588-e219-9ff7eba3a426"
      },
      "source": [
        "sns.set()\n",
        "\n",
        "fig, (ax1,ax2) = plt.subplots(2, 1, figsize=(15, 8))\n",
        "sns.barplot(x = vehicleMakeType.index, y=vehicleMakeType.values, palette='muted',label=\"Vehicle Type\", color=\"r\", ax=ax1)\n",
        "ax1.set_ylabel('Count')\n",
        "plt.xticks(rotation=45, horizontalalignment='right')\n",
        "\n",
        "sns.barplot(x = carMake.index, y = carMake.values, palette='pastel', label=\"Car Make\", color=\"b\", ax=ax2)\n",
        "ax2.set_ylabel('Count')\n",
        "plt.xticks(rotation=45, horizontalalignment='right')\n"
      ],
      "execution_count": 15,
      "outputs": [
        {
          "output_type": "execute_result",
          "data": {
            "text/plain": [
              "(array([ 0,  1,  2,  3,  4,  5,  6,  7,  8,  9, 10, 11, 12, 13, 14, 15, 16,\n",
              "        17, 18, 19]), <a list of 20 Text major ticklabel objects>)"
            ]
          },
          "metadata": {
            "tags": []
          },
          "execution_count": 15
        },
        {
          "output_type": "display_data",
          "data": {
            "image/png": "[encoded data removed]",
            "text/plain": [
              "<Figure size 1080x576 with 2 Axes>"
            ]
          },
          "metadata": {
            "tags": []
          }
        }
      ]
    },
    {
      "cell_type": "markdown",
      "metadata": {
        "id": "gq-2qrwwTmCO"
      },
      "source": [
        "##Colorwise"
      ]
    },
    {
      "cell_type": "code",
      "metadata": {
        "colab": {
          "base_uri": "https://localhost:8080/"
        },
        "id": "gyH155gkT61W",
        "outputId": "e3be2902-9ded-4133-b2c7-6352b5e2935a"
      },
      "source": [
        "vehicleColor = dataDF['Vehicle Color'].value_counts()[:20]\n",
        "vehicleColor"
      ],
      "execution_count": 16,
      "outputs": [
        {
          "output_type": "execute_result",
          "data": {
            "text/plain": [
              "WHITE    1349234\n",
              "GY       1214514\n",
              "WH       1192996\n",
              "BK        941231\n",
              "BLACK     665519\n",
              "BL        442464\n",
              "GREY      417286\n",
              "SILVE     313929\n",
              "BLUE      301353\n",
              "RD        272836\n",
              "BROWN     271122\n",
              "RED       265215\n",
              "GR        201825\n",
              "GREEN     151007\n",
              "TN        132612\n",
              "OTHER      91436\n",
              "BR         71921\n",
              "TAN        70600\n",
              "YW         70001\n",
              "BLK        69288\n",
              "Name: Vehicle Color, dtype: int64"
            ]
          },
          "metadata": {
            "tags": []
          },
          "execution_count": 16
        }
      ]
    },
    {
      "cell_type": "code",
      "metadata": {
        "colab": {
          "base_uri": "https://localhost:8080/",
          "height": 563
        },
        "id": "YB4WaxPhUjKS",
        "outputId": "672021a2-dabe-4cc4-e69f-43982884add5"
      },
      "source": [
        "sns.set()\n",
        "plt.figure(figsize=(15,8))\n",
        "sns.barplot(x = vehicleColor.index, y = vehicleColor.values, palette='copper')\n",
        "plt.xticks(rotation=45, horizontalalignment='right')\n",
        "plt.title('Vehicle Color')\n",
        "plt.xlabel('Color')\n",
        "plt.ylabel('Count')"
      ],
      "execution_count": 17,
      "outputs": [
        {
          "output_type": "execute_result",
          "data": {
            "text/plain": [
              "Text(0, 0.5, 'Count')"
            ]
          },
          "metadata": {
            "tags": []
          },
          "execution_count": 17
        },
        {
          "output_type": "display_data",
          "data": {
            "image/png": "[encoded data removed]",
            "text/plain": [
              "<Figure size 1080x576 with 1 Axes>"
            ]
          },
          "metadata": {
            "tags": []
          }
        }
      ]
    },
    {
      "cell_type": "markdown",
      "metadata": {
        "id": "44pLLRIDVTDN"
      },
      "source": [
        "##Location wise "
      ]
    },
    {
      "cell_type": "code",
      "metadata": {
        "colab": {
          "base_uri": "https://localhost:8080/"
        },
        "id": "L8owWvlZVT6Q",
        "outputId": "bde463a0-2095-4078-fde8-1ceed2565af0"
      },
      "source": [
        "location = dataDF['Street Name'].value_counts()[:20]\n",
        "location"
      ],
      "execution_count": 18,
      "outputs": [
        {
          "output_type": "execute_result",
          "data": {
            "text/plain": [
              "Broadway                201980\n",
              "3rd Ave                 148186\n",
              "5th Ave                  97622\n",
              "Madison Ave              92179\n",
              "Lexington Ave            79125\n",
              "1st Ave                  69512\n",
              "2nd Ave                  67751\n",
              "Queens Blvd              60770\n",
              "7th Ave                  59656\n",
              "8th Ave                  56147\n",
              "Amsterdam Ave            55472\n",
              "6th Ave                  50853\n",
              "Jamaica Ave              48552\n",
              "Park Ave                 47675\n",
              "Columbus Ave             40221\n",
              "37th Ave                 36225\n",
              "Coney Island Ave         35776\n",
              "HORACE HARDING EXPWY     33948\n",
              "Roosevelt Ave            33250\n",
              "White Plains Rd          31732\n",
              "Name: Street Name, dtype: int64"
            ]
          },
          "metadata": {
            "tags": []
          },
          "execution_count": 18
        }
      ]
    },
    {
      "cell_type": "code",
      "metadata": {
        "colab": {
          "base_uri": "https://localhost:8080/",
          "height": 560
        },
        "id": "6cyKz3LcXYi0",
        "outputId": "d334302b-2cee-4ede-aa86-30e1b9ae8c92"
      },
      "source": [
        "sns.set()\n",
        "plt.figure(figsize=(15,8))\n",
        "sns.barplot(x = location.values, y = location.index, palette='flare')\n",
        "plt.xticks(rotation=45, horizontalalignment='right')\n",
        "plt.title('Location wise tickets')\n",
        "plt.xlabel('Count')\n",
        "plt.ylabel('Street Name')"
      ],
      "execution_count": 19,
      "outputs": [
        {
          "output_type": "execute_result",
          "data": {
            "text/plain": [
              "Text(0, 0.5, 'Street Name')"
            ]
          },
          "metadata": {
            "tags": []
          },
          "execution_count": 19
        },
        {
          "output_type": "display_data",
          "data": {
            "image/png": "[encoded data removed]",
            "text/plain": [
              "<Figure size 1080x576 with 1 Axes>"
            ]
          },
          "metadata": {
            "tags": []
          }
        }
      ]
    },
    {
      "cell_type": "markdown",
      "metadata": {
        "id": "qs5uGJfkYPkD"
      },
      "source": [
        "##Manufacture year wise "
      ]
    },
    {
      "cell_type": "code",
      "metadata": {
        "colab": {
          "base_uri": "https://localhost:8080/"
        },
        "id": "zgBsa5v4YQcw",
        "outputId": "415dd99f-9200-4d96-8fc0-87a799f88ae3"
      },
      "source": [
        "manuYearWise = dataDF['Vehicle Year'].value_counts()\n",
        "manuYearWise"
      ],
      "execution_count": 20,
      "outputs": [
        {
          "output_type": "execute_result",
          "data": {
            "text/plain": [
              "0.0       2416245\n",
              "2013.0     784427\n",
              "2012.0     647424\n",
              "2011.0     511126\n",
              "2007.0     482137\n",
              "           ...   \n",
              "2036.0          3\n",
              "2032.0          3\n",
              "2038.0          2\n",
              "2035.0          2\n",
              "2034.0          2\n",
              "Name: Vehicle Year, Length: 100, dtype: int64"
            ]
          },
          "metadata": {
            "tags": []
          },
          "execution_count": 20
        }
      ]
    },
    {
      "cell_type": "code",
      "metadata": {
        "colab": {
          "base_uri": "https://localhost:8080/",
          "height": 520
        },
        "id": "Spumct-UlbgA",
        "outputId": "c79dfcb1-448f-4eb3-c4ff-3ca67f168ec2"
      },
      "source": [
        "sns.set()\n",
        "plt.figure(figsize=(19,8))\n",
        "sns.barplot(x = manuYearWise.values, y = manuYearWise.index, palette='cool')\n",
        "plt.xticks(rotation=90, horizontalalignment='right')\n",
        "plt.title('Manufacture Make year')\n",
        "plt.xlabel('Count')\n",
        "plt.ylabel('Street Name')"
      ],
      "execution_count": 21,
      "outputs": [
        {
          "output_type": "execute_result",
          "data": {
            "text/plain": [
              "Text(0, 0.5, 'Street Name')"
            ]
          },
          "metadata": {
            "tags": []
          },
          "execution_count": 21
        },
        {
          "output_type": "display_data",
          "data": {
            "image/png": "[encoded data removed]",
            "text/plain": [
              "<Figure size 1368x576 with 1 Axes>"
            ]
          },
          "metadata": {
            "tags": []
          }
        }
      ]
    },
    {
      "cell_type": "markdown",
      "metadata": {
        "id": "1wqAQ1oF6lnk"
      },
      "source": [
        "##Violations per violation code"
      ]
    },
    {
      "cell_type": "code",
      "metadata": {
        "colab": {
          "base_uri": "https://localhost:8080/"
        },
        "id": "X-zyleNg6oe3",
        "outputId": "26f030c9-c1d0-4d55-bafb-6b91a35b1a9e"
      },
      "source": [
        "violationCode = dataDF['Violation Description'].value_counts()[:20]\n",
        "violationCode"
      ],
      "execution_count": 22,
      "outputs": [
        {
          "output_type": "execute_result",
          "data": {
            "text/plain": [
              "38-Failure to Display Muni Rec    1230036\n",
              "21-No Parking (street clean)      1086680\n",
              "14-No Standing                     753561\n",
              "37-Expired Muni Meter              731697\n",
              "FAILURE TO STOP AT RED LIGHT       433193\n",
              "71A-Insp Sticker Expired (NYS)     411976\n",
              "20A-No Parking (Non-COM)           410177\n",
              "40-Fire Hydrant                    353899\n",
              "69-Failure to Disp Muni Recpt      258719\n",
              "19-No Stand (bus stop)             203334\n",
              "31-No Stand (Com. Mtr. Zone)       169122\n",
              "70A-Reg. Sticker Expired (NYS)     167319\n",
              "46A-Double Parking (Non-COM)       158295\n",
              "BUS LANE VIOLATION                 131488\n",
              "16A-No Std (Com Veh) Non-COM       112608\n",
              "47-Double PKG-Midtown              102598\n",
              "16-No Std (Com Veh) Com Plate       97796\n",
              "PHTO SCHOOL ZN SPEED VIOLATION      89756\n",
              "42-Exp. Muni-Mtr (Com. Mtr. Z)      86229\n",
              "17-No Stand (exc auth veh)          84062\n",
              "Name: Violation Description, dtype: int64"
            ]
          },
          "metadata": {
            "tags": []
          },
          "execution_count": 22
        }
      ]
    },
    {
      "cell_type": "code",
      "metadata": {
        "colab": {
          "base_uri": "https://localhost:8080/",
          "height": 609
        },
        "id": "xnBy5vw860l7",
        "outputId": "bd738944-1b30-4dc4-ce4b-95e99ed0662d"
      },
      "source": [
        "plt.figure(figsize=(15,10))\n",
        "sns.barplot(x = violationCode.values, y = violationCode.index, palette='viridis')\n",
        "plt.title('Top 20 Violations')\n",
        "plt.xlabel('Number of Violations per Violation Code')\n",
        "plt.ylabel('Violation Code and Description')"
      ],
      "execution_count": 23,
      "outputs": [
        {
          "output_type": "execute_result",
          "data": {
            "text/plain": [
              "Text(0, 0.5, 'Violation Code and Description')"
            ]
          },
          "metadata": {
            "tags": []
          },
          "execution_count": 23
        },
        {
          "output_type": "display_data",
          "data": {
            "image/png": "[encoded data removed]",
            "text/plain": [
              "<Figure size 1080x720 with 1 Axes>"
            ]
          },
          "metadata": {
            "tags": []
          }
        }
      ]
    },
    {
      "cell_type": "markdown",
      "metadata": {
        "id": "LRuxyIIV73kS"
      },
      "source": [
        "##Vehicle Presinct"
      ]
    },
    {
      "cell_type": "code",
      "metadata": {
        "colab": {
          "base_uri": "https://localhost:8080/"
        },
        "id": "-C0tUIwe76Dt",
        "outputId": "f6b8baa7-bf88-4d7e-8451-1f0a5e556beb"
      },
      "source": [
        "vehiclePresinct = dataDF['Violation Precinct'].value_counts(ascending = False)[:20]\n",
        "vehiclePresinct"
      ],
      "execution_count": 30,
      "outputs": [
        {
          "output_type": "execute_result",
          "data": {
            "text/plain": [
              "0      671170\n",
              "19     496806\n",
              "18     448813\n",
              "14     363920\n",
              "1      269811\n",
              "17     259590\n",
              "114    252665\n",
              "13     245682\n",
              "109    221658\n",
              "20     188662\n",
              "84     188097\n",
              "103    159974\n",
              "112    159387\n",
              "70     157770\n",
              "6      155025\n",
              "115    154423\n",
              "61     145411\n",
              "108    142465\n",
              "10     140997\n",
              "52     134083\n",
              "Name: Violation Precinct, dtype: int64"
            ]
          },
          "metadata": {
            "tags": []
          },
          "execution_count": 30
        }
      ]
    },
    {
      "cell_type": "code",
      "metadata": {
        "colab": {
          "base_uri": "https://localhost:8080/",
          "height": 644
        },
        "id": "MnP6obdu8ODQ",
        "outputId": "26f5489a-b9a0-4877-be3f-f5433309b368"
      },
      "source": [
        "plt.figure(figsize=(15,10))\n",
        "sns.barplot(x = vehiclePresinct.index, y = vehiclePresinct.values, palette='magma')\n",
        "plt.title('Top 20 Presinct issuing tickets')\n",
        "plt.xlabel('Presinct Numbers')\n",
        "plt.ylabel('Count')"
      ],
      "execution_count": 34,
      "outputs": [
        {
          "output_type": "execute_result",
          "data": {
            "text/plain": [
              "Text(0, 0.5, 'Count')"
            ]
          },
          "metadata": {
            "tags": []
          },
          "execution_count": 34
        },
        {
          "output_type": "display_data",
          "data": {
            "image/png": "[encoded data removed]",
            "text/plain": [
              "<Figure size 1080x720 with 1 Axes>"
            ]
          },
          "metadata": {
            "tags": []
          }
        }
      ]
    }
  ]
}